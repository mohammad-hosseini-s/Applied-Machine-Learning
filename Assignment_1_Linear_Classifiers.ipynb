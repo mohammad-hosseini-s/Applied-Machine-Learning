{
  "nbformat": 4,
  "nbformat_minor": 0,
  "metadata": {
    "kernelspec": {
      "display_name": "Python 3.7.6 64-bit",
      "language": "python",
      "name": "python37664bit17cc54603a5a49bf946cac7f856dc37b"
    },
    "language_info": {
      "codemirror_mode": {
        "name": "ipython",
        "version": 3
      },
      "file_extension": ".py",
      "mimetype": "text/x-python",
      "name": "python",
      "nbconvert_exporter": "python",
      "pygments_lexer": "ipython3",
      "version": "3.7.6"
    },
    "colab": {
      "name": "Assignment 1_Linear Classifiers.ipynb",
      "provenance": [],
      "toc_visible": true,
      "include_colab_link": true
    }
  },
  "cells": [
    {
      "cell_type": "markdown",
      "metadata": {
        "id": "view-in-github",
        "colab_type": "text"
      },
      "source": [
        "<a href=\"https://colab.research.google.com/github/mohammad-hosseini-s/Applied-Machine-Learning/blob/master/Assignment_1_Linear_Classifiers.ipynb\" target=\"_parent\"><img src=\"https://colab.research.google.com/assets/colab-badge.svg\" alt=\"Open In Colab\"/></a>"
      ]
    },
    {
      "cell_type": "markdown",
      "metadata": {
        "id": "mrkV37FOaQPp",
        "colab_type": "text"
      },
      "source": [
        " # Applied Machine Learning, Assignment 1: Linear classiers (Perceptron, SVM)\n",
        "-----"
      ]
    },
    {
      "cell_type": "markdown",
      "metadata": {
        "id": "hCuhCTZuaQPq",
        "colab_type": "text"
      },
      "source": [
        "In this assignment, you will explore linear classication on the forest cover-type dataset created by Jock Blackard et. al. in 1998. It is used frequently enough that scikit-learn has made it a standard dataset.  \n",
        "https://scikit-learn.org/stable/datasets/index.html#covtype-dataset  \n",
        "https://archive.ics.uci.edu/ml/datasets/Covertype  \n",
        "The data set includes 54 features (reals, integers, and booleans) and 7 classications numbered 1-7: spruce/firr, lodgepole pine, Ponderosa pine, cottonwood/willow, aspen, Douglas-fir, and Krummholz. The scikit-learn implementation has converted all of these values to real numbers."
      ]
    },
    {
      "cell_type": "markdown",
      "metadata": {
        "id": "oqprbWFOaQPr",
        "colab_type": "text"
      },
      "source": [
        "## 1. Importing and Partitioning the Data\n",
        "### 1.1 Get the Data"
      ]
    },
    {
      "cell_type": "markdown",
      "metadata": {
        "id": "mG8x4C5KaQPs",
        "colab_type": "text"
      },
      "source": [
        "Using scikit-learn, import the Forest covertype data set, shuffling it with random state 5984 in the call to fetch it. Set these to X and y."
      ]
    },
    {
      "cell_type": "code",
      "metadata": {
        "id": "gU6iBhFwaQPs",
        "colab_type": "code",
        "colab": {
          "base_uri": "https://localhost:8080/",
          "height": 202
        },
        "outputId": "325c6d5b-4e7e-4153-d738-72a7a33fd464"
      },
      "source": [
        "# import libraries\n",
        "%matplotlib inline\n",
        "from sklearn import datasets\n",
        "import pandas as pd  \n",
        "import numpy as np  \n",
        "import matplotlib.pyplot as plt\n",
        "\n",
        "# fetch dataset, set random_state and shuffle\n",
        "covtype = datasets.fetch_covtype(data_home=None, download_if_missing=True, random_state=5984, shuffle=True)\n",
        "X = covtype[\"data\"]\n",
        "y = covtype[\"target\"]\n",
        "\n",
        "print(\"X = \\n\" + str(X) + \"\\n\")\n",
        "print(\"y = \" + str(y))"
      ],
      "execution_count": null,
      "outputs": [
        {
          "output_type": "stream",
          "text": [
            "Downloading https://ndownloader.figshare.com/files/5976039\n"
          ],
          "name": "stderr"
        },
        {
          "output_type": "stream",
          "text": [
            "X = \n",
            "[[2903.   87.   27. ...    0.    0.    0.]\n",
            " [2674.   52.   11. ...    0.    0.    0.]\n",
            " [2867.  357.   14. ...    0.    0.    0.]\n",
            " ...\n",
            " [3053.  166.   18. ...    0.    0.    0.]\n",
            " [2981.  352.   18. ...    0.    0.    0.]\n",
            " [3041.   37.    5. ...    0.    0.    0.]]\n",
            "\n",
            "y = [5 2 2 ... 1 2 1]\n"
          ],
          "name": "stdout"
        }
      ]
    },
    {
      "cell_type": "code",
      "metadata": {
        "id": "dphgT5aVaQPz",
        "colab_type": "code",
        "colab": {
          "base_uri": "https://localhost:8080/",
          "height": 50
        },
        "outputId": "4edb87ff-2118-4efd-c2f8-078e12371884"
      },
      "source": [
        "print(\"X dim =\", X.shape, \"\\ny dim =\", y.shape)"
      ],
      "execution_count": null,
      "outputs": [
        {
          "output_type": "stream",
          "text": [
            "X dim = (581012, 54) \n",
            "y dim = (581012,)\n"
          ],
          "name": "stdout"
        }
      ]
    },
    {
      "cell_type": "markdown",
      "metadata": {
        "id": "yULW_7LLaQP7",
        "colab_type": "text"
      },
      "source": [
        "-----\n",
        "### 1.2 Checking the Labels"
      ]
    },
    {
      "cell_type": "markdown",
      "metadata": {
        "id": "Qji78nHcaQP7",
        "colab_type": "text"
      },
      "source": [
        "How many instances of each of the seven classes exist in the data set?"
      ]
    },
    {
      "cell_type": "code",
      "metadata": {
        "id": "5bEDLkEVaQP8",
        "colab_type": "code",
        "colab": {
          "base_uri": "https://localhost:8080/",
          "height": 134
        },
        "outputId": "c7609cd4-ea1f-4d77-8552-e029740975a9"
      },
      "source": [
        "for i in range(1,8):\n",
        "    name = \"instances in class_\" + str(i) + \" =\"\n",
        "    print(name, y[y == i].shape)"
      ],
      "execution_count": null,
      "outputs": [
        {
          "output_type": "stream",
          "text": [
            "instances in class_1 = (211840,)\n",
            "instances in class_2 = (283301,)\n",
            "instances in class_3 = (35754,)\n",
            "instances in class_4 = (2747,)\n",
            "instances in class_5 = (9493,)\n",
            "instances in class_6 = (17367,)\n",
            "instances in class_7 = (20510,)\n"
          ],
          "name": "stdout"
        }
      ]
    },
    {
      "cell_type": "markdown",
      "metadata": {
        "id": "rrDyTprEaQP_",
        "colab_type": "text"
      },
      "source": [
        "-----\n",
        "### 1.3 Choosing Subsets "
      ]
    },
    {
      "cell_type": "markdown",
      "metadata": {
        "id": "w04kV3j-aQQA",
        "colab_type": "text"
      },
      "source": [
        "Create data and label subsets of size 5000, 10000, and 100000, choosing the first\n",
        "N elements of the shu\u000fed imported data."
      ]
    },
    {
      "cell_type": "code",
      "metadata": {
        "id": "TRGnVTFJaQQB",
        "colab_type": "code",
        "colab": {}
      },
      "source": [
        "X_5k, y_5k = X[0:5000,:], y[0:5000]\n",
        "X_10k, y_10k = X[0:10000,:], y[0:10000]\n",
        "X_100k, y_100k = X[0:100000,:], y[0:100000]"
      ],
      "execution_count": null,
      "outputs": []
    },
    {
      "cell_type": "markdown",
      "metadata": {
        "id": "J4zkmlCoaQQF",
        "colab_type": "text"
      },
      "source": [
        "-----\n",
        "### 1.4 Splitting the Subsets into Training and Test Sets"
      ]
    },
    {
      "cell_type": "markdown",
      "metadata": {
        "id": "yBOitAXCaQQG",
        "colab_type": "text"
      },
      "source": [
        "Use `train_test_split` to set aside 20% of each test set with random state 5984."
      ]
    },
    {
      "cell_type": "code",
      "metadata": {
        "id": "bUwdLP4haQQH",
        "colab_type": "code",
        "colab": {}
      },
      "source": [
        "from sklearn.model_selection import train_test_split\n",
        "\n",
        "X_train_5k, X_test_5k, y_train_5k, y_test_5k = train_test_split(X_5k, y_5k, test_size=0.20, random_state=5984)\n",
        "X_train_10k, X_test_10k, y_train_10k, y_test_10k = train_test_split(X_10k, y_10k, test_size=0.20, random_state=5984)\n",
        "X_train_100k, X_test_100k, y_train_100k, y_test_100k = train_test_split(X_100k, y_100k, test_size=0.20, random_state=5984)"
      ],
      "execution_count": null,
      "outputs": []
    },
    {
      "cell_type": "markdown",
      "metadata": {
        "id": "ablTtsSQaQQV",
        "colab_type": "text"
      },
      "source": [
        "-----\n",
        "### 1.5 Remaking the Labels for Binary Classi\fcation"
      ]
    },
    {
      "cell_type": "markdown",
      "metadata": {
        "id": "U1tSX4sWaQQY",
        "colab_type": "text"
      },
      "source": [
        "For each y subset, create a label vector that indicates if each label is spruce/fir\n",
        "(1) or not (0). Use the subsets you already created as the basis for this."
      ]
    },
    {
      "cell_type": "code",
      "metadata": {
        "id": "QelKo8g7aQQZ",
        "colab_type": "code",
        "colab": {
          "base_uri": "https://localhost:8080/",
          "height": 50
        },
        "outputId": "e29b3671-7398-4d16-d0a6-1dbac633543e"
      },
      "source": [
        "from sklearn import preprocessing\n",
        "\n",
        "# binary values for spruce/fir label\n",
        "lb = preprocessing.LabelBinarizer()\n",
        "y_train_5k_lb = lb.fit_transform(y_train_5k == 1).ravel()\n",
        "y_train_10k_lb = lb.fit_transform(y_train_10k == 1).ravel()\n",
        "y_train_100k_lb = lb.fit_transform(y_train_100k == 1).ravel()\n",
        "\n",
        "y_test_5k_lb = lb.fit_transform(y_test_5k == 1).ravel()\n",
        "y_test_10k_lb = lb.fit_transform(y_test_10k == 1).ravel()\n",
        "y_test_100k_lb = lb.fit_transform(y_test_100k == 1).ravel()\n",
        "\n",
        "## as an example just to check\n",
        "print(\"5k: original labels =\", y_train_5k)\n",
        "print(\"5k: binary labels   =\", y_train_5k_lb)"
      ],
      "execution_count": null,
      "outputs": [
        {
          "output_type": "stream",
          "text": [
            "5k: original labels = [1 2 3 ... 2 6 2]\n",
            "5k: binary labels   = [1 0 0 ... 0 0 0]\n"
          ],
          "name": "stdout"
        }
      ]
    },
    {
      "cell_type": "markdown",
      "metadata": {
        "id": "KmvH_KRkaQQc",
        "colab_type": "text"
      },
      "source": [
        "-----\n",
        "### 1.6 Baseline Accuracy"
      ]
    },
    {
      "cell_type": "markdown",
      "metadata": {
        "id": "B_lRfQMoaQQd",
        "colab_type": "text"
      },
      "source": [
        "For each training subset, calculate the accuracy of a NOT spruce/fir\" estimator,\n",
        "that is, one that outputs 0 for every input. Hint: the sum of the labels in each\n",
        "training label subset can be used to quickly calculate this value without making\n",
        "a specfic function."
      ]
    },
    {
      "cell_type": "code",
      "metadata": {
        "id": "I78p3E87aQQd",
        "colab_type": "code",
        "colab": {}
      },
      "source": [
        "## a classifier that say every inputs is NOT spruce/fir\n",
        "from sklearn.base import BaseEstimator\n",
        "from sklearn.model_selection import cross_val_score\n",
        "\n",
        "class Never1Classifier(BaseEstimator):\n",
        "    def fit(self, X, y=None):\n",
        "        pass\n",
        "    def predict(self, X):\n",
        "        return np.zeros((len(X), 1), dtype=bool)"
      ],
      "execution_count": null,
      "outputs": []
    },
    {
      "cell_type": "code",
      "metadata": {
        "id": "yQdmEAn1aQQf",
        "colab_type": "code",
        "colab": {
          "base_uri": "https://localhost:8080/",
          "height": 84
        },
        "outputId": "0ba26123-b8a5-485e-cfe9-a74b9fa880ac"
      },
      "source": [
        "## 5k sample\n",
        "never_1_clf_5k = Never1Classifier()\n",
        "never_1_clf_5k_acc = cross_val_score(never_1_clf_5k, X_train_5k, y_train_5k_lb, scoring=\"accuracy\")\n",
        "print(\"5k: accuracy of folds = \" + str(never_1_clf_5k_acc.round(5)))\n",
        "print(\"5k: av. accuracy of folds = \" + str(np.mean(never_1_clf_5k_acc).round(5)))\n",
        "\n",
        "# accuracy using the labels\n",
        "manual_5k_acc = y_train_5k_lb[y_train_5k_lb == 0].size / y_train_5k_lb.size\n",
        "print(\"5k: accuracy using labels = \" + str(round(manual_5k_acc, 5)) + \"\\n\")"
      ],
      "execution_count": null,
      "outputs": [
        {
          "output_type": "stream",
          "text": [
            "5k: accuracy of folds = [0.66    0.6575  0.62875 0.62375 0.6375 ]\n",
            "5k: av. accuracy of folds = 0.6415\n",
            "5k: accuracy using labels = 0.6415\n",
            "\n"
          ],
          "name": "stdout"
        }
      ]
    },
    {
      "cell_type": "code",
      "metadata": {
        "id": "YIfmtebkaQQi",
        "colab_type": "code",
        "colab": {
          "base_uri": "https://localhost:8080/",
          "height": 84
        },
        "outputId": "6350cccf-bab2-4dc3-94eb-ae6813c6a750"
      },
      "source": [
        "## 10k sample\n",
        "never_1_clf_10k = Never1Classifier()\n",
        "never_1_clf_10k_acc = cross_val_score(never_1_clf_10k, X_train_10k, y_train_10k_lb, scoring=\"accuracy\")\n",
        "print(\"10k: accuracy of folds = \" + str(never_1_clf_10k_acc.round(5)))\n",
        "print(\"10k: av. accuracy of folds = \" + str(np.mean(never_1_clf_10k_acc).round(5)))\n",
        "\n",
        "# accuracy using the labels\n",
        "manual_10k_acc = y_train_10k_lb[y_train_10k_lb == 0].size / y_train_10k_lb.size\n",
        "print(\"10k: accuracy using labels = \" + str(round(manual_10k_acc, 5)) + \"\\n\")"
      ],
      "execution_count": null,
      "outputs": [
        {
          "output_type": "stream",
          "text": [
            "10k: accuracy of folds = [0.635   0.64875 0.64438 0.62687 0.64562]\n",
            "10k: av. accuracy of folds = 0.64013\n",
            "10k: accuracy using labels = 0.64013\n",
            "\n"
          ],
          "name": "stdout"
        }
      ]
    },
    {
      "cell_type": "code",
      "metadata": {
        "id": "sMaJMQTjaQQo",
        "colab_type": "code",
        "colab": {
          "base_uri": "https://localhost:8080/",
          "height": 67
        },
        "outputId": "f93fa35a-03b5-47fd-f3d4-d00ccd49d93d"
      },
      "source": [
        "## 100k sample\n",
        "never_1_clf_100k = Never1Classifier()\n",
        "never_1_clf_100k_acc = cross_val_score(never_1_clf_100k, X_train_100k, y_train_100k_lb, scoring=\"accuracy\")\n",
        "print(\"100k: accuracy of folds = \" + str(never_1_clf_100k_acc.round(5)))\n",
        "print(\"100k: av. accuracy of folds = \" + str(np.mean(never_1_clf_100k_acc).round(5)))\n",
        "\n",
        "# accuracy using the labels\n",
        "manual_100k_acc = y_train_100k_lb[y_train_100k_lb == 0].size / y_train_100k_lb.size\n",
        "print(\"100k: accuracy using labels = \" + str(round(manual_100k_acc, 5)))"
      ],
      "execution_count": null,
      "outputs": [
        {
          "output_type": "stream",
          "text": [
            "100k: accuracy of folds = [0.6325  0.638   0.63513 0.63475 0.63356]\n",
            "100k: av. accuracy of folds = 0.63479\n",
            "100k: accuracy using labels = 0.63479\n"
          ],
          "name": "stdout"
        }
      ]
    },
    {
      "cell_type": "markdown",
      "metadata": {
        "id": "huxqS0WlaQQq",
        "colab_type": "text"
      },
      "source": [
        "-----\n",
        "## 2. Perceptron Classication"
      ]
    },
    {
      "cell_type": "markdown",
      "metadata": {
        "id": "TLT9vFOIaQQr",
        "colab_type": "text"
      },
      "source": [
        "For the 5000 sample and 100000 sample subsets, you will create a Perceptron\n",
        "classifier that determines whether each sample point is spruce/fir or not."
      ]
    },
    {
      "cell_type": "markdown",
      "metadata": {
        "id": "oJvNIdUsaQQr",
        "colab_type": "text"
      },
      "source": [
        "### 2.1 Perceptron Analysis"
      ]
    },
    {
      "cell_type": "markdown",
      "metadata": {
        "id": "Ayg-oSXCaQQs",
        "colab_type": "text"
      },
      "source": [
        "For each binary data and label subset, train the `Perceptron` classifier with no\n",
        "added arguments, using only the training subsets."
      ]
    },
    {
      "cell_type": "code",
      "metadata": {
        "id": "F5qPycwgaQQt",
        "colab_type": "code",
        "colab": {
          "base_uri": "https://localhost:8080/",
          "height": 84
        },
        "outputId": "e4f57769-06a2-4a0e-f478-23941ccf66fd"
      },
      "source": [
        "from sklearn.linear_model import Perceptron\n",
        "\n",
        "## perceptron for 5k sample\n",
        "clf = Perceptron()\n",
        "perc_clf_5k = clf.fit(X_train_5k, y_train_5k_lb)\n",
        "print(perc_clf_5k)"
      ],
      "execution_count": null,
      "outputs": [
        {
          "output_type": "stream",
          "text": [
            "Perceptron(alpha=0.0001, class_weight=None, early_stopping=False, eta0=1.0,\n",
            "           fit_intercept=True, max_iter=1000, n_iter_no_change=5, n_jobs=None,\n",
            "           penalty=None, random_state=0, shuffle=True, tol=0.001,\n",
            "           validation_fraction=0.1, verbose=0, warm_start=False)\n"
          ],
          "name": "stdout"
        }
      ]
    },
    {
      "cell_type": "code",
      "metadata": {
        "id": "e5-zYeuEaQQv",
        "colab_type": "code",
        "colab": {
          "base_uri": "https://localhost:8080/",
          "height": 252
        },
        "outputId": "3f57cd37-5eb8-4fd2-e60b-e7d0ad8f3806"
      },
      "source": [
        "## intecept and coefficients\n",
        "print(\"intercept = \" + str(perc_clf_5k.intercept_) + \"\\n\")\n",
        "print(\"coefficients = \\n\" + str(perc_clf_5k.coef_))"
      ],
      "execution_count": null,
      "outputs": [
        {
          "output_type": "stream",
          "text": [
            "intercept = [-830.]\n",
            "\n",
            "coefficients = \n",
            "[[ 2.36920e+04 -8.62500e+03 -4.08030e+04 -1.08500e+04 -2.99760e+04\n",
            "  -5.08500e+03 -1.63245e+05 -1.21804e+05 -4.31710e+04 -2.18500e+03\n",
            "   4.85000e+02  7.73000e+02 -1.44500e+03 -6.43000e+02 -2.70000e+01\n",
            "  -1.18000e+02 -5.70000e+01 -2.29000e+02 -2.10000e+01 -8.90000e+01\n",
            "   0.00000e+00 -6.00000e+00  9.00000e+00 -9.23000e+02 -2.96000e+02\n",
            "  -6.96000e+02 -3.77000e+02 -1.40000e+01  0.00000e+00 -4.20000e+01\n",
            "  -8.90000e+01 -8.00000e+00  5.40000e+01  1.62000e+02  7.80000e+01\n",
            "   1.18800e+03  1.69500e+03  2.80000e+02 -1.50000e+01 -8.50000e+01\n",
            "  -1.00000e+01 -3.30000e+01 -6.96000e+02 -3.11000e+02 -6.60000e+01\n",
            "  -1.15000e+02 -2.12000e+02 -3.10000e+01  2.00000e+00 -1.10000e+01\n",
            "  -8.00000e+00  2.58000e+02 -8.10000e+01  1.10000e+02]]\n"
          ],
          "name": "stdout"
        }
      ]
    },
    {
      "cell_type": "code",
      "metadata": {
        "id": "bSvOCdfEaQQ0",
        "colab_type": "code",
        "colab": {
          "base_uri": "https://localhost:8080/",
          "height": 84
        },
        "outputId": "62e331f8-5458-46e3-8154-7ec5398a6642"
      },
      "source": [
        "## perceptron for 100k sample\n",
        "perc_clf_100k = clf.fit(X_train_100k, y_train_100k_lb)\n",
        "print(perc_clf_100k)"
      ],
      "execution_count": null,
      "outputs": [
        {
          "output_type": "stream",
          "text": [
            "Perceptron(alpha=0.0001, class_weight=None, early_stopping=False, eta0=1.0,\n",
            "           fit_intercept=True, max_iter=1000, n_iter_no_change=5, n_jobs=None,\n",
            "           penalty=None, random_state=0, shuffle=True, tol=0.001,\n",
            "           validation_fraction=0.1, verbose=0, warm_start=False)\n"
          ],
          "name": "stdout"
        }
      ]
    },
    {
      "cell_type": "code",
      "metadata": {
        "id": "jnFYeU_kaQQ5",
        "colab_type": "code",
        "colab": {
          "base_uri": "https://localhost:8080/",
          "height": 252
        },
        "outputId": "7122cff7-5385-4c20-8225-1942871b9882"
      },
      "source": [
        "## intercept and coefficients\n",
        "print(\"intercept = \" + str(perc_clf_100k.intercept_) + \"\\n\")\n",
        "print(\"coefficients = \\n\" + str(perc_clf_100k.coef_))"
      ],
      "execution_count": null,
      "outputs": [
        {
          "output_type": "stream",
          "text": [
            "intercept = [-6011.]\n",
            "\n",
            "coefficients = \n",
            "[[ 4.16210e+04 -5.85200e+03 -4.94300e+05 -1.44390e+04 -2.42920e+04\n",
            "  -1.41300e+03 -3.63998e+05 -2.40740e+04 -2.18044e+05 -1.02000e+03\n",
            "   1.02980e+04  2.67300e+03 -1.68680e+04 -2.11400e+03 -5.90000e+01\n",
            "  -5.58000e+02 -2.42000e+02 -1.05100e+03 -2.80000e+01 -1.86000e+02\n",
            "  -1.11000e+02 -4.30000e+01  4.76000e+02 -5.95700e+03 -2.19400e+03\n",
            "  -9.01400e+03 -4.31000e+03 -1.40000e+01  0.00000e+00 -2.90000e+01\n",
            "  -3.96000e+02 -2.91000e+02  1.48400e+03  2.04600e+03  9.19000e+02\n",
            "   2.22450e+04  2.43180e+04  2.40000e+01 -2.01000e+02 -6.42000e+02\n",
            "   5.52000e+02 -3.80000e+02 -9.53000e+03 -5.92800e+03  1.64500e+03\n",
            "  -4.60800e+03 -2.70000e+02 -8.23000e+02 -1.05000e+03 -6.50000e+01\n",
            "  -4.95000e+02 -3.82200e+03 -4.50900e+03 -2.91400e+03]]\n"
          ],
          "name": "stdout"
        }
      ]
    },
    {
      "cell_type": "markdown",
      "metadata": {
        "id": "6xSKOwwLaQQ9",
        "colab_type": "text"
      },
      "source": [
        "-----\n",
        "#### 2.1.1 Accuracy on the training sets and the test sets"
      ]
    },
    {
      "cell_type": "markdown",
      "metadata": {
        "id": "hDIoUoUcaQQ-",
        "colab_type": "text"
      },
      "source": [
        "What is the accuracy on the training sets and the test sets?"
      ]
    },
    {
      "cell_type": "code",
      "metadata": {
        "id": "bG6IzuypaQQ-",
        "colab_type": "code",
        "colab": {
          "base_uri": "https://localhost:8080/",
          "height": 50
        },
        "outputId": "ce3460b4-6676-415d-bdf5-cb7e0a228704"
      },
      "source": [
        "## 5k samples\n",
        "perc_clf_5k_train_acc = perc_clf_5k.score(X_train_5k, y_train_5k_lb)\n",
        "perc_clf_5k_test_acc = perc_clf_5k.score(X_test_5k, y_test_5k_lb)\n",
        "\n",
        "print(\"5k: training set accuracy = \" + str(perc_clf_5k_train_acc))\n",
        "print(\"5k: test set accuracy     = \" + str(perc_clf_5k_test_acc))"
      ],
      "execution_count": null,
      "outputs": [
        {
          "output_type": "stream",
          "text": [
            "5k: training set accuracy = 0.72375\n",
            "5k: test set accuracy     = 0.724\n"
          ],
          "name": "stdout"
        }
      ]
    },
    {
      "cell_type": "code",
      "metadata": {
        "id": "y_JBvydWaQRC",
        "colab_type": "code",
        "colab": {
          "base_uri": "https://localhost:8080/",
          "height": 50
        },
        "outputId": "ddd920f3-f678-4e72-94c2-0f0fa0802c75"
      },
      "source": [
        "## 100k samples\n",
        "perc_clf_100k_train_acc = perc_clf_100k.score(X_train_100k, y_train_100k_lb)\n",
        "perc_clf_100k_test_acc = perc_clf_100k.score(X_test_100k, y_test_100k_lb)\n",
        "\n",
        "print(\"100k: training set accuracy = \" + str(perc_clf_100k_train_acc))\n",
        "print(\"100k: test set accuracy     = \" + str(perc_clf_100k_test_acc))"
      ],
      "execution_count": null,
      "outputs": [
        {
          "output_type": "stream",
          "text": [
            "100k: training set accuracy = 0.7195875\n",
            "100k: test set accuracy     = 0.7166\n"
          ],
          "name": "stdout"
        }
      ]
    },
    {
      "cell_type": "markdown",
      "metadata": {
        "id": "eXSfYUN9aQRG",
        "colab_type": "text"
      },
      "source": [
        "-----\n",
        "#### 2.1.2 Confusion matrices"
      ]
    },
    {
      "cell_type": "markdown",
      "metadata": {
        "id": "wj3fVocpaQRH",
        "colab_type": "text"
      },
      "source": [
        "What is the confusion matrix on the test sets? Use the predicted labels\n",
        "as a basis for comparison to the true labels for each test set. What does\n",
        "the confusion matrix tell you about the classifier's ability to correctly and\n",
        "incorrectly predict whether each sample is a spruce/fir cover or not?"
      ]
    },
    {
      "cell_type": "code",
      "metadata": {
        "id": "FrSe5L7qaQRH",
        "colab_type": "code",
        "colab": {
          "base_uri": "https://localhost:8080/",
          "height": 118
        },
        "outputId": "4ed28698-ba05-4760-8f18-144dddb12461"
      },
      "source": [
        "from sklearn.model_selection import cross_val_predict\n",
        "from sklearn.metrics import confusion_matrix\n",
        "\n",
        "## 5k sample\n",
        "print(\"===============================================\")\n",
        "print(\"5k: number of true (1) labels in test set = \" + str(y_test_5k_lb[y_test_5k_lb == 1].size))\n",
        "print(\"===============================================\\n\" + \"confusion matrix =\")\n",
        "\n",
        "perc_clf_5k_test_pred = perc_clf_5k.predict(X_test_5k)\n",
        "confusion_matrix(y_test_5k_lb, perc_clf_5k_test_pred)\n",
        "# First row is 0's, second row is 1's\n",
        "# First column is number correctly predicted, second is incorrectly predicted\""
      ],
      "execution_count": null,
      "outputs": [
        {
          "output_type": "stream",
          "text": [
            "===============================================\n",
            "5k: number of true (1) labels in test set = 377\n",
            "===============================================\n",
            "confusion matrix =\n"
          ],
          "name": "stdout"
        },
        {
          "output_type": "execute_result",
          "data": {
            "text/plain": [
              "array([[569,  54],\n",
              "       [222, 155]])"
            ]
          },
          "metadata": {
            "tags": []
          },
          "execution_count": 17
        }
      ]
    },
    {
      "cell_type": "code",
      "metadata": {
        "id": "Uo92h93DaQRK",
        "colab_type": "code",
        "colab": {
          "base_uri": "https://localhost:8080/",
          "height": 118
        },
        "outputId": "f1b0d9c9-3837-4347-d4fc-876aae184b2a"
      },
      "source": [
        "## 100k sample\n",
        "print(\"==================================================\")\n",
        "print(\"100k: number of true (1) labels in test set = \" + str(y_test_100k_lb[y_test_100k_lb == 1].size))\n",
        "print(\"==================================================\\n\" + \"confusion matrix =\")\n",
        "\n",
        "perc_clf_100k_test_pred = perc_clf_100k.predict(X_test_100k)\n",
        "confusion_matrix(y_test_100k_lb, perc_clf_100k_test_pred)\n",
        "# First row is 0's, second row is 1's\n",
        "# First column is number correctly predicted, second is incorrectly predicted\""
      ],
      "execution_count": null,
      "outputs": [
        {
          "output_type": "stream",
          "text": [
            "==================================================\n",
            "100k: number of true (1) labels in test set = 7191\n",
            "==================================================\n",
            "confusion matrix =\n"
          ],
          "name": "stdout"
        },
        {
          "output_type": "execute_result",
          "data": {
            "text/plain": [
              "array([[11400,  1409],\n",
              "       [ 4259,  2932]])"
            ]
          },
          "metadata": {
            "tags": []
          },
          "execution_count": 18
        }
      ]
    },
    {
      "cell_type": "markdown",
      "metadata": {
        "id": "SBvupVDjaQRM",
        "colab_type": "text"
      },
      "source": [
        ">  **Answer**:  \n",
        "> We can see that the number of False-Postives and False-Negatives on the off-diagonal entries for both samples sizes, is not small compared to the number of correctly predicted labels. This means our calssifier is not doing a good job predicting the binary labels."
      ]
    },
    {
      "cell_type": "markdown",
      "metadata": {
        "id": "6tHRSHDCaQRN",
        "colab_type": "text"
      },
      "source": [
        "-----\n",
        "#### 2.1.3 Precision and recall"
      ]
    },
    {
      "cell_type": "markdown",
      "metadata": {
        "id": "xwlO4TRfaQRN",
        "colab_type": "text"
      },
      "source": [
        "What are the precision and recall on the test sets?"
      ]
    },
    {
      "cell_type": "code",
      "metadata": {
        "id": "jnwQNXkXaQRO",
        "colab_type": "code",
        "colab": {
          "base_uri": "https://localhost:8080/",
          "height": 67
        },
        "outputId": "5e2f7daf-a193-4fe7-9715-e5bb3b4b928e"
      },
      "source": [
        "from sklearn.metrics import precision_score, recall_score\n",
        "\n",
        "## 5k sample\n",
        "perc_clf_5k_test_pred_precision = precision_score(y_test_5k_lb, perc_clf_5k_test_pred)\n",
        "perc_clf_5k_test_pred_recall = recall_score(y_test_5k_lb, perc_clf_5k_test_pred)\n",
        "print(\"5k: precision = \" + str(perc_clf_5k_test_pred_precision))\n",
        "print(\"5k: recall    = \" + str(perc_clf_5k_test_pred_recall) + \"\\n\")"
      ],
      "execution_count": null,
      "outputs": [
        {
          "output_type": "stream",
          "text": [
            "5k: precision = 0.7416267942583732\n",
            "5k: recall    = 0.41114058355437666\n",
            "\n"
          ],
          "name": "stdout"
        }
      ]
    },
    {
      "cell_type": "code",
      "metadata": {
        "id": "u0O-NrxaaQRR",
        "colab_type": "code",
        "colab": {
          "base_uri": "https://localhost:8080/",
          "height": 50
        },
        "outputId": "ef6a57a3-fab4-4589-c596-8f66031ba079"
      },
      "source": [
        "## 100k sample\n",
        "perc_clf_100k_test_pred_precision = precision_score(y_test_100k_lb, perc_clf_100k_test_pred)\n",
        "perc_clf_100k_test_pred_recall = recall_score(y_test_100k_lb, perc_clf_100k_test_pred)\n",
        "print(\"100k: precision = \" + str(perc_clf_100k_test_pred_precision))\n",
        "print(\"100k: recall    = \" + str(perc_clf_100k_test_pred_recall))"
      ],
      "execution_count": null,
      "outputs": [
        {
          "output_type": "stream",
          "text": [
            "100k: precision = 0.6754204100437687\n",
            "100k: recall    = 0.40773188708107355\n"
          ],
          "name": "stdout"
        }
      ]
    },
    {
      "cell_type": "markdown",
      "metadata": {
        "id": "CW25j9pFaQRU",
        "colab_type": "text"
      },
      "source": [
        "-----\n",
        "#### 2.1.4 Precision and recall vs. threshold plot"
      ]
    },
    {
      "cell_type": "markdown",
      "metadata": {
        "id": "B4-2lv5RaQRU",
        "colab_type": "text"
      },
      "source": [
        "Using the decision function as the threshold, plot precision and recall vs.\n",
        "threshold."
      ]
    },
    {
      "cell_type": "code",
      "metadata": {
        "id": "-glLpeH5aQRW",
        "colab_type": "code",
        "colab": {}
      },
      "source": [
        "## helper function\n",
        "def plot_precision_recall_vs_threshold(precisions, recalls, thresholds):\n",
        "    plt.plot(thresholds, precisions[:-1], \"b--\", label=\"Precision\", linewidth=2)\n",
        "    plt.plot(thresholds, recalls[:-1], \"g-\", label=\"Recall\", linewidth=2)\n",
        "    plt.xlabel(\"Threshold\", fontsize=16)\n",
        "    plt.legend(loc=\"upper left\", fontsize=16)\n",
        "    plt.ylim([0, 1])"
      ],
      "execution_count": null,
      "outputs": []
    },
    {
      "cell_type": "code",
      "metadata": {
        "id": "YY4ddMCSaQRa",
        "colab_type": "code",
        "colab": {
          "base_uri": "https://localhost:8080/",
          "height": 304
        },
        "outputId": "092c7d2c-1635-4b3b-9a3c-b13b8ce1a6a1"
      },
      "source": [
        "from sklearn.metrics import precision_recall_curve\n",
        "\n",
        "## 5k samples\n",
        "perc_5k_test_y_scores = perc_clf_5k.decision_function(X_test_5k)\n",
        "perc_5k_precisions, perc_5k_recalls, perc_5k_thresholds = precision_recall_curve(y_test_5k_lb, perc_5k_test_y_scores)\n",
        "\n",
        "plt.figure(figsize=(10, 4))\n",
        "plt.title(\"5k Sample\", fontsize=18)\n",
        "plot_precision_recall_vs_threshold(perc_5k_precisions, perc_5k_recalls, perc_5k_thresholds)\n",
        "plt.show()"
      ],
      "execution_count": null,
      "outputs": [
        {
          "output_type": "display_data",
          "data": {
            "image/png": "[encoded data removed]",
            "text/plain": [
              "<Figure size 720x288 with 1 Axes>"
            ]
          },
          "metadata": {
            "tags": [],
            "needs_background": "light"
          }
        }
      ]
    },
    {
      "cell_type": "code",
      "metadata": {
        "id": "Xzg9ep6QaQRd",
        "colab_type": "code",
        "colab": {
          "base_uri": "https://localhost:8080/",
          "height": 304
        },
        "outputId": "7027a5ce-8a19-4f9f-9cd5-ca9f6acd8719"
      },
      "source": [
        "## 100k sample\n",
        "perc_100k_test_y_scores = perc_clf_100k.decision_function(X_test_100k)\n",
        "perc_100k_precisions, perc_100k_recalls, perc_100k_thresholds = precision_recall_curve(y_test_100k_lb, perc_100k_test_y_scores)\n",
        "\n",
        "plt.figure(figsize=(10, 4))\n",
        "plt.title(\"100k Sample\", fontsize=18)\n",
        "plot_precision_recall_vs_threshold(perc_100k_precisions, perc_100k_recalls, perc_100k_thresholds)\n",
        "plt.show()"
      ],
      "execution_count": null,
      "outputs": [
        {
          "output_type": "display_data",
          "data": {
            "image/png": "[encoded data removed]",
            "text/plain": [
              "<Figure size 720x288 with 1 Axes>"
            ]
          },
          "metadata": {
            "tags": [],
            "needs_background": "light"
          }
        }
      ]
    },
    {
      "cell_type": "markdown",
      "metadata": {
        "id": "blJ2tMHKaQRf",
        "colab_type": "text"
      },
      "source": [
        "----"
      ]
    },
    {
      "cell_type": "markdown",
      "metadata": {
        "id": "fROt-J-uaQRf",
        "colab_type": "text"
      },
      "source": [
        "-----\n",
        "#### 2.1.5 F score"
      ]
    },
    {
      "cell_type": "markdown",
      "metadata": {
        "id": "jHeYdU2vaQRf",
        "colab_type": "text"
      },
      "source": [
        "Using the decision function as the threshold, what threshold value maximizes the F score, and what is the value?"
      ]
    },
    {
      "cell_type": "markdown",
      "metadata": {
        "id": "B8xr6vSnaQRg",
        "colab_type": "text"
      },
      "source": [
        "> **Answer**:   \n",
        ">`F-score` maximizes at the point where the percision and recall are very close or equal to 1."
      ]
    },
    {
      "cell_type": "code",
      "metadata": {
        "id": "uuFf9n5qaQRg",
        "colab_type": "code",
        "colab": {
          "base_uri": "https://localhost:8080/",
          "height": 50
        },
        "outputId": "5cf20f85-721e-49ce-9edf-8251016c9b58"
      },
      "source": [
        "## 5k samples\n",
        "perc_5k_test_y_scores = perc_clf_5k.decision_function(X_test_5k)\n",
        "perc_5k_precisions, perc_5k_recalls, perc_5k_thresholds = precision_recall_curve(y_test_5k_lb, perc_5k_test_y_scores)\n",
        "\n",
        "f1_scores_5k = 2*perc_5k_recalls*perc_5k_precisions/(perc_5k_recalls + perc_5k_precisions)\n",
        "print('5k: best threshold = ', perc_5k_thresholds[np.argmax(f1_scores_5k)])\n",
        "print('5k: best F1-Score  = ', np.nanmax(f1_scores_5k).round(5))"
      ],
      "execution_count": null,
      "outputs": [
        {
          "output_type": "stream",
          "text": [
            "5k: best threshold =  -9447000.0\n",
            "5k: best F1-Score  =  0.70575\n"
          ],
          "name": "stdout"
        }
      ]
    },
    {
      "cell_type": "code",
      "metadata": {
        "id": "KS8-MA_SaQRk",
        "colab_type": "code",
        "colab": {
          "base_uri": "https://localhost:8080/",
          "height": 84
        },
        "outputId": "5d4ec1be-0bd9-4548-d3b3-d14d7d812879"
      },
      "source": [
        "## 100k sample\n",
        "perc_100k_test_y_scores = perc_clf_100k.decision_function(X_test_100k)\n",
        "perc_100k_precisions, perc_100k_recalls, perc_100k_thresholds = precision_recall_curve(y_test_100k_lb, perc_100k_test_y_scores)\n",
        "                                                                                       \n",
        "f1_scores_100k = 2*perc_100k_recalls*perc_100k_precisions/(perc_100k_recalls + perc_100k_precisions)\n",
        "print('100k: best threshold = ', perc_100k_thresholds[np.argmax(f1_scores_100k)])\n",
        "print('100k: best F1-Score  = ', np.nanmax(f1_scores_100k).round(5))"
      ],
      "execution_count": null,
      "outputs": [
        {
          "output_type": "stream",
          "text": [
            "100k: best threshold =  28655956.0\n",
            "100k: best F1-Score  =  0.68904\n"
          ],
          "name": "stdout"
        },
        {
          "output_type": "stream",
          "text": [
            "/usr/local/lib/python3.6/dist-packages/ipykernel_launcher.py:5: RuntimeWarning: invalid value encountered in true_divide\n",
            "  \"\"\"\n"
          ],
          "name": "stderr"
        }
      ]
    },
    {
      "cell_type": "markdown",
      "metadata": {
        "id": "RdueHNI-aQRq",
        "colab_type": "text"
      },
      "source": [
        "### 2.2 Evaluation"
      ]
    },
    {
      "cell_type": "markdown",
      "metadata": {
        "id": "Rw1pm3ohaQRq",
        "colab_type": "text"
      },
      "source": [
        "Would you say the old-fashioned Perceptron algorithm is useful for this data\n",
        "set? Is it better than a NOT spruce/fir\" classifier in any scenario? Why or why\n",
        "not?"
      ]
    },
    {
      "cell_type": "code",
      "metadata": {
        "id": "m2li0kT5aQRr",
        "colab_type": "code",
        "colab": {
          "base_uri": "https://localhost:8080/",
          "height": 101
        },
        "outputId": "89dc21d5-2547-4b2c-9382-f87d5a5be530"
      },
      "source": [
        "perc_clf_10k_test_acc = perc_clf_100k.score(X_test_10k, y_test_10k_lb)\n",
        "perc_clf_10k_test_pred = perc_clf_100k.predict(X_test_10k)\n",
        "perc_clf_10k_test_pred_precision = precision_score(y_test_10k_lb, perc_clf_10k_test_pred)\n",
        "perc_clf_10k_test_pred_recall = recall_score(y_test_10k_lb, perc_clf_10k_test_pred)\n",
        "\n",
        "print(\"test set accuracy of perc_clf = \" + str(perc_clf_10k_test_acc))\n",
        "print(\">> precision for perc_clf = \" + str(perc_clf_10k_test_pred_precision.round(5)))\n",
        "print(\">> recall for perc_clf    = \" + str(perc_clf_10k_test_pred_recall.round(5)))\n",
        "\n",
        "## never-1-calssifier defined in Problem 1\n",
        "never_1_clf_10k_acc = cross_val_score(never_1_clf_10k, X_train_10k, y_train_10k_lb, scoring=\"accuracy\")\n",
        "print(\"\\nave_CV accuracy of never_1_clf = \" + str(np.mean(never_1_clf_10k_acc).round(4)))"
      ],
      "execution_count": null,
      "outputs": [
        {
          "output_type": "stream",
          "text": [
            "test set accuracy of perc_clf = 0.717\n",
            ">> precision for perc_clf = 0.69362\n",
            ">> recall for perc_clf    = 0.43583\n",
            "\n",
            "ave_CV accuracy of never_1_clf = 0.6401\n"
          ],
          "name": "stdout"
        }
      ]
    },
    {
      "cell_type": "markdown",
      "metadata": {
        "id": "zYDCvoZnaQRt",
        "colab_type": "text"
      },
      "source": [
        "> **Answer**:   \n",
        "> Blindly labeling every point with `0` is 64% accurate whereas running the perceptron gives the accuracy of 71%, slightly better than the `never_1_clf`. Using perceptron does not seem to be useful with this accuracy. "
      ]
    },
    {
      "cell_type": "markdown",
      "metadata": {
        "id": "KiI0lj7uaQRu",
        "colab_type": "text"
      },
      "source": [
        "-----\n",
        "## 3. Support Vector Machine Binary Classi\fcation"
      ]
    },
    {
      "cell_type": "markdown",
      "metadata": {
        "id": "KxuxUjOaaQRu",
        "colab_type": "text"
      },
      "source": [
        "In this problem you will use the 10000 sample subset you made back in Problem\n",
        "1 and will learn how to use grid search to tune hyperparameters to get the\n",
        "performance you want."
      ]
    },
    {
      "cell_type": "markdown",
      "metadata": {
        "id": "Qg6TdeeOaQRv",
        "colab_type": "text"
      },
      "source": [
        "### 3.1 Scaling and Solver Speed"
      ]
    },
    {
      "cell_type": "markdown",
      "metadata": {
        "id": "WtAyhd_paQRv",
        "colab_type": "text"
      },
      "source": [
        "For `C=1`, `polydeg=3`, `class weight=None`, create a both `SVC` classifer, and a\n",
        "`Pipeline` that uses `StandardScalar` to scale the `X` subset prior to using another `SVC` classifier. Try running both. What can you say about the relative speeds?\n",
        "Why do you think this is happening?"
      ]
    },
    {
      "cell_type": "code",
      "metadata": {
        "id": "yEDkB39FaQRw",
        "colab_type": "code",
        "colab": {
          "base_uri": "https://localhost:8080/",
          "height": 84
        },
        "outputId": "aa21bbe9-432a-4aea-f00f-4b104e17de2a"
      },
      "source": [
        "from sklearn.svm import SVC\n",
        "from sklearn.svm import LinearSVC\n",
        "from sklearn.pipeline import Pipeline\n",
        "from sklearn.preprocessing import StandardScaler\n",
        "from sklearn.preprocessing import PolynomialFeatures\n",
        "import time\n",
        "\n",
        "## SVM with unscaled dataset\n",
        "svm_clf_poly_unscaled = SVC(C=1.0, degree=3, class_weight=None, kernel='poly')\n",
        "svm_clf_poly_unscaled"
      ],
      "execution_count": null,
      "outputs": [
        {
          "output_type": "execute_result",
          "data": {
            "text/plain": [
              "SVC(C=1.0, break_ties=False, cache_size=200, class_weight=None, coef0=0.0,\n",
              "    decision_function_shape='ovr', degree=3, gamma='scale', kernel='poly',\n",
              "    max_iter=-1, probability=False, random_state=None, shrinking=True,\n",
              "    tol=0.001, verbose=False)"
            ]
          },
          "metadata": {
            "tags": []
          },
          "execution_count": 27
        }
      ]
    },
    {
      "cell_type": "code",
      "metadata": {
        "id": "mpg9A2L0aQR0",
        "colab_type": "code",
        "colab": {
          "base_uri": "https://localhost:8080/",
          "height": 50
        },
        "outputId": "1d3ebee3-56d3-46d9-de58-72480697b0db"
      },
      "source": [
        "time_start_unscaled = time.perf_counter()\n",
        "svm_clf_poly_unscaled.fit(X_train_10k, y_train_10k_lb)\n",
        "\n",
        "time_elapsed_unscaled = (time.perf_counter() - time_start_unscaled)\n",
        "print (\"unscaled dataset computation time = %5.1f secs\" % time_elapsed_unscaled + \"\\n\")"
      ],
      "execution_count": null,
      "outputs": [
        {
          "output_type": "stream",
          "text": [
            "unscaled dataset computation time =   4.2 secs\n",
            "\n"
          ],
          "name": "stdout"
        }
      ]
    },
    {
      "cell_type": "code",
      "metadata": {
        "id": "qM2mKCDjaQR4",
        "colab_type": "code",
        "colab": {
          "base_uri": "https://localhost:8080/",
          "height": 185
        },
        "outputId": "7997dd78-3349-4dbe-a244-0045d9b7a00b"
      },
      "source": [
        "## SVM with scaled dataset\n",
        "svm_clf_poly_scaled = Pipeline([\n",
        "        (\"scaler\", StandardScaler()),\n",
        "        (\"svc\", SVC(C=1.0, degree=3, class_weight=None, kernel='poly'))\n",
        "    ])\n",
        "svm_clf_poly_scaled"
      ],
      "execution_count": null,
      "outputs": [
        {
          "output_type": "execute_result",
          "data": {
            "text/plain": [
              "Pipeline(memory=None,\n",
              "         steps=[('scaler',\n",
              "                 StandardScaler(copy=True, with_mean=True, with_std=True)),\n",
              "                ('svc',\n",
              "                 SVC(C=1.0, break_ties=False, cache_size=200, class_weight=None,\n",
              "                     coef0=0.0, decision_function_shape='ovr', degree=3,\n",
              "                     gamma='scale', kernel='poly', max_iter=-1,\n",
              "                     probability=False, random_state=None, shrinking=True,\n",
              "                     tol=0.001, verbose=False))],\n",
              "         verbose=False)"
            ]
          },
          "metadata": {
            "tags": []
          },
          "execution_count": 29
        }
      ]
    },
    {
      "cell_type": "code",
      "metadata": {
        "id": "sltbBAnOaQR6",
        "colab_type": "code",
        "colab": {
          "base_uri": "https://localhost:8080/",
          "height": 34
        },
        "outputId": "db4e4fd7-10f3-4415-cd7d-940a63406d4b"
      },
      "source": [
        "time_start_scaled = time.perf_counter()\n",
        "svm_clf_poly_scaled.fit(X_train_10k, y_train_10k_lb)\n",
        "\n",
        "time_elapsed_scaled = (time.perf_counter() - time_start_scaled)\n",
        "print (\"scaled dataset computation time = %5.1f secs\" % time_elapsed_scaled)"
      ],
      "execution_count": null,
      "outputs": [
        {
          "output_type": "stream",
          "text": [
            "scaled dataset computation time =   3.9 secs\n"
          ],
          "name": "stdout"
        }
      ]
    },
    {
      "cell_type": "markdown",
      "metadata": {
        "id": "jofqkzdiaQR9",
        "colab_type": "text"
      },
      "source": [
        "> **Answer**:   \n",
        "> The program computes faster with the scaled data since the variance in all directions is 1 and data set in not skewed (balanced) which helps the solver to find the solution faster and makes the SVM more reliable."
      ]
    },
    {
      "cell_type": "markdown",
      "metadata": {
        "id": "q0fhsj6waQR9",
        "colab_type": "text"
      },
      "source": [
        "-----\n",
        "### 3.2 Polynomial Kernel Grid Search"
      ]
    },
    {
      "cell_type": "markdown",
      "metadata": {
        "id": "Y08OpdBpaQR9",
        "colab_type": "text"
      },
      "source": [
        "Without using scikit-learn's `GridSearchCV` module, create a loop that trains an\n",
        "SVC over each combination of the following parameters:"
      ]
    },
    {
      "cell_type": "code",
      "metadata": {
        "id": "Ej_pcKP4aQR-",
        "colab_type": "code",
        "colab": {}
      },
      "source": [
        "Cs = [0.001,1,100]\n",
        "class_weights = [None,'balanced']\n",
        "polydegs = [3,5,7]"
      ],
      "execution_count": null,
      "outputs": []
    },
    {
      "cell_type": "markdown",
      "metadata": {
        "id": "Fbq979kaaQSA",
        "colab_type": "text"
      },
      "source": [
        "If you did this right, you should have 18 different classifiers. Hint: use\n",
        "Python's `itertools.product` to generate the 18 option sets without using 3\n",
        "nested for loops."
      ]
    },
    {
      "cell_type": "code",
      "metadata": {
        "id": "Uk1pTDkGaQSA",
        "colab_type": "code",
        "colab": {
          "base_uri": "https://localhost:8080/",
          "height": 319
        },
        "outputId": "12560ea2-98c6-4d83-e6c0-84210b49dcf3"
      },
      "source": [
        "import itertools\n",
        "\n",
        "classifier_name_list = []\n",
        "for i,comb in enumerate(itertools.product(Cs, class_weights, polydegs)):\n",
        "    degree = comb[2]\n",
        "    class_weight = comb[1]\n",
        "    C = comb[0]\n",
        "    \n",
        "    global name\n",
        "    if C != Cs[0]:\n",
        "        name = \"svm_poly\" + str(comb[2]) + \"_\" +  str(comb[1]) + \"_C\" +  str(comb[0])\n",
        "    else:\n",
        "        name = \"svm_poly\" + str(comb[2]) + \"_\" +  str(comb[1]) + \"_C001\"\n",
        "    \n",
        "    classifier_name_list.append(name)\n",
        "    print(\"classifier\", str(i) + \":\", classifier_name_list[i])\n",
        "    \n",
        "    globals()[name] = Pipeline([\n",
        "        (\"scaler\", StandardScaler()),\n",
        "        (\"svc\", SVC(C=C, degree=degree, class_weight=class_weight, kernel='poly'))\n",
        "        ])"
      ],
      "execution_count": null,
      "outputs": [
        {
          "output_type": "stream",
          "text": [
            "classifier 0: svm_poly3_None_C001\n",
            "classifier 1: svm_poly5_None_C001\n",
            "classifier 2: svm_poly7_None_C001\n",
            "classifier 3: svm_poly3_balanced_C001\n",
            "classifier 4: svm_poly5_balanced_C001\n",
            "classifier 5: svm_poly7_balanced_C001\n",
            "classifier 6: svm_poly3_None_C1\n",
            "classifier 7: svm_poly5_None_C1\n",
            "classifier 8: svm_poly7_None_C1\n",
            "classifier 9: svm_poly3_balanced_C1\n",
            "classifier 10: svm_poly5_balanced_C1\n",
            "classifier 11: svm_poly7_balanced_C1\n",
            "classifier 12: svm_poly3_None_C100\n",
            "classifier 13: svm_poly5_None_C100\n",
            "classifier 14: svm_poly7_None_C100\n",
            "classifier 15: svm_poly3_balanced_C100\n",
            "classifier 16: svm_poly5_balanced_C100\n",
            "classifier 17: svm_poly7_balanced_C100\n"
          ],
          "name": "stdout"
        }
      ]
    },
    {
      "cell_type": "code",
      "metadata": {
        "id": "gR5vKNonaQSC",
        "colab_type": "code",
        "colab": {
          "base_uri": "https://localhost:8080/",
          "height": 202
        },
        "outputId": "0a4c523b-8c49-4359-cd0c-237264560c48"
      },
      "source": [
        "## an example to check if everything is fine\n",
        "svm_poly7_balanced_C001"
      ],
      "execution_count": null,
      "outputs": [
        {
          "output_type": "execute_result",
          "data": {
            "text/plain": [
              "Pipeline(memory=None,\n",
              "         steps=[('scaler',\n",
              "                 StandardScaler(copy=True, with_mean=True, with_std=True)),\n",
              "                ('svc',\n",
              "                 SVC(C=0.001, break_ties=False, cache_size=200,\n",
              "                     class_weight='balanced', coef0=0.0,\n",
              "                     decision_function_shape='ovr', degree=7, gamma='scale',\n",
              "                     kernel='poly', max_iter=-1, probability=False,\n",
              "                     random_state=None, shrinking=True, tol=0.001,\n",
              "                     verbose=False))],\n",
              "         verbose=False)"
            ]
          },
          "metadata": {
            "tags": []
          },
          "execution_count": 33
        }
      ]
    },
    {
      "cell_type": "markdown",
      "metadata": {
        "id": "KkoHdgvzaQSP",
        "colab_type": "text"
      },
      "source": [
        "-----\n",
        "#### 3.2.1 Accuracy scores"
      ]
    },
    {
      "cell_type": "markdown",
      "metadata": {
        "id": "LkxsAOluaQSP",
        "colab_type": "text"
      },
      "source": [
        "Use `cross_val_score` to generate accuracy scores for each validation set.\n",
        "Using the average CV score, what is the best combination?"
      ]
    },
    {
      "cell_type": "markdown",
      "metadata": {
        "id": "CjUb2fA5aQSP",
        "colab_type": "text"
      },
      "source": [
        "> **Answer**:   \n",
        "> We pick the one with the highest CV score mean."
      ]
    },
    {
      "cell_type": "code",
      "metadata": {
        "id": "n-w0LjiQaQSQ",
        "colab_type": "code",
        "colab": {},
        "outputId": "925466b4-7827-491c-849a-ba2a17e97b02"
      },
      "source": [
        "classifier_acc = {}\n",
        "classifier_acc_mean = {}\n",
        "\n",
        "for i in range(0,len(classifier_name_list)):\n",
        "    time_start = time.perf_counter()\n",
        "    \n",
        "    classifier = globals()[classifier_name_list[i]]\n",
        "    temp_acc = cross_val_score(classifier, X_train_10k, y_train_10k_lb, scoring=\"accuracy\")\n",
        "    classifier_acc[classifier_name_list[i]] = temp_acc\n",
        "    classifier_acc_mean[classifier_name_list[i]] = np.mean(temp_acc)\n",
        "    \n",
        "    time_elapsed = (time.perf_counter() - time_start)\n",
        "    print (\"iteration\", i+1, \"=%5.1f secs\" % time_elapsed)"
      ],
      "execution_count": null,
      "outputs": [
        {
          "output_type": "stream",
          "text": [
            "iteration 1 = 20.8 secs\n",
            "iteration 2 = 21.0 secs\n",
            "iteration 3 = 20.3 secs\n",
            "iteration 4 = 40.4 secs\n",
            "iteration 5 = 29.1 secs\n",
            "iteration 6 = 28.9 secs\n",
            "iteration 7 = 16.5 secs\n",
            "iteration 8 = 20.2 secs\n",
            "iteration 9 = 21.9 secs\n",
            "iteration 10 = 21.5 secs\n",
            "iteration 11 = 24.5 secs\n",
            "iteration 12 = 30.4 secs\n",
            "iteration 13 = 34.3 secs\n",
            "iteration 14 = 25.7 secs\n",
            "iteration 15 = 25.6 secs\n",
            "iteration 16 = 27.6 secs\n",
            "iteration 17 = 33.0 secs\n",
            "iteration 18 = 29.9 secs\n"
          ],
          "name": "stdout"
        }
      ]
    },
    {
      "cell_type": "code",
      "metadata": {
        "id": "xsaz9-MiaQST",
        "colab_type": "code",
        "colab": {},
        "outputId": "e2860bea-b41c-45f0-9182-45a013135393"
      },
      "source": [
        "## accuracy for CV folds\n",
        "for i, key in enumerate(classifier_acc.keys()):\n",
        "    if i == 0: print(\"accuracy for classifiers using CV:\\n\")\n",
        "    print(str(key) + \" = \" + str(classifier_acc[key].round(5)))"
      ],
      "execution_count": null,
      "outputs": [
        {
          "output_type": "stream",
          "text": [
            "accuracy for classifiers using CV:\n",
            "\n",
            "svm_poly3_None_C001 = [0.64188 0.64188 0.6425  0.63938 0.64312]\n",
            "svm_poly5_None_C001 = [0.64312 0.64562 0.64375 0.64188 0.6425 ]\n",
            "svm_poly7_None_C001 = [0.64312 0.64938 0.64562 0.63875 0.64625]\n",
            "svm_poly3_balanced_C001 = [0.38    0.38    0.37688 0.3825  0.38875]\n",
            "svm_poly5_balanced_C001 = [0.40875 0.41688 0.41062 0.41812 0.43062]\n",
            "svm_poly7_balanced_C001 = [0.42188 0.42062 0.42312 0.43    0.44   ]\n",
            "svm_poly3_None_C1 = [0.76312 0.7575  0.7725  0.76312 0.7525 ]\n",
            "svm_poly5_None_C1 = [0.71938 0.7375  0.725   0.71375 0.71812]\n",
            "svm_poly7_None_C1 = [0.69375 0.69812 0.68875 0.67062 0.69188]\n",
            "svm_poly3_balanced_C1 = [0.72375 0.74625 0.73812 0.705   0.7675 ]\n",
            "svm_poly5_balanced_C1 = [0.62062 0.635   0.63438 0.62438 0.66938]\n",
            "svm_poly7_balanced_C1 = [0.56625 0.56063 0.56625 0.55188 0.6325 ]\n",
            "svm_poly3_None_C100 = [0.80625 0.81875 0.82375 0.82688 0.81625]\n",
            "svm_poly5_None_C100 = [0.81062 0.81625 0.80812 0.80062 0.79938]\n",
            "svm_poly7_None_C100 = [0.79    0.78188 0.7725  0.77188 0.77375]\n",
            "svm_poly3_balanced_C100 = [0.79188 0.80812 0.80562 0.8     0.82188]\n",
            "svm_poly5_balanced_C100 = [0.795   0.80688 0.8     0.78375 0.82   ]\n",
            "svm_poly7_balanced_C100 = [0.70562 0.70938 0.71188 0.685   0.7625 ]\n"
          ],
          "name": "stdout"
        }
      ]
    },
    {
      "cell_type": "code",
      "metadata": {
        "id": "tu6WSn9baQSZ",
        "colab_type": "code",
        "colab": {},
        "outputId": "eeae9df7-180c-48e6-b420-f5093658b99b"
      },
      "source": [
        "## average accuracy of the folds\n",
        "for i, key in enumerate(classifier_acc_mean.keys()):\n",
        "    if i == 0:\n",
        "        print(\"average accuracy of the folds for the classifiers:\\n\")        \n",
        "    print(str(key) + \" = \" + str(classifier_acc_mean[key].round(5)))"
      ],
      "execution_count": null,
      "outputs": [
        {
          "output_type": "stream",
          "text": [
            "average accuracy of the folds for the classifiers:\n",
            "\n",
            "svm_poly3_None_C001 = 0.64175\n",
            "svm_poly5_None_C001 = 0.64338\n",
            "svm_poly7_None_C001 = 0.64462\n",
            "svm_poly3_balanced_C001 = 0.38162\n",
            "svm_poly5_balanced_C001 = 0.417\n",
            "svm_poly7_balanced_C001 = 0.42712\n",
            "svm_poly3_None_C1 = 0.76175\n",
            "svm_poly5_None_C1 = 0.72275\n",
            "svm_poly7_None_C1 = 0.68862\n",
            "svm_poly3_balanced_C1 = 0.73612\n",
            "svm_poly5_balanced_C1 = 0.63675\n",
            "svm_poly7_balanced_C1 = 0.5755\n",
            "svm_poly3_None_C100 = 0.81838\n",
            "svm_poly5_None_C100 = 0.807\n",
            "svm_poly7_None_C100 = 0.778\n",
            "svm_poly3_balanced_C100 = 0.8055\n",
            "svm_poly5_balanced_C100 = 0.80113\n",
            "svm_poly7_balanced_C100 = 0.71487\n"
          ],
          "name": "stdout"
        }
      ]
    },
    {
      "cell_type": "code",
      "metadata": {
        "id": "1eV2GXDIaQSd",
        "colab_type": "code",
        "colab": {}
      },
      "source": [
        "## helper function\n",
        "def clf_spec(classifier_name):\n",
        "    [type, degree, class_weights, C] = classifier_name.split(\"_\")\n",
        "    print(\"\\nclassifier name = \" + str(classifier_name))\n",
        "    print(\"              C = \" + str(C[1:])) if C != \"C001\" else print(\"              C = 0.001\")\n",
        "    print(\"         degree = \" + str(degree[4:]))\n",
        "    print(\"  class_weights = \" + str(class_weights))"
      ],
      "execution_count": null,
      "outputs": []
    },
    {
      "cell_type": "code",
      "metadata": {
        "id": "_nvZg4U6aQSg",
        "colab_type": "code",
        "colab": {},
        "outputId": "714a0c1c-8d19-4452-fdc7-86c28ecc64ed"
      },
      "source": [
        "## max CV mean among the classifier\n",
        "classifier_acc_mean_max = np.max(list(classifier_acc_mean.values()))\n",
        "print(\"max CV score mean= \" + str(classifier_acc_mean_max))\n",
        "\n",
        "key_cv_max = list(classifier_acc_mean.keys())[list(classifier_acc_mean.values()).index(classifier_acc_mean_max)]\n",
        "clf_spec(key_cv_max)"
      ],
      "execution_count": null,
      "outputs": [
        {
          "output_type": "stream",
          "text": [
            "max CV score mean= 0.818375\n",
            "\n",
            "classifier name = svm_poly3_None_C100\n",
            "              C = 100\n",
            "         degree = 3\n",
            "  class_weights = None\n"
          ],
          "name": "stdout"
        }
      ]
    },
    {
      "cell_type": "markdown",
      "metadata": {
        "id": "vBglnR5WaQSj",
        "colab_type": "text"
      },
      "source": [
        "----\n",
        "#### 3.2.2 CV scores vs. the score generated by the overall training set"
      ]
    },
    {
      "cell_type": "markdown",
      "metadata": {
        "id": "7gOLxaOoaQSk",
        "colab_type": "text"
      },
      "source": [
        "Compare the average of the CV scores to the score generated by the overall\n",
        "training set. Which combination overfits the most? The least?"
      ]
    },
    {
      "cell_type": "markdown",
      "metadata": {
        "id": "b3_txypAaQSk",
        "colab_type": "text"
      },
      "source": [
        "> **Answer**:   \n",
        "> We calculate the difference between the average CV and the overal accuracy scores. The biggest difference would be the most overfitted model and the smallest difference would be the least overfitted."
      ]
    },
    {
      "cell_type": "code",
      "metadata": {
        "id": "S9KxjiysaQSm",
        "colab_type": "code",
        "colab": {},
        "outputId": "59f9a77d-0ce8-4203-db3b-1593249ce733"
      },
      "source": [
        "classifier_acc_overall = {}\n",
        "\n",
        "for i in range(0,len(classifier_name_list)):\n",
        "    time_start = time.perf_counter()\n",
        "    \n",
        "    classifier = globals()[classifier_name_list[i]]\n",
        "    classifier.fit(X_train_10k, y_train_10k_lb)\n",
        "    temp_acc_overall = classifier.score(X_train_10k, y_train_10k_lb)\n",
        "    classifier_acc_overall[classifier_name_list[i]] = temp_acc_overall\n",
        "\n",
        "    time_elapsed = (time.perf_counter() - time_start)\n",
        "    print (\"iteration\", i+1, \"=%5.1f secs\" % time_elapsed)"
      ],
      "execution_count": null,
      "outputs": [
        {
          "output_type": "stream",
          "text": [
            "iteration 1 =  8.7 secs\n",
            "iteration 2 =  8.6 secs\n",
            "iteration 3 =  8.9 secs\n",
            "iteration 4 = 13.1 secs\n",
            "iteration 5 = 13.1 secs\n",
            "iteration 6 = 11.4 secs\n",
            "iteration 7 =  8.2 secs\n",
            "iteration 8 = 12.9 secs\n",
            "iteration 9 = 10.7 secs\n",
            "iteration 10 = 10.0 secs\n",
            "iteration 11 = 12.6 secs\n",
            "iteration 12 = 12.5 secs\n",
            "iteration 13 = 11.1 secs\n",
            "iteration 14 =  9.7 secs\n",
            "iteration 15 =  9.6 secs\n",
            "iteration 16 =  8.8 secs\n",
            "iteration 17 =  8.4 secs\n",
            "iteration 18 = 10.1 secs\n"
          ],
          "name": "stdout"
        }
      ]
    },
    {
      "cell_type": "code",
      "metadata": {
        "id": "pvwmEv0naQSp",
        "colab_type": "code",
        "colab": {},
        "outputId": "c1c435e3-f973-4939-ba70-b0adc3125afd"
      },
      "source": [
        "## overall accuracy of the folds\n",
        "for i, key in enumerate(classifier_acc_overall.keys()):\n",
        "    if i == 0:\n",
        "        print(\"overall accuracy of the classifiers:\\n\")        \n",
        "    print(str(key) + \" = \" + str(classifier_acc_overall[key].round(5)))"
      ],
      "execution_count": null,
      "outputs": [
        {
          "output_type": "stream",
          "text": [
            "overall accuracy of the classifiers:\n",
            "\n",
            "svm_poly3_None_C001 = 0.64175\n",
            "svm_poly5_None_C001 = 0.64462\n",
            "svm_poly7_None_C001 = 0.64938\n",
            "svm_poly3_balanced_C001 = 0.38512\n",
            "svm_poly5_balanced_C001 = 0.41925\n",
            "svm_poly7_balanced_C001 = 0.43262\n",
            "svm_poly3_None_C1 = 0.77762\n",
            "svm_poly5_None_C1 = 0.74412\n",
            "svm_poly7_None_C1 = 0.71462\n",
            "svm_poly3_balanced_C1 = 0.77025\n",
            "svm_poly5_balanced_C1 = 0.66212\n",
            "svm_poly7_balanced_C1 = 0.60788\n",
            "svm_poly3_None_C100 = 0.872\n",
            "svm_poly5_None_C100 = 0.874\n",
            "svm_poly7_None_C100 = 0.83938\n",
            "svm_poly3_balanced_C100 = 0.861\n",
            "svm_poly5_balanced_C100 = 0.87012\n",
            "svm_poly7_balanced_C100 = 0.77938\n"
          ],
          "name": "stdout"
        }
      ]
    },
    {
      "cell_type": "code",
      "metadata": {
        "id": "1xhfXYzYaQSt",
        "colab_type": "code",
        "colab": {},
        "outputId": "cc25a1ca-d573-4334-b6d7-9dde0625865f"
      },
      "source": [
        "## difference between the overall accuracy and the average CV accuracy\n",
        "classifier_acc_dif = {}\n",
        "for k in classifier_acc_overall.keys():\n",
        "    classifier_acc_dif[k] = classifier_acc_overall[k] - classifier_acc_mean[k]\n",
        "    \n",
        "classifier_acc_dif_values = np.reshape(list(classifier_acc_dif.values()), len(classifier_acc_dif.values()), 1)\n",
        "for i,clf in enumerate(classifier_acc_overall.keys()):\n",
        "    print(\"CV dif = \" + str(classifier_acc_dif_values[i].round(5)) + \", \" + str(clf))"
      ],
      "execution_count": null,
      "outputs": [
        {
          "output_type": "stream",
          "text": [
            "CV dif = 0.0, svm_poly3_None_C001\n",
            "CV dif = 0.00125, svm_poly5_None_C001\n",
            "CV dif = 0.00475, svm_poly7_None_C001\n",
            "CV dif = 0.0035, svm_poly3_balanced_C001\n",
            "CV dif = 0.00225, svm_poly5_balanced_C001\n",
            "CV dif = 0.0055, svm_poly7_balanced_C001\n",
            "CV dif = 0.01588, svm_poly3_None_C1\n",
            "CV dif = 0.02137, svm_poly5_None_C1\n",
            "CV dif = 0.026, svm_poly7_None_C1\n",
            "CV dif = 0.03412, svm_poly3_balanced_C1\n",
            "CV dif = 0.02537, svm_poly5_balanced_C1\n",
            "CV dif = 0.03238, svm_poly7_balanced_C1\n",
            "CV dif = 0.05363, svm_poly3_None_C100\n",
            "CV dif = 0.067, svm_poly5_None_C100\n",
            "CV dif = 0.06137, svm_poly7_None_C100\n",
            "CV dif = 0.0555, svm_poly3_balanced_C100\n",
            "CV dif = 0.069, svm_poly5_balanced_C100\n",
            "CV dif = 0.0645, svm_poly7_balanced_C100\n"
          ],
          "name": "stdout"
        }
      ]
    },
    {
      "cell_type": "code",
      "metadata": {
        "id": "mOVykW3OaQSz",
        "colab_type": "code",
        "colab": {},
        "outputId": "ed8c8ac8-d86a-4380-e1f8-6fd47870b971"
      },
      "source": [
        "clf_cv_dif_min_value = classifier_acc_dif_values.min()\n",
        "print(\"min CV difference= \" + str(clf_cv_dif_min_value.round(5)))\n",
        "\n",
        "key_cv_dif_min = list(classifier_acc_dif.keys())[list(classifier_acc_dif.values()).index(clf_cv_dif_min_value)]\n",
        "clf_spec(key_cv_dif_min)"
      ],
      "execution_count": null,
      "outputs": [
        {
          "output_type": "stream",
          "text": [
            "min CV difference= 0.0\n",
            "\n",
            "classifier name = svm_poly3_None_C001\n",
            "              C = 0.001\n",
            "         degree = 3\n",
            "  class_weights = None\n"
          ],
          "name": "stdout"
        }
      ]
    },
    {
      "cell_type": "code",
      "metadata": {
        "id": "y8qfhGQ4aQS1",
        "colab_type": "code",
        "colab": {},
        "outputId": "3f19509a-426d-42c1-c10d-93c00fa9bc74"
      },
      "source": [
        "clf_cv_dif_max_value = classifier_acc_dif_values.max()\n",
        "print(\"max CV difference= \" + str(clf_cv_dif_max_value.round(5)))\n",
        "\n",
        "key_cv_dif_max = list(classifier_acc_dif.keys())[list(classifier_acc_dif.values()).index(clf_cv_dif_max_value)]\n",
        "clf_spec(key_cv_dif_max)"
      ],
      "execution_count": null,
      "outputs": [
        {
          "output_type": "stream",
          "text": [
            "max CV difference= 0.069\n",
            "\n",
            "classifier name = svm_poly5_balanced_C100\n",
            "              C = 100\n",
            "         degree = 5\n",
            "  class_weights = balanced\n"
          ],
          "name": "stdout"
        }
      ]
    },
    {
      "cell_type": "markdown",
      "metadata": {
        "id": "Ycwh7MPQaQS6",
        "colab_type": "text"
      },
      "source": [
        "----\n",
        "#### 3.2.3 The classifier that correctly classifies as many spruce/fir samples as possible"
      ]
    },
    {
      "cell_type": "markdown",
      "metadata": {
        "id": "n8K33SAgaQS7",
        "colab_type": "text"
      },
      "source": [
        "If you wanted a classifier that prioritized correctly classifying as many\n",
        "spruce/fir samples as possible without concern for misclassifying other\n",
        "types as spruce/fir, which combination is the best?"
      ]
    },
    {
      "cell_type": "markdown",
      "metadata": {
        "id": "bnIKNykFaQS7",
        "colab_type": "text"
      },
      "source": [
        "> **Answer**:   \n",
        "> Correctly classifying as many spruce/fir samples as possible without concern for misclassifying other types as spruce/fir means having the highest percision possible. So, we pick the one with the highest recall regradless of recall."
      ]
    },
    {
      "cell_type": "code",
      "metadata": {
        "id": "hGtwu2PFaQS8",
        "colab_type": "code",
        "colab": {},
        "outputId": "a7ed9733-f660-4815-ed62-4e224029f1c9"
      },
      "source": [
        "classifier_precision = {}\n",
        "classifier_recall = {}\n",
        "\n",
        "for i in range(0,len(classifier_name_list)):\n",
        "    time_start = time.perf_counter()\n",
        "    \n",
        "    classifier = globals()[classifier_name_list[i]]\n",
        "    classifier.fit(X_train_10k, y_train_10k_lb)\n",
        "    svm_clf_10k_train_pred = classifier.predict(X_train_10k)\n",
        "    classifier_precision[classifier_name_list[i]] = precision_score(y_train_10k_lb, svm_clf_10k_train_pred)\n",
        "    classifier_recall[classifier_name_list[i]] = recall_score(y_train_10k_lb, svm_clf_10k_train_pred)\n",
        "\n",
        "    time_elapsed = (time.perf_counter() - time_start)\n",
        "    print (\"iteration\", i+1, \"=%5.1f secs\" % time_elapsed)"
      ],
      "execution_count": null,
      "outputs": [
        {
          "output_type": "stream",
          "text": [
            "iteration 1 =  7.8 secs\n",
            "iteration 2 =  7.7 secs\n",
            "iteration 3 =  8.8 secs\n",
            "iteration 4 = 11.6 secs\n",
            "iteration 5 = 12.0 secs\n",
            "iteration 6 = 11.5 secs\n",
            "iteration 7 =  6.7 secs\n",
            "iteration 8 =  8.1 secs\n",
            "iteration 9 =  8.2 secs\n",
            "iteration 10 =  7.5 secs\n",
            "iteration 11 =  8.3 secs\n",
            "iteration 12 =  9.6 secs\n",
            "iteration 13 =  8.9 secs\n",
            "iteration 14 =  9.2 secs\n",
            "iteration 15 = 14.2 secs\n",
            "iteration 16 =  8.6 secs\n",
            "iteration 17 =  8.3 secs\n",
            "iteration 18 = 10.4 secs\n"
          ],
          "name": "stdout"
        }
      ]
    },
    {
      "cell_type": "code",
      "metadata": {
        "id": "n862kN_AaQTC",
        "colab_type": "code",
        "colab": {},
        "outputId": "62d7fd9d-569e-4e51-d5f4-ceb1ae6d2c5c"
      },
      "source": [
        "## percision scores of the classifiers\n",
        "print(\"percision scores of the classifiers:\\n\")\n",
        "\n",
        "for clf in classifier_precision.keys():\n",
        "    print(\"percision = \" + str(classifier_precision[clf].round(5)) + \", \" + str(clf))"
      ],
      "execution_count": null,
      "outputs": [
        {
          "output_type": "stream",
          "text": [
            "percision scores of the classifiers:\n",
            "\n",
            "percision = 0.93333, svm_poly3_None_C001\n",
            "percision = 0.8913, svm_poly5_None_C001\n",
            "percision = 0.89362, svm_poly7_None_C001\n",
            "percision = 0.369, svm_poly3_balanced_C001\n",
            "percision = 0.38187, svm_poly5_balanced_C001\n",
            "percision = 0.38787, svm_poly7_balanced_C001\n",
            "percision = 0.75253, svm_poly3_None_C1\n",
            "percision = 0.81325, svm_poly5_None_C1\n",
            "percision = 0.87157, svm_poly7_None_C1\n",
            "percision = 0.63187, svm_poly3_balanced_C1\n",
            "percision = 0.51679, svm_poly5_balanced_C1\n",
            "percision = 0.47801, svm_poly7_balanced_C1\n",
            "percision = 0.84725, svm_poly3_None_C100\n",
            "percision = 0.88293, svm_poly5_None_C100\n",
            "percision = 0.90498, svm_poly7_None_C100\n",
            "percision = 0.7635, svm_poly3_balanced_C100\n",
            "percision = 0.78032, svm_poly5_balanced_C100\n",
            "percision = 0.62717, svm_poly7_balanced_C100\n"
          ],
          "name": "stdout"
        }
      ]
    },
    {
      "cell_type": "code",
      "metadata": {
        "id": "ohhV2l69aQTF",
        "colab_type": "code",
        "colab": {},
        "outputId": "0676eea2-c87d-49c0-c6d9-48c439207f17"
      },
      "source": [
        "## maximum precision score classifier\n",
        "classifier_precision_values = np.reshape(list(classifier_precision.values()), len(classifier_precision.values()), 1)\n",
        "classifier_precision_max_value = classifier_precision_values.max()\n",
        "print(\"max precision score = \" + str(classifier_precision_max_value.round(5)))\n",
        "\n",
        "key_precision_max_value = list(classifier_precision.keys())[list(classifier_precision.values()).index(classifier_precision_max_value)]\n",
        "clf_spec(key_precision_max_value)"
      ],
      "execution_count": null,
      "outputs": [
        {
          "output_type": "stream",
          "text": [
            "max precision score = 0.93333\n",
            "\n",
            "classifier name = svm_poly3_None_C001\n",
            "              C = 0.001\n",
            "         degree = 3\n",
            "  class_weights = None\n"
          ],
          "name": "stdout"
        }
      ]
    },
    {
      "cell_type": "markdown",
      "metadata": {
        "id": "F-BWa3ThaQTJ",
        "colab_type": "text"
      },
      "source": [
        "----\n",
        "#### 3.2.4 Making sure other cover types are not classified as spruce/fir"
      ]
    },
    {
      "cell_type": "markdown",
      "metadata": {
        "id": "tD6NgaFYaQTJ",
        "colab_type": "text"
      },
      "source": [
        "If you wanted a classifier that prioritized making sure other cover types\n",
        "are not classified as spruce/fir even if it means misclassifying spruce/\fr\n",
        "types incorrectly, which combination is the best?"
      ]
    },
    {
      "cell_type": "markdown",
      "metadata": {
        "id": "jz3VuyF6aQTK",
        "colab_type": "text"
      },
      "source": [
        "> **Answer**:   \n",
        "> Making sure other cover types are not classified as spruce/fir even if misclassifying spruce/fir\n",
        "types incorrectly implies having the highest recall (or the minimum false negatives) possible. So, we pick the one with the highest recall score regradless of recall."
      ]
    },
    {
      "cell_type": "code",
      "metadata": {
        "id": "Czf3iPziaQTM",
        "colab_type": "code",
        "colab": {},
        "outputId": "b5164a3a-b554-4a83-c778-f14c13ad7519"
      },
      "source": [
        "## recall scores of the classifiers\n",
        "print(\"recall scores of the classifiers:\\n\")\n",
        "\n",
        "for clf in classifier_recall.keys():\n",
        "    print(\"recall = \" + str(classifier_recall[clf].round(5)) + \", \" + str(clf))"
      ],
      "execution_count": null,
      "outputs": [
        {
          "output_type": "stream",
          "text": [
            "recall scores of the classifiers:\n",
            "\n",
            "recall = 0.00486, svm_poly3_None_C001\n",
            "recall = 0.01424, svm_poly5_None_C001\n",
            "recall = 0.02918, svm_poly7_None_C001\n",
            "recall = 0.99792, svm_poly3_balanced_C001\n",
            "recall = 0.99201, svm_poly5_balanced_C001\n",
            "recall = 0.99722, svm_poly7_balanced_C001\n",
            "recall = 0.56929, svm_poly3_None_C1\n",
            "recall = 0.37513, svm_poly5_None_C1\n",
            "recall = 0.24279, svm_poly7_None_C1\n",
            "recall = 0.86627, svm_poly3_balanced_C1\n",
            "recall = 0.94095, svm_poly5_balanced_C1\n",
            "recall = 0.97395, svm_poly7_balanced_C1\n",
            "recall = 0.78604, svm_poly3_None_C100\n",
            "recall = 0.74922, svm_poly5_None_C100\n",
            "recall = 0.61862, svm_poly7_None_C100\n",
            "recall = 0.8892, svm_poly3_balanced_C100\n",
            "recall = 0.88954, svm_poly5_balanced_C100\n",
            "recall = 0.95415, svm_poly7_balanced_C100\n"
          ],
          "name": "stdout"
        }
      ]
    },
    {
      "cell_type": "code",
      "metadata": {
        "id": "xqulV7s8aQTP",
        "colab_type": "code",
        "colab": {},
        "outputId": "b3ec2c8d-dab0-49d2-be5c-2c1d44ac2c8c"
      },
      "source": [
        "## maximum recall classifier\n",
        "classifier_recall_values = np.reshape(list(classifier_recall.values()), len(classifier_recall.values()), 1)\n",
        "classifier_recall_max_value = classifier_recall_values.max()\n",
        "print(\"max recall score = \" + str(classifier_recall_max_value.round(5)))\n",
        "\n",
        "key_recall_max_value = list(classifier_recall.keys())[list(classifier_recall.values()).index(classifier_recall_max_value)]\n",
        "clf_spec(key_recall_max_value)"
      ],
      "execution_count": null,
      "outputs": [
        {
          "output_type": "stream",
          "text": [
            "max recall score = 0.99792\n",
            "\n",
            "classifier name = svm_poly3_balanced_C001\n",
            "              C = 0.001\n",
            "         degree = 3\n",
            "  class_weights = balanced\n"
          ],
          "name": "stdout"
        }
      ]
    },
    {
      "cell_type": "markdown",
      "metadata": {
        "id": "KIx7gHu5aQTS",
        "colab_type": "text"
      },
      "source": [
        "----\n",
        "#### 3.2.5 Accuracy score for each combination of options on the test set"
      ]
    },
    {
      "cell_type": "markdown",
      "metadata": {
        "id": "3-nyXw39aQTS",
        "colab_type": "text"
      },
      "source": [
        "Find the accuracy score for each combination of options on the test set.\n",
        "Which combination actually worked the best on the test set?"
      ]
    },
    {
      "cell_type": "code",
      "metadata": {
        "id": "bBBKCHiraQTT",
        "colab_type": "code",
        "colab": {},
        "outputId": "b9530641-4872-4bbd-b17a-773f89811b4c"
      },
      "source": [
        "classifier_test_acc = {}\n",
        "\n",
        "for i in range(0,len(classifier_name_list)):\n",
        "    time_start = time.perf_counter()\n",
        "    \n",
        "    classifier = globals()[classifier_name_list[i]]\n",
        "    classifier_test_acc[classifier_name_list[i]] = classifier.score(X_test_10k, y_test_10k_lb)\n",
        "    \n",
        "    time_elapsed = (time.perf_counter() - time_start)\n",
        "    print (\"iteration\", i+1, \"=%5.1f secs\" % time_elapsed)"
      ],
      "execution_count": null,
      "outputs": [
        {
          "output_type": "stream",
          "text": [
            "iteration 1 =  0.7 secs\n",
            "iteration 2 =  0.8 secs\n",
            "iteration 3 =  0.9 secs\n",
            "iteration 4 =  1.1 secs\n",
            "iteration 5 =  1.0 secs\n",
            "iteration 6 =  1.1 secs\n",
            "iteration 7 =  0.8 secs\n",
            "iteration 8 =  0.8 secs\n",
            "iteration 9 =  0.7 secs\n",
            "iteration 10 =  0.7 secs\n",
            "iteration 11 =  0.9 secs\n",
            "iteration 12 =  0.8 secs\n",
            "iteration 13 =  0.4 secs\n",
            "iteration 14 =  0.5 secs\n",
            "iteration 15 =  0.6 secs\n",
            "iteration 16 =  0.5 secs\n",
            "iteration 17 =  0.6 secs\n",
            "iteration 18 =  0.6 secs\n"
          ],
          "name": "stdout"
        }
      ]
    },
    {
      "cell_type": "code",
      "metadata": {
        "id": "dXEf6ZHzaQTX",
        "colab_type": "code",
        "colab": {},
        "outputId": "c359187f-e06c-4410-ec85-d8fdef1d2cc2"
      },
      "source": [
        "## accuracy scores of the classifiers on the test set\n",
        "print(\"accuracy scores of the classifiers on the test set:\\n\")\n",
        "\n",
        "for clf in classifier_test_acc.keys():\n",
        "    print(\"accuracy = \" + str(classifier_test_acc[clf].round(5)) + \", \" + str(clf))"
      ],
      "execution_count": null,
      "outputs": [
        {
          "output_type": "stream",
          "text": [
            "accuracy scores of the classifiers on the test set:\n",
            "\n",
            "accuracy = 0.6265, svm_poly3_None_C001\n",
            "accuracy = 0.6285, svm_poly5_None_C001\n",
            "accuracy = 0.6295, svm_poly7_None_C001\n",
            "accuracy = 0.395, svm_poly3_balanced_C001\n",
            "accuracy = 0.426, svm_poly5_balanced_C001\n",
            "accuracy = 0.437, svm_poly7_balanced_C001\n",
            "accuracy = 0.7535, svm_poly3_None_C1\n",
            "accuracy = 0.7155, svm_poly5_None_C1\n",
            "accuracy = 0.681, svm_poly7_None_C1\n",
            "accuracy = 0.7515, svm_poly3_balanced_C1\n",
            "accuracy = 0.634, svm_poly5_balanced_C1\n",
            "accuracy = 0.583, svm_poly7_balanced_C1\n",
            "accuracy = 0.8285, svm_poly3_None_C100\n",
            "accuracy = 0.819, svm_poly5_None_C100\n",
            "accuracy = 0.7875, svm_poly7_None_C100\n",
            "accuracy = 0.8125, svm_poly3_balanced_C100\n",
            "accuracy = 0.8055, svm_poly5_balanced_C100\n",
            "accuracy = 0.736, svm_poly7_balanced_C100\n"
          ],
          "name": "stdout"
        }
      ]
    },
    {
      "cell_type": "code",
      "metadata": {
        "id": "GkoMuIF6aQTY",
        "colab_type": "code",
        "colab": {},
        "outputId": "b30a8b15-aa79-40d9-9e26-cff75f9205ac"
      },
      "source": [
        "## maximum accuracy classifier\n",
        "classifier_test_acc_values = np.reshape(list(classifier_test_acc.values()), len(classifier_test_acc.values()), 1)\n",
        "classifier_test_acc_max_value = classifier_test_acc_values.max()\n",
        "print(\"max accuracy score = \" + str(classifier_test_acc_max_value.round(5)))\n",
        "\n",
        "key_acc_max_value = list(classifier_test_acc.keys())[list(classifier_test_acc.values()).index(classifier_test_acc_max_value)]\n",
        "clf_spec(key_acc_max_value)"
      ],
      "execution_count": null,
      "outputs": [
        {
          "output_type": "stream",
          "text": [
            "max accuracy score = 0.8285\n",
            "\n",
            "classifier name = svm_poly3_None_C100\n",
            "              C = 100\n",
            "         degree = 3\n",
            "  class_weights = None\n"
          ],
          "name": "stdout"
        }
      ]
    },
    {
      "cell_type": "markdown",
      "metadata": {
        "id": "svdLuXuHaQTc",
        "colab_type": "text"
      },
      "source": [
        "----\n",
        "#### 3.2.6 Overall effect of increasing C"
      ]
    },
    {
      "cell_type": "markdown",
      "metadata": {
        "id": "3SaWtuM6aQTc",
        "colab_type": "text"
      },
      "source": [
        "What was the overall effect of increasing C?"
      ]
    },
    {
      "cell_type": "markdown",
      "metadata": {
        "id": "tGFP0PyUaQTd",
        "colab_type": "text"
      },
      "source": [
        "> **Answer**:   \n",
        "> We take the standard case of `polyDeg = 3` and `class_weight=None` to study the effect of `C` using our classifiers and the evaluation of their performance."
      ]
    },
    {
      "cell_type": "code",
      "metadata": {
        "id": "LhzQS21GaQTd",
        "colab_type": "code",
        "colab": {}
      },
      "source": [
        "## helper function\n",
        "def clf_eval(classifier_name_list, criteria):\n",
        "    '''\n",
        "    returns the accuracy criteria measure before\n",
        "    for the list of the names of the classifiers provided.\n",
        "    '''\n",
        "    assert criteria in [\"C\", \"degree\", \"class_weight\"], '>>> InputError: criteria NOT in [\"C\", \"degree\", \"class_weight\"]! <<<\\n'\n",
        "    \n",
        "    for i in range(0, len(classifier_name_list)):\n",
        "        clf_acc = classifier_acc[classifier_name_list[i]]\n",
        "        clf_acc_mean = classifier_acc_mean[classifier_name_list[i]]\n",
        "        clf_acc_overall = classifier_acc_overall[classifier_name_list[i]]\n",
        "        clf_precision = classifier_precision[classifier_name_list[i]]\n",
        "        clf_recall = classifier_recall[classifier_name_list[i]]\n",
        "        clf_test_acc = classifier_test_acc[classifier_name_list[i]]\n",
        "        \n",
        "        [type, degree, class_weights, C] = classifier_name_list[i].split(\"_\")\n",
        "        if C == \"C001\":\n",
        "            C = \"C0.001\"\n",
        "        \n",
        "        if criteria == \"C\":\n",
        "            print(\"clf_CV_mean = \" + str(clf_acc_mean.round(3)) + \", \" +\n",
        "                 \"clf_acc_overall = \" + str(clf_acc_overall.round(3)) + \", \" +\n",
        "                 \"clf_precision = \" + str(clf_precision.round(3)) + \", \" +\n",
        "                 \"clf_recall = \" + str(clf_recall.round(3)) + \", \" +\n",
        "                 \"clf_test_acc = \" + str(clf_test_acc.round(3)) + \"   |C = \" + C[1:])\n",
        "            \n",
        "        elif criteria == \"degree\":\n",
        "            print(\"clf_CV_mean = \" + str(clf_acc_mean.round(3)) + \", \" +\n",
        "                 \"clf_acc_overall = \" + str(clf_acc_overall.round(3)) + \", \" +\n",
        "                 \"clf_precision = \" + str(clf_precision.round(3)) + \", \" +\n",
        "                 \"clf_recall = \" + str(clf_recall.round(3)) + \", \" +\n",
        "                 \"clf_test_acc = \" + str(clf_test_acc.round(3)) + \"   |degree = \" + degree[4:])\n",
        "        else:\n",
        "            print(\"clf_CV_mean = \" + str(clf_acc_mean.round(3)) + \", \" +\n",
        "                 \"clf_acc_overall = \" + str(clf_acc_overall.round(3)) + \", \" +\n",
        "                 \"clf_precision = \" + str(clf_precision.round(3)) + \", \" +\n",
        "                 \"clf_recall = \" + str(clf_recall.round(3)) + \", \" +\n",
        "                 \"clf_test_acc = \" + str(clf_test_acc.round(3)) + \"|weight = \" + class_weights)\n",
        "        "
      ],
      "execution_count": null,
      "outputs": []
    },
    {
      "cell_type": "code",
      "metadata": {
        "id": "kvxZgXpLaQTf",
        "colab_type": "code",
        "colab": {},
        "outputId": "114b699a-f33c-41fc-b342-3648567eb211"
      },
      "source": [
        "classifier_compar_C = [\"svm_poly3_None_C001\",\n",
        "                       \"svm_poly3_None_C1\",\n",
        "                       \"svm_poly3_None_C100\"]\n",
        "\n",
        "clf_eval(classifier_compar_C, \"C\")"
      ],
      "execution_count": null,
      "outputs": [
        {
          "output_type": "stream",
          "text": [
            "clf_CV_mean = 0.642, clf_acc_overall = 0.642, clf_precision = 0.933, clf_recall = 0.005, clf_test_acc = 0.626   |C = 0.001\n",
            "clf_CV_mean = 0.762, clf_acc_overall = 0.778, clf_precision = 0.753, clf_recall = 0.569, clf_test_acc = 0.754   |C = 1\n",
            "clf_CV_mean = 0.818, clf_acc_overall = 0.872, clf_precision = 0.847, clf_recall = 0.786, clf_test_acc = 0.828   |C = 100\n"
          ],
          "name": "stdout"
        }
      ]
    },
    {
      "cell_type": "markdown",
      "metadata": {
        "id": "1uWayhszaQTi",
        "colab_type": "text"
      },
      "source": [
        "> **Answer**:   \n",
        "> `C` is the penalization parameter that controls the tradeoff between smoothness of the boundary curve and the number of correct classification of points. Increasing `C` may lead to overfitting.   \n",
        "As we can see from the printout above, accuracy scores (clf_CV_mean, clf_acc_overall, clf_test_acc) as well as clf_recall increase as `C` increases but clf_precision decreases."
      ]
    },
    {
      "cell_type": "markdown",
      "metadata": {
        "id": "NtAzi7qbaQTi",
        "colab_type": "text"
      },
      "source": [
        "----\n",
        "#### 3.2.7 Overall effect of increasing the polynomial degree"
      ]
    },
    {
      "cell_type": "markdown",
      "metadata": {
        "id": "JH6BgYAZaQTj",
        "colab_type": "text"
      },
      "source": [
        "What was the overall effect of increasing the polynomial degree?"
      ]
    },
    {
      "cell_type": "markdown",
      "metadata": {
        "id": "jLmkTD6gaQTj",
        "colab_type": "text"
      },
      "source": [
        "> **Answer**:   \n",
        "> We take the standard case of `C = 1` and `class_weight=None` to study the effect of `polyDeg` using our classifiers and the evaluation of their performance."
      ]
    },
    {
      "cell_type": "code",
      "metadata": {
        "id": "K7pHNIkyaQTj",
        "colab_type": "code",
        "colab": {},
        "outputId": "fa528148-fe27-49f2-a7c3-c50c3b8fffca"
      },
      "source": [
        "classifier_compar_deg = [\"svm_poly3_None_C1\",\n",
        "                         \"svm_poly5_None_C1\",\n",
        "                         \"svm_poly7_None_C1\"]\n",
        "\n",
        "clf_eval(classifier_compar_deg, \"degree\")"
      ],
      "execution_count": null,
      "outputs": [
        {
          "output_type": "stream",
          "text": [
            "clf_CV_mean = 0.762, clf_acc_overall = 0.778, clf_precision = 0.753, clf_recall = 0.569, clf_test_acc = 0.754   |degree = 3\n",
            "clf_CV_mean = 0.723, clf_acc_overall = 0.744, clf_precision = 0.813, clf_recall = 0.375, clf_test_acc = 0.716   |degree = 5\n",
            "clf_CV_mean = 0.689, clf_acc_overall = 0.715, clf_precision = 0.872, clf_recall = 0.243, clf_test_acc = 0.681   |degree = 7\n"
          ],
          "name": "stdout"
        }
      ]
    },
    {
      "cell_type": "markdown",
      "metadata": {
        "id": "7NP66Zd0aQTl",
        "colab_type": "text"
      },
      "source": [
        "> **Answer**:   \n",
        "> Using `degree=1` is the same as using a ‘linear’ kernel. Increasing this parameters increases the complexity of the model and consequently the training time. Increasing the degree of the polynomial does not necessarily lead to overfitting but rather makes the shape of the boundaries more complicated and the computation more time consuming.   \n",
        "As we can see from the printout above, accuracy scores (clf_CV_mean, clf_acc_overall, clf_test_acc) and also clf_recall decrease as `polyDeg` goes up but clf_precision increases."
      ]
    },
    {
      "cell_type": "markdown",
      "metadata": {
        "id": "-GqgufCIaQTl",
        "colab_type": "text"
      },
      "source": [
        "----\n",
        "#### 3.2.8 Assigning balanced weights"
      ]
    },
    {
      "cell_type": "markdown",
      "metadata": {
        "id": "N9r3HHKWaQTl",
        "colab_type": "text"
      },
      "source": [
        "Assigning balanced weights is meant to mitigate the effect of larger label\n",
        "counts skewing the SVM result. Does it work?"
      ]
    },
    {
      "cell_type": "markdown",
      "metadata": {
        "id": "KF3ejmu2aQTl",
        "colab_type": "text"
      },
      "source": [
        "> **Answer**:   \n",
        "> We take the standard case of `C = 1` and `polyDeg = 3` to study the effect of `class_weight` using our classifiers and the evaluation of their performance."
      ]
    },
    {
      "cell_type": "code",
      "metadata": {
        "id": "lTlnT2jEaQTm",
        "colab_type": "code",
        "colab": {},
        "outputId": "01094a30-3b5b-4141-bfdc-904301de4e5c"
      },
      "source": [
        "classifier_compar_classWeight = [\"svm_poly3_None_C1\",\n",
        "                                 \"svm_poly3_balanced_C1\"]\n",
        "\n",
        "clf_eval(classifier_compar_classWeight, \"class_weight\")"
      ],
      "execution_count": null,
      "outputs": [
        {
          "output_type": "stream",
          "text": [
            "clf_CV_mean = 0.762, clf_acc_overall = 0.778, clf_precision = 0.753, clf_recall = 0.569, clf_test_acc = 0.754|weight = None\n",
            "clf_CV_mean = 0.736, clf_acc_overall = 0.77, clf_precision = 0.632, clf_recall = 0.866, clf_test_acc = 0.752|weight = balanced\n"
          ],
          "name": "stdout"
        }
      ]
    },
    {
      "cell_type": "code",
      "metadata": {
        "id": "Lh3TgUR9aQTo",
        "colab_type": "code",
        "colab": {},
        "outputId": "28ca4ffa-f1ab-4b9c-adbb-71b0b047cc41"
      },
      "source": [
        "classifier_compar_classWeight = [\"svm_poly5_None_C1\",\n",
        "                                 \"svm_poly5_balanced_C1\"]\n",
        "\n",
        "clf_eval(classifier_compar_classWeight, \"class_weight\")"
      ],
      "execution_count": null,
      "outputs": [
        {
          "output_type": "stream",
          "text": [
            "clf_CV_mean = 0.723, clf_acc_overall = 0.744, clf_precision = 0.813, clf_recall = 0.375, clf_test_acc = 0.716|weight = None\n",
            "clf_CV_mean = 0.637, clf_acc_overall = 0.662, clf_precision = 0.517, clf_recall = 0.941, clf_test_acc = 0.634|weight = balanced\n"
          ],
          "name": "stdout"
        }
      ]
    },
    {
      "cell_type": "markdown",
      "metadata": {
        "id": "80CmVgLGaQTq",
        "colab_type": "text"
      },
      "source": [
        "> **Answer**:   \n",
        ">`C` get multiplied by `class_weight` to change the magnitude of penalization. As we can see from the printouts above, accuracy scores (clf_CV_mean, clf_acc_overall) and also clf_precision decrease when `class_weight = balanced`. In other words, the classifier works more in favor of increasing recall and somehow helps mitigate the effect of larger label."
      ]
    },
    {
      "cell_type": "markdown",
      "metadata": {
        "id": "QxBWwpkQaQTq",
        "colab_type": "text"
      },
      "source": [
        "----\n",
        "### 3.3 Evaluation"
      ]
    },
    {
      "cell_type": "markdown",
      "metadata": {
        "id": "8KuSBB5yaQTr",
        "colab_type": "text"
      },
      "source": [
        "Did the CV scores you encountered give you confidence that the polynomial\n",
        "kernal SVM would be an improvement over the \"NOT spruce/fir\" classifier? What\n",
        "would you try to do differently to find a better SVM?"
      ]
    },
    {
      "cell_type": "code",
      "metadata": {
        "id": "656ufMEYaQTr",
        "colab_type": "code",
        "colab": {},
        "outputId": "5dc44a3c-1591-4be0-a936-10e0169aa4cb"
      },
      "source": [
        "classifier_acc_mean_values = list(classifier_acc_mean.values())\n",
        "print(\"max ave-CV accuracy of classifiers = \" + str(np.max(classifier_acc_mean_values)))\n",
        "print(\"min ave-CV accuracy of classifiers = \" + str(np.min(classifier_acc_mean_values)))\n",
        "print(\"\\nmean ave-CV accuracy of classifiers = \" + str(np.mean(classifier_acc_mean_values).round(5)))\n",
        "\n",
        "## never-1-calssifier defined in Problem 1\n",
        "never_1_clf_10k_acc = cross_val_score(never_1_clf_10k, X_train_10k, y_train_10k_lb, scoring=\"accuracy\")\n",
        "print(\">>>  ave_CV accuracy of never_1_clf = \" + str(np.mean(never_1_clf_10k_acc).round(5)))"
      ],
      "execution_count": null,
      "outputs": [
        {
          "output_type": "stream",
          "text": [
            "max ave-CV accuracy of classifiers = 0.818375\n",
            "min ave-CV accuracy of classifiers = 0.381625\n",
            "\n",
            "mean ave-CV accuracy of classifiers = 0.66677\n",
            ">>>  ave_CV accuracy of never_1_clf = 0.64013\n"
          ],
          "name": "stdout"
        }
      ]
    },
    {
      "cell_type": "markdown",
      "metadata": {
        "id": "GOEFVCRhaQTt",
        "colab_type": "text"
      },
      "source": [
        "> **Answer**:   \n",
        ">As we can see, the average accuracy of CV for the 18 classifiers created earlier is almost the same as `never-1-clf` and it deos not provide any *significant* advantage over the `never-1-clf` even though for some of them the CV accuracy reached around 80%.  \n",
        "We can try tuning other parameters such as `gamma` and try other kernels to see if we get better results using `GridSearchCV`."
      ]
    },
    {
      "cell_type": "code",
      "metadata": {
        "id": "nLDW3BS4aQTu",
        "colab_type": "code",
        "colab": {},
        "outputId": "87c95199-0bda-4403-916e-77391a83a09b"
      },
      "source": [
        "from sklearn.model_selection import GridSearchCV \n",
        "\n",
        "# defining parameter range \n",
        "param_grid = {'C': [0.001, 1, 100],\n",
        "              'gamma': [1, 0.01, 0.0001],\n",
        "              'kernel': ['rbf'],\n",
        "              'class_weight': ['balanced', None]\n",
        "             } \n",
        "\n",
        "grid = GridSearchCV(SVC(), param_grid, refit = True, verbose = 3) \n",
        "\n",
        "# fitting the model for grid search \n",
        "grid.fit(X_train_10k, y_train_10k_lb)"
      ],
      "execution_count": null,
      "outputs": [
        {
          "output_type": "stream",
          "text": [
            "Fitting 5 folds for each of 18 candidates, totalling 90 fits\n",
            "[CV] C=0.001, class_weight=balanced, gamma=1, kernel=rbf .............\n"
          ],
          "name": "stdout"
        },
        {
          "output_type": "stream",
          "text": [
            "[Parallel(n_jobs=1)]: Using backend SequentialBackend with 1 concurrent workers.\n"
          ],
          "name": "stderr"
        },
        {
          "output_type": "stream",
          "text": [
            "[CV]  C=0.001, class_weight=balanced, gamma=1, kernel=rbf, score=0.641, total=   9.1s\n",
            "[CV] C=0.001, class_weight=balanced, gamma=1, kernel=rbf .............\n"
          ],
          "name": "stdout"
        },
        {
          "output_type": "stream",
          "text": [
            "[Parallel(n_jobs=1)]: Done   1 out of   1 | elapsed:    9.0s remaining:    0.0s\n"
          ],
          "name": "stderr"
        },
        {
          "output_type": "stream",
          "text": [
            "[CV]  C=0.001, class_weight=balanced, gamma=1, kernel=rbf, score=0.640, total=   8.2s\n",
            "[CV] C=0.001, class_weight=balanced, gamma=1, kernel=rbf .............\n"
          ],
          "name": "stdout"
        },
        {
          "output_type": "stream",
          "text": [
            "[Parallel(n_jobs=1)]: Done   2 out of   2 | elapsed:   17.2s remaining:    0.0s\n"
          ],
          "name": "stderr"
        },
        {
          "output_type": "stream",
          "text": [
            "[CV]  C=0.001, class_weight=balanced, gamma=1, kernel=rbf, score=0.640, total=   8.3s\n",
            "[CV] C=0.001, class_weight=balanced, gamma=1, kernel=rbf .............\n",
            "[CV]  C=0.001, class_weight=balanced, gamma=1, kernel=rbf, score=0.640, total=   9.1s\n",
            "[CV] C=0.001, class_weight=balanced, gamma=1, kernel=rbf .............\n",
            "[CV]  C=0.001, class_weight=balanced, gamma=1, kernel=rbf, score=0.640, total=   9.5s\n",
            "[CV] C=0.001, class_weight=balanced, gamma=0.01, kernel=rbf ..........\n",
            "[CV]  C=0.001, class_weight=balanced, gamma=0.01, kernel=rbf, score=0.641, total=   9.2s\n",
            "[CV] C=0.001, class_weight=balanced, gamma=0.01, kernel=rbf ..........\n",
            "[CV]  C=0.001, class_weight=balanced, gamma=0.01, kernel=rbf, score=0.640, total=   8.2s\n",
            "[CV] C=0.001, class_weight=balanced, gamma=0.01, kernel=rbf ..........\n",
            "[CV]  C=0.001, class_weight=balanced, gamma=0.01, kernel=rbf, score=0.640, total=   8.3s\n",
            "[CV] C=0.001, class_weight=balanced, gamma=0.01, kernel=rbf ..........\n",
            "[CV]  C=0.001, class_weight=balanced, gamma=0.01, kernel=rbf, score=0.640, total=   8.0s\n",
            "[CV] C=0.001, class_weight=balanced, gamma=0.01, kernel=rbf ..........\n",
            "[CV]  C=0.001, class_weight=balanced, gamma=0.01, kernel=rbf, score=0.640, total=   8.0s\n",
            "[CV] C=0.001, class_weight=balanced, gamma=0.0001, kernel=rbf ........\n",
            "[CV]  C=0.001, class_weight=balanced, gamma=0.0001, kernel=rbf, score=0.641, total=   7.1s\n",
            "[CV] C=0.001, class_weight=balanced, gamma=0.0001, kernel=rbf ........\n",
            "[CV]  C=0.001, class_weight=balanced, gamma=0.0001, kernel=rbf, score=0.640, total=   7.1s\n",
            "[CV] C=0.001, class_weight=balanced, gamma=0.0001, kernel=rbf ........\n",
            "[CV]  C=0.001, class_weight=balanced, gamma=0.0001, kernel=rbf, score=0.640, total=   7.8s\n",
            "[CV] C=0.001, class_weight=balanced, gamma=0.0001, kernel=rbf ........\n",
            "[CV]  C=0.001, class_weight=balanced, gamma=0.0001, kernel=rbf, score=0.640, total=   9.3s\n",
            "[CV] C=0.001, class_weight=balanced, gamma=0.0001, kernel=rbf ........\n",
            "[CV]  C=0.001, class_weight=balanced, gamma=0.0001, kernel=rbf, score=0.640, total=   8.2s\n",
            "[CV] C=0.001, class_weight=None, gamma=1, kernel=rbf .................\n",
            "[CV]  C=0.001, class_weight=None, gamma=1, kernel=rbf, score=0.641, total=   7.4s\n",
            "[CV] C=0.001, class_weight=None, gamma=1, kernel=rbf .................\n",
            "[CV]  C=0.001, class_weight=None, gamma=1, kernel=rbf, score=0.640, total=   7.7s\n",
            "[CV] C=0.001, class_weight=None, gamma=1, kernel=rbf .................\n",
            "[CV]  C=0.001, class_weight=None, gamma=1, kernel=rbf, score=0.640, total=   7.5s\n",
            "[CV] C=0.001, class_weight=None, gamma=1, kernel=rbf .................\n",
            "[CV]  C=0.001, class_weight=None, gamma=1, kernel=rbf, score=0.640, total=   8.1s\n",
            "[CV] C=0.001, class_weight=None, gamma=1, kernel=rbf .................\n",
            "[CV]  C=0.001, class_weight=None, gamma=1, kernel=rbf, score=0.640, total=   7.6s\n",
            "[CV] C=0.001, class_weight=None, gamma=0.01, kernel=rbf ..............\n",
            "[CV]  C=0.001, class_weight=None, gamma=0.01, kernel=rbf, score=0.641, total=   8.4s\n",
            "[CV] C=0.001, class_weight=None, gamma=0.01, kernel=rbf ..............\n",
            "[CV]  C=0.001, class_weight=None, gamma=0.01, kernel=rbf, score=0.640, total=  10.0s\n",
            "[CV] C=0.001, class_weight=None, gamma=0.01, kernel=rbf ..............\n",
            "[CV]  C=0.001, class_weight=None, gamma=0.01, kernel=rbf, score=0.640, total=   8.0s\n",
            "[CV] C=0.001, class_weight=None, gamma=0.01, kernel=rbf ..............\n",
            "[CV]  C=0.001, class_weight=None, gamma=0.01, kernel=rbf, score=0.640, total=   9.5s\n",
            "[CV] C=0.001, class_weight=None, gamma=0.01, kernel=rbf ..............\n",
            "[CV]  C=0.001, class_weight=None, gamma=0.01, kernel=rbf, score=0.640, total=   7.5s\n",
            "[CV] C=0.001, class_weight=None, gamma=0.0001, kernel=rbf ............\n",
            "[CV]  C=0.001, class_weight=None, gamma=0.0001, kernel=rbf, score=0.641, total=   4.7s\n",
            "[CV] C=0.001, class_weight=None, gamma=0.0001, kernel=rbf ............\n",
            "[CV]  C=0.001, class_weight=None, gamma=0.0001, kernel=rbf, score=0.640, total=   4.7s\n",
            "[CV] C=0.001, class_weight=None, gamma=0.0001, kernel=rbf ............\n",
            "[CV]  C=0.001, class_weight=None, gamma=0.0001, kernel=rbf, score=0.640, total=   4.8s\n",
            "[CV] C=0.001, class_weight=None, gamma=0.0001, kernel=rbf ............\n",
            "[CV]  C=0.001, class_weight=None, gamma=0.0001, kernel=rbf, score=0.640, total=   5.1s\n",
            "[CV] C=0.001, class_weight=None, gamma=0.0001, kernel=rbf ............\n",
            "[CV]  C=0.001, class_weight=None, gamma=0.0001, kernel=rbf, score=0.640, total=   4.7s\n",
            "[CV] C=1, class_weight=balanced, gamma=1, kernel=rbf .................\n",
            "[CV]  C=1, class_weight=balanced, gamma=1, kernel=rbf, score=0.641, total=   8.3s\n",
            "[CV] C=1, class_weight=balanced, gamma=1, kernel=rbf .................\n",
            "[CV]  C=1, class_weight=balanced, gamma=1, kernel=rbf, score=0.640, total=   9.1s\n",
            "[CV] C=1, class_weight=balanced, gamma=1, kernel=rbf .................\n",
            "[CV]  C=1, class_weight=balanced, gamma=1, kernel=rbf, score=0.640, total=   8.7s\n",
            "[CV] C=1, class_weight=balanced, gamma=1, kernel=rbf .................\n",
            "[CV]  C=1, class_weight=balanced, gamma=1, kernel=rbf, score=0.640, total=   8.3s\n",
            "[CV] C=1, class_weight=balanced, gamma=1, kernel=rbf .................\n",
            "[CV]  C=1, class_weight=balanced, gamma=1, kernel=rbf, score=0.640, total=   9.2s\n",
            "[CV] C=1, class_weight=balanced, gamma=0.01, kernel=rbf ..............\n",
            "[CV]  C=1, class_weight=balanced, gamma=0.01, kernel=rbf, score=0.641, total=  11.3s\n",
            "[CV] C=1, class_weight=balanced, gamma=0.01, kernel=rbf ..............\n",
            "[CV]  C=1, class_weight=balanced, gamma=0.01, kernel=rbf, score=0.640, total=  12.4s\n",
            "[CV] C=1, class_weight=balanced, gamma=0.01, kernel=rbf ..............\n",
            "[CV]  C=1, class_weight=balanced, gamma=0.01, kernel=rbf, score=0.640, total=  12.6s\n",
            "[CV] C=1, class_weight=balanced, gamma=0.01, kernel=rbf ..............\n",
            "[CV]  C=1, class_weight=balanced, gamma=0.01, kernel=rbf, score=0.640, total=  10.1s\n",
            "[CV] C=1, class_weight=balanced, gamma=0.01, kernel=rbf ..............\n",
            "[CV]  C=1, class_weight=balanced, gamma=0.01, kernel=rbf, score=0.640, total=  10.3s\n",
            "[CV] C=1, class_weight=balanced, gamma=0.0001, kernel=rbf ............\n",
            "[CV]  C=1, class_weight=balanced, gamma=0.0001, kernel=rbf, score=0.751, total=   7.4s\n",
            "[CV] C=1, class_weight=balanced, gamma=0.0001, kernel=rbf ............\n",
            "[CV]  C=1, class_weight=balanced, gamma=0.0001, kernel=rbf, score=0.741, total=   7.8s\n",
            "[CV] C=1, class_weight=balanced, gamma=0.0001, kernel=rbf ............\n",
            "[CV]  C=1, class_weight=balanced, gamma=0.0001, kernel=rbf, score=0.736, total=   8.0s\n",
            "[CV] C=1, class_weight=balanced, gamma=0.0001, kernel=rbf ............\n",
            "[CV]  C=1, class_weight=balanced, gamma=0.0001, kernel=rbf, score=0.747, total=  10.3s\n",
            "[CV] C=1, class_weight=balanced, gamma=0.0001, kernel=rbf ............\n",
            "[CV]  C=1, class_weight=balanced, gamma=0.0001, kernel=rbf, score=0.750, total=   9.9s\n",
            "[CV] C=1, class_weight=None, gamma=1, kernel=rbf .....................\n",
            "[CV]  C=1, class_weight=None, gamma=1, kernel=rbf, score=0.641, total=  13.4s\n",
            "[CV] C=1, class_weight=None, gamma=1, kernel=rbf .....................\n",
            "[CV]  C=1, class_weight=None, gamma=1, kernel=rbf, score=0.640, total=   9.2s\n",
            "[CV] C=1, class_weight=None, gamma=1, kernel=rbf .....................\n",
            "[CV]  C=1, class_weight=None, gamma=1, kernel=rbf, score=0.640, total=   8.2s\n",
            "[CV] C=1, class_weight=None, gamma=1, kernel=rbf .....................\n",
            "[CV]  C=1, class_weight=None, gamma=1, kernel=rbf, score=0.640, total=  11.9s\n",
            "[CV] C=1, class_weight=None, gamma=1, kernel=rbf .....................\n",
            "[CV]  C=1, class_weight=None, gamma=1, kernel=rbf, score=0.640, total=   9.2s\n",
            "[CV] C=1, class_weight=None, gamma=0.01, kernel=rbf ..................\n",
            "[CV]  C=1, class_weight=None, gamma=0.01, kernel=rbf, score=0.641, total=  10.6s\n",
            "[CV] C=1, class_weight=None, gamma=0.01, kernel=rbf ..................\n",
            "[CV]  C=1, class_weight=None, gamma=0.01, kernel=rbf, score=0.640, total=   9.4s\n",
            "[CV] C=1, class_weight=None, gamma=0.01, kernel=rbf ..................\n",
            "[CV]  C=1, class_weight=None, gamma=0.01, kernel=rbf, score=0.640, total=  10.8s\n",
            "[CV] C=1, class_weight=None, gamma=0.01, kernel=rbf ..................\n",
            "[CV]  C=1, class_weight=None, gamma=0.01, kernel=rbf, score=0.640, total=  11.3s\n",
            "[CV] C=1, class_weight=None, gamma=0.01, kernel=rbf ..................\n",
            "[CV]  C=1, class_weight=None, gamma=0.01, kernel=rbf, score=0.640, total=  10.0s\n",
            "[CV] C=1, class_weight=None, gamma=0.0001, kernel=rbf ................\n"
          ],
          "name": "stdout"
        },
        {
          "output_type": "stream",
          "text": [
            "[CV]  C=1, class_weight=None, gamma=0.0001, kernel=rbf, score=0.734, total=   8.1s\n",
            "[CV] C=1, class_weight=None, gamma=0.0001, kernel=rbf ................\n",
            "[CV]  C=1, class_weight=None, gamma=0.0001, kernel=rbf, score=0.721, total=   8.2s\n",
            "[CV] C=1, class_weight=None, gamma=0.0001, kernel=rbf ................\n",
            "[CV]  C=1, class_weight=None, gamma=0.0001, kernel=rbf, score=0.722, total=   7.9s\n",
            "[CV] C=1, class_weight=None, gamma=0.0001, kernel=rbf ................\n",
            "[CV]  C=1, class_weight=None, gamma=0.0001, kernel=rbf, score=0.729, total=   8.0s\n",
            "[CV] C=1, class_weight=None, gamma=0.0001, kernel=rbf ................\n",
            "[CV]  C=1, class_weight=None, gamma=0.0001, kernel=rbf, score=0.724, total=   7.9s\n",
            "[CV] C=100, class_weight=balanced, gamma=1, kernel=rbf ...............\n",
            "[CV]  C=100, class_weight=balanced, gamma=1, kernel=rbf, score=0.641, total=   9.6s\n",
            "[CV] C=100, class_weight=balanced, gamma=1, kernel=rbf ...............\n",
            "[CV]  C=100, class_weight=balanced, gamma=1, kernel=rbf, score=0.640, total=  10.0s\n",
            "[CV] C=100, class_weight=balanced, gamma=1, kernel=rbf ...............\n",
            "[CV]  C=100, class_weight=balanced, gamma=1, kernel=rbf, score=0.640, total=   9.8s\n",
            "[CV] C=100, class_weight=balanced, gamma=1, kernel=rbf ...............\n",
            "[CV]  C=100, class_weight=balanced, gamma=1, kernel=rbf, score=0.640, total=   9.6s\n",
            "[CV] C=100, class_weight=balanced, gamma=1, kernel=rbf ...............\n",
            "[CV]  C=100, class_weight=balanced, gamma=1, kernel=rbf, score=0.640, total=   9.6s\n",
            "[CV] C=100, class_weight=balanced, gamma=0.01, kernel=rbf ............\n",
            "[CV]  C=100, class_weight=balanced, gamma=0.01, kernel=rbf, score=0.641, total=   9.9s\n",
            "[CV] C=100, class_weight=balanced, gamma=0.01, kernel=rbf ............\n",
            "[CV]  C=100, class_weight=balanced, gamma=0.01, kernel=rbf, score=0.640, total=  10.3s\n",
            "[CV] C=100, class_weight=balanced, gamma=0.01, kernel=rbf ............\n",
            "[CV]  C=100, class_weight=balanced, gamma=0.01, kernel=rbf, score=0.640, total=   9.8s\n",
            "[CV] C=100, class_weight=balanced, gamma=0.01, kernel=rbf ............\n",
            "[CV]  C=100, class_weight=balanced, gamma=0.01, kernel=rbf, score=0.640, total=   9.7s\n",
            "[CV] C=100, class_weight=balanced, gamma=0.01, kernel=rbf ............\n",
            "[CV]  C=100, class_weight=balanced, gamma=0.01, kernel=rbf, score=0.640, total=   8.5s\n",
            "[CV] C=100, class_weight=balanced, gamma=0.0001, kernel=rbf ..........\n",
            "[CV]  C=100, class_weight=balanced, gamma=0.0001, kernel=rbf, score=0.751, total=   7.0s\n",
            "[CV] C=100, class_weight=balanced, gamma=0.0001, kernel=rbf ..........\n",
            "[CV]  C=100, class_weight=balanced, gamma=0.0001, kernel=rbf, score=0.741, total=   7.3s\n",
            "[CV] C=100, class_weight=balanced, gamma=0.0001, kernel=rbf ..........\n",
            "[CV]  C=100, class_weight=balanced, gamma=0.0001, kernel=rbf, score=0.736, total=   8.2s\n",
            "[CV] C=100, class_weight=balanced, gamma=0.0001, kernel=rbf ..........\n",
            "[CV]  C=100, class_weight=balanced, gamma=0.0001, kernel=rbf, score=0.744, total=   7.4s\n",
            "[CV] C=100, class_weight=balanced, gamma=0.0001, kernel=rbf ..........\n",
            "[CV]  C=100, class_weight=balanced, gamma=0.0001, kernel=rbf, score=0.746, total=   6.9s\n",
            "[CV] C=100, class_weight=None, gamma=1, kernel=rbf ...................\n",
            "[CV]  C=100, class_weight=None, gamma=1, kernel=rbf, score=0.641, total=   8.5s\n",
            "[CV] C=100, class_weight=None, gamma=1, kernel=rbf ...................\n",
            "[CV]  C=100, class_weight=None, gamma=1, kernel=rbf, score=0.640, total=   9.8s\n",
            "[CV] C=100, class_weight=None, gamma=1, kernel=rbf ...................\n",
            "[CV]  C=100, class_weight=None, gamma=1, kernel=rbf, score=0.640, total=   9.7s\n",
            "[CV] C=100, class_weight=None, gamma=1, kernel=rbf ...................\n",
            "[CV]  C=100, class_weight=None, gamma=1, kernel=rbf, score=0.640, total=  10.4s\n",
            "[CV] C=100, class_weight=None, gamma=1, kernel=rbf ...................\n",
            "[CV]  C=100, class_weight=None, gamma=1, kernel=rbf, score=0.640, total=   9.7s\n",
            "[CV] C=100, class_weight=None, gamma=0.01, kernel=rbf ................\n",
            "[CV]  C=100, class_weight=None, gamma=0.01, kernel=rbf, score=0.641, total=  10.2s\n",
            "[CV] C=100, class_weight=None, gamma=0.01, kernel=rbf ................\n",
            "[CV]  C=100, class_weight=None, gamma=0.01, kernel=rbf, score=0.640, total=   9.9s\n",
            "[CV] C=100, class_weight=None, gamma=0.01, kernel=rbf ................\n",
            "[CV]  C=100, class_weight=None, gamma=0.01, kernel=rbf, score=0.640, total=   9.7s\n",
            "[CV] C=100, class_weight=None, gamma=0.01, kernel=rbf ................\n",
            "[CV]  C=100, class_weight=None, gamma=0.01, kernel=rbf, score=0.640, total=   9.7s\n",
            "[CV] C=100, class_weight=None, gamma=0.01, kernel=rbf ................\n",
            "[CV]  C=100, class_weight=None, gamma=0.01, kernel=rbf, score=0.640, total=   9.9s\n",
            "[CV] C=100, class_weight=None, gamma=0.0001, kernel=rbf ..............\n",
            "[CV]  C=100, class_weight=None, gamma=0.0001, kernel=rbf, score=0.751, total=   8.3s\n",
            "[CV] C=100, class_weight=None, gamma=0.0001, kernel=rbf ..............\n",
            "[CV]  C=100, class_weight=None, gamma=0.0001, kernel=rbf, score=0.741, total=   8.1s\n",
            "[CV] C=100, class_weight=None, gamma=0.0001, kernel=rbf ..............\n",
            "[CV]  C=100, class_weight=None, gamma=0.0001, kernel=rbf, score=0.736, total=   7.9s\n",
            "[CV] C=100, class_weight=None, gamma=0.0001, kernel=rbf ..............\n",
            "[CV]  C=100, class_weight=None, gamma=0.0001, kernel=rbf, score=0.744, total=   8.0s\n",
            "[CV] C=100, class_weight=None, gamma=0.0001, kernel=rbf ..............\n",
            "[CV]  C=100, class_weight=None, gamma=0.0001, kernel=rbf, score=0.746, total=   8.2s\n"
          ],
          "name": "stdout"
        },
        {
          "output_type": "stream",
          "text": [
            "[Parallel(n_jobs=1)]: Done  90 out of  90 | elapsed: 13.2min finished\n"
          ],
          "name": "stderr"
        },
        {
          "output_type": "execute_result",
          "data": {
            "text/plain": [
              "GridSearchCV(cv=None, error_score=nan,\n",
              "             estimator=SVC(C=1.0, break_ties=False, cache_size=200,\n",
              "                           class_weight=None, coef0=0.0,\n",
              "                           decision_function_shape='ovr', degree=3,\n",
              "                           gamma='scale', kernel='rbf', max_iter=-1,\n",
              "                           probability=False, random_state=None, shrinking=True,\n",
              "                           tol=0.001, verbose=False),\n",
              "             iid='deprecated', n_jobs=None,\n",
              "             param_grid={'C': [0.001, 1, 100],\n",
              "                         'class_weight': ['balanced', None],\n",
              "                         'gamma': [1, 0.01, 0.0001], 'kernel': ['rbf']},\n",
              "             pre_dispatch='2*n_jobs', refit=True, return_train_score=False,\n",
              "             scoring=None, verbose=3)"
            ]
          },
          "metadata": {
            "tags": []
          },
          "execution_count": 58
        }
      ]
    },
    {
      "cell_type": "code",
      "metadata": {
        "id": "CWOw0dleaQTy",
        "colab_type": "code",
        "colab": {},
        "outputId": "2295a8d6-464e-4221-c52b-22ab7ae8ee13"
      },
      "source": [
        "# best parameter after tuning\n",
        "best_params = grid.best_params_\n",
        "best_clf = grid.best_estimator_\n",
        "for key in best_params:\n",
        "    print(str(key) + \" = \" + str(best_params[key]))\n",
        "print(\"\\nbest classifier =\\n\", best_clf)"
      ],
      "execution_count": null,
      "outputs": [
        {
          "output_type": "stream",
          "text": [
            "C = 1\n",
            "class_weight = balanced\n",
            "gamma = 0.0001\n",
            "kernel = rbf\n",
            "\n",
            "best classifier =\n",
            " SVC(C=1, break_ties=False, cache_size=200, class_weight='balanced', coef0=0.0,\n",
            "    decision_function_shape='ovr', degree=3, gamma=0.0001, kernel='rbf',\n",
            "    max_iter=-1, probability=False, random_state=None, shrinking=True,\n",
            "    tol=0.001, verbose=False)\n"
          ],
          "name": "stdout"
        }
      ]
    },
    {
      "cell_type": "code",
      "metadata": {
        "id": "WqTfHu_MaQT1",
        "colab_type": "code",
        "colab": {},
        "outputId": "772a847f-5472-4d53-e290-1e18a2db912a"
      },
      "source": [
        "from sklearn.metrics import classification_report, confusion_matrix \n",
        "\n",
        "grid_pred = grid.predict(X_test_10k) \n",
        "print(classification_report(y_test_10k_lb, grid_pred))"
      ],
      "execution_count": null,
      "outputs": [
        {
          "output_type": "stream",
          "text": [
            "              precision    recall  f1-score   support\n",
            "\n",
            "           0       0.73      0.95      0.83      1252\n",
            "           1       0.84      0.42      0.56       748\n",
            "\n",
            "    accuracy                           0.75      2000\n",
            "   macro avg       0.79      0.68      0.69      2000\n",
            "weighted avg       0.77      0.75      0.73      2000\n",
            "\n"
          ],
          "name": "stdout"
        }
      ]
    }
  ]
}