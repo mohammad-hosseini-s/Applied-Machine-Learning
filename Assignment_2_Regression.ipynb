{
  "nbformat": 4,
  "nbformat_minor": 0,
  "metadata": {
    "colab": {
      "name": "Assignment 2_Regression.ipynb",
      "provenance": [],
      "collapsed_sections": [],
      "toc_visible": true
    },
    "kernelspec": {
      "display_name": "Python 3.7.6 64-bit",
      "language": "python",
      "name": "python37664bit17cc54603a5a49bf946cac7f856dc37b"
    },
    "language_info": {
      "codemirror_mode": {
        "name": "ipython",
        "version": 3
      },
      "file_extension": ".py",
      "mimetype": "text/x-python",
      "name": "python",
      "nbconvert_exporter": "python",
      "pygments_lexer": "ipython3",
      "version": "3.7.6"
    }
  },
  "cells": [
    {
      "cell_type": "markdown",
      "metadata": {
        "colab_type": "text",
        "id": "0PsCSfu8bCW0"
      },
      "source": [
        "\n",
        "# ME 5984 Applied Machine Learning, Assignment 2: Regression\n",
        "-----"
      ]
    },
    {
      "cell_type": "markdown",
      "metadata": {
        "colab_type": "text",
        "id": "tIvECWxObCW3"
      },
      "source": [
        "In this assignment, you will attempt to identify a regressor that performs the best (using cross validation) on the California housing data set. Instead of using the example code I provided earlier, you will use Scikit-Learn's curated version of the data as the starting point.  \n",
        "The goal of this assignment is to have you gain experience in trying a variety of methods to identify the best regressor for a possibly modifi\fed data set. Your score will be based on the eff\u000bort, and not on exact CV scores or exceeding a minimum score threshold.  \n",
        "Copy the following code into your notebook to get started."
      ]
    },
    {
      "cell_type": "code",
      "metadata": {
        "colab_type": "code",
        "id": "Jc_21N2IbjBU",
        "colab": {}
      },
      "source": [
        "from helper import *\n",
        "from sklearn.datasets import fetch_california_housing\n",
        "from sklearn.utils import shuffle\n",
        "from sklearn.model_selection import train_test_split\n",
        "\n",
        "X,y = fetch_california_housing(return_X_y=True)\n",
        "Xs,ys = shuffle(X, y, random_state=5984)\n",
        "Xstrain, Xstest, Ystrain, Ystest = train_test_split(Xs, ys, test_size=0.2)"
      ],
      "execution_count": null,
      "outputs": []
    },
    {
      "cell_type": "markdown",
      "metadata": {
        "colab_type": "text",
        "id": "c0SzXeAObpve"
      },
      "source": [
        "You have now created standardized training and test sets that will be consistent among submissions. Set the test sets aside and do not use them again except where speci\fcally noted."
      ]
    },
    {
      "cell_type": "markdown",
      "metadata": {
        "colab_type": "text",
        "id": "QU38MrmcbCW4"
      },
      "source": [
        "## 1. Problem 1"
      ]
    },
    {
      "cell_type": "markdown",
      "metadata": {
        "colab_type": "text",
        "id": "oYoDnk-abCW5"
      },
      "source": [
        "Using *regression methods that you already learned about*, try to \ffind a regressor that maximizes the cross validation score over 5 folds, where the regressor and training sets in the example below are stand-ins for regressors and set you provide. For example, if you not using a method such as `GridSearchCV` which implements cross validation internally, you may evaluate it speci\fcally via:"
      ]
    },
    {
      "cell_type": "markdown",
      "metadata": {
        "colab_type": "text",
        "id": "a6zG6CA-pH64"
      },
      "source": [
        "`from sklearn.model_selection import cross_val_score`  \n",
        "`cv_scores = cross_val_score(regressor_, X_training_, y_training_, cv=5)`    \n",
        "`cv_mean_score = np.mean(cv_scores)`\n"
      ]
    },
    {
      "cell_type": "markdown",
      "metadata": {
        "colab_type": "text",
        "id": "fVt1aSzfcga-"
      },
      "source": [
        "Create pipelines that use StandardScaler as a \ffirst step. Based on how you choose to modify features and perform hyperparameter searches, your pipeline may grow to include more.  \n",
        "Choose from the following regression methods:\n",
        "* `LinearRegression`  \n",
        "* `\u000fRidge`  \n",
        "* `Lasso` and/or `LassoLars` \n",
        "* `ElasticNet`\n",
        "* `DecisionTreeRegressor`"
      ]
    },
    {
      "cell_type": "markdown",
      "metadata": {
        "colab_type": "text",
        "id": "fvp1sgpQdupv"
      },
      "source": [
        "Choose from the following methods for modifying the feature vectors for use in the regression methods:  \n",
        "*   `PolynomialFeatures` for creating \u001e vectors  \n",
        "*   `RFE`, which implements a variation of backward stepwise subset selection  \n",
        "*   `VarianceThreshold` for removing features with low variance  \n",
        "*   `SelectKBest` for choosing the K best features with highest scores\n",
        "*   Hand-made additional features, such as the \"bedrooms per room\" feature from the example"
      ]
    },
    {
      "cell_type": "markdown",
      "metadata": {
        "colab_type": "text",
        "id": "8IPWPqQneQ8z"
      },
      "source": [
        "Choose from the following methods for generating a search for optimal hyperparameters (Note: these methods implement cross validation internally): \n",
        "*   `GridSearchCV`\n",
        "*   `RandomizedSearchCV`"
      ]
    },
    {
      "cell_type": "markdown",
      "metadata": {
        "colab_type": "text",
        "id": "uEi3p8vcfiCs"
      },
      "source": [
        "**Tip**: utilize the documentation provided by scikit-learn as much as possible to better understand these methods, their parameters, and how to best utilize them.  \n",
        "`https://scikit-learn.org/stable/supervised_learning.html`"
      ]
    },
    {
      "cell_type": "markdown",
      "metadata": {
        "colab_type": "text",
        "id": "SdFEZjKnfziq"
      },
      "source": [
        "You may also use other regressors, feature modi\fcations, and search methods besides those listed above."
      ]
    },
    {
      "cell_type": "markdown",
      "metadata": {
        "colab_type": "text",
        "id": "1UbSt3IabCXE"
      },
      "source": [
        "-----\n",
        "### 1.1 Analysis"
      ]
    },
    {
      "cell_type": "markdown",
      "metadata": {
        "colab_type": "text",
        "id": "r_8n9XmJgE_F"
      },
      "source": [
        "Report the best combination of regression methods, feature modi\fcations, and hyperparameters as a function of the average CV score on the training set using 5-fold cross validation. Compare the best combination's CV score to the score on the test set. Describe what you tried, what you observed, and the insights you may have gained from those trials that led you to discovering the best combination.  \n",
        "Do not use the test set for any part of the hyperparameter search and training above.  \n",
        "You will be scored based on the thoroughness of your search and eff\u000bort.\n",
        "Trying just one method without modifying any hyperparameters, for example, is low eff\u000bort and will be scored as such. Trying several methods with some kind of search over the hyperparameter space, and trying feature modi\fcations for example, will likely result in a higher CV score and will defi\fnitely result in a higher score on this problem. There is not a minimum threshold for CV score that will be checked."
      ]
    },
    {
      "cell_type": "code",
      "metadata": {
        "colab_type": "code",
        "id": "jTcRpAbQRFLi",
        "colab": {}
      },
      "source": [
        "## Import libraries\n",
        "import time\n",
        "import numpy as np\n",
        "np.set_printoptions(suppress=True)\n",
        "import pandas as pd\n",
        "import warnings\n",
        "import matplotlib.pyplot as plt\n",
        "%matplotlib inline\n",
        "\n",
        "from sklearn.pipeline import Pipeline\n",
        "from sklearn.preprocessing import StandardScaler\n",
        "from sklearn.impute import SimpleImputer\n",
        "\n",
        "from sklearn.linear_model import LinearRegression\n",
        "from sklearn.linear_model import Ridge\n",
        "from sklearn.linear_model import Lasso\n",
        "from sklearn.linear_model import LassoLars\n",
        "from sklearn.linear_model import ElasticNet\n",
        "from sklearn.tree import DecisionTreeRegressor\n",
        "from sklearn.ensemble import RandomForestRegressor\n",
        "\n",
        "from sklearn.preprocessing import PolynomialFeatures\n",
        "from sklearn.model_selection import GridSearchCV\n",
        "from sklearn.model_selection import RandomizedSearchCV\n",
        "from sklearn.feature_selection import VarianceThreshold\n",
        "from sklearn.feature_selection import SelectKBest\n",
        "from sklearn.feature_selection import f_regression\n",
        "from sklearn.feature_selection import RFE\n",
        "from sklearn.metrics import mean_squared_error\n",
        "from sklearn.metrics import mean_absolute_error\n",
        "from sklearn.metrics import r2_score\n",
        "from scipy.stats import randint"
      ],
      "execution_count": null,
      "outputs": []
    },
    {
      "cell_type": "markdown",
      "metadata": {
        "colab_type": "text",
        "id": "zx_LrYjc5Zyp"
      },
      "source": [
        "---\n",
        "### 1.1.1 Data set Preparation"
      ]
    },
    {
      "cell_type": "markdown",
      "metadata": {
        "colab_type": "text",
        "id": "p0zo-Rq558Ey"
      },
      "source": [
        "> First we take a look at the data set and plot the features separately to get a feel for the data set and then check if the there is any `NaN` entries in the data set."
      ]
    },
    {
      "cell_type": "code",
      "metadata": {
        "colab_type": "code",
        "id": "qjjJPdo15yvS",
        "colab": {
          "base_uri": "https://localhost:8080/",
          "height": 229
        },
        "outputId": "fd205cde-9ae6-4cf9-f502-173f5d8e6ed8"
      },
      "source": [
        "## Extract feature names\n",
        "housing = fetch_california_housing()\n",
        "feature_names = housing.feature_names\n",
        "housing = pd.DataFrame(data=housing, columns=feature_names)\n",
        "\n",
        "## Assign feature names to the columns of Xstrain, and Xstest\n",
        "Xstrain_df = pd.DataFrame(data=Xstrain, columns=feature_names)\n",
        "Xstest_df = pd.DataFrame(data=Xstest, columns=feature_names)\n",
        "print(\"Ystrain =\", Ystrain, \"\\n\")\n",
        "Xstrain_df.head()"
      ],
      "execution_count": null,
      "outputs": [
        {
          "output_type": "stream",
          "text": [
            "Ystrain = [0.996 2.349 0.485 ... 3.493 0.619 3.854] \n",
            "\n"
          ],
          "name": "stdout"
        },
        {
          "output_type": "execute_result",
          "data": {
            "text/html": [
              "<div>\n",
              "<style scoped>\n",
              "    .dataframe tbody tr th:only-of-type {\n",
              "        vertical-align: middle;\n",
              "    }\n",
              "\n",
              "    .dataframe tbody tr th {\n",
              "        vertical-align: top;\n",
              "    }\n",
              "\n",
              "    .dataframe thead th {\n",
              "        text-align: right;\n",
              "    }\n",
              "</style>\n",
              "<table border=\"1\" class=\"dataframe\">\n",
              "  <thead>\n",
              "    <tr style=\"text-align: right;\">\n",
              "      <th></th>\n",
              "      <th>MedInc</th>\n",
              "      <th>HouseAge</th>\n",
              "      <th>AveRooms</th>\n",
              "      <th>AveBedrms</th>\n",
              "      <th>Population</th>\n",
              "      <th>AveOccup</th>\n",
              "      <th>Latitude</th>\n",
              "      <th>Longitude</th>\n",
              "    </tr>\n",
              "  </thead>\n",
              "  <tbody>\n",
              "    <tr>\n",
              "      <th>0</th>\n",
              "      <td>1.9074</td>\n",
              "      <td>37.0</td>\n",
              "      <td>4.098662</td>\n",
              "      <td>1.117057</td>\n",
              "      <td>2824.0</td>\n",
              "      <td>4.722408</td>\n",
              "      <td>34.01</td>\n",
              "      <td>-118.26</td>\n",
              "    </tr>\n",
              "    <tr>\n",
              "      <th>1</th>\n",
              "      <td>5.3889</td>\n",
              "      <td>33.0</td>\n",
              "      <td>6.078880</td>\n",
              "      <td>1.043257</td>\n",
              "      <td>1229.0</td>\n",
              "      <td>3.127226</td>\n",
              "      <td>33.86</td>\n",
              "      <td>-118.11</td>\n",
              "    </tr>\n",
              "    <tr>\n",
              "      <th>2</th>\n",
              "      <td>2.2167</td>\n",
              "      <td>18.0</td>\n",
              "      <td>3.782468</td>\n",
              "      <td>1.084416</td>\n",
              "      <td>1119.0</td>\n",
              "      <td>3.633117</td>\n",
              "      <td>36.01</td>\n",
              "      <td>-120.12</td>\n",
              "    </tr>\n",
              "    <tr>\n",
              "      <th>3</th>\n",
              "      <td>7.5557</td>\n",
              "      <td>36.0</td>\n",
              "      <td>7.743396</td>\n",
              "      <td>1.083019</td>\n",
              "      <td>699.0</td>\n",
              "      <td>2.637736</td>\n",
              "      <td>32.73</td>\n",
              "      <td>-117.23</td>\n",
              "    </tr>\n",
              "    <tr>\n",
              "      <th>4</th>\n",
              "      <td>3.9038</td>\n",
              "      <td>21.0</td>\n",
              "      <td>3.586357</td>\n",
              "      <td>0.982583</td>\n",
              "      <td>1486.0</td>\n",
              "      <td>2.156749</td>\n",
              "      <td>37.36</td>\n",
              "      <td>-122.02</td>\n",
              "    </tr>\n",
              "  </tbody>\n",
              "</table>\n",
              "</div>"
            ],
            "text/plain": [
              "   MedInc  HouseAge  AveRooms  AveBedrms  Population  AveOccup  Latitude  \\\n",
              "0  1.9074      37.0  4.098662   1.117057      2824.0  4.722408     34.01   \n",
              "1  5.3889      33.0  6.078880   1.043257      1229.0  3.127226     33.86   \n",
              "2  2.2167      18.0  3.782468   1.084416      1119.0  3.633117     36.01   \n",
              "3  7.5557      36.0  7.743396   1.083019       699.0  2.637736     32.73   \n",
              "4  3.9038      21.0  3.586357   0.982583      1486.0  2.156749     37.36   \n",
              "\n",
              "   Longitude  \n",
              "0    -118.26  \n",
              "1    -118.11  \n",
              "2    -120.12  \n",
              "3    -117.23  \n",
              "4    -122.02  "
            ]
          },
          "metadata": {
            "tags": []
          },
          "execution_count": 3
        }
      ]
    },
    {
      "cell_type": "code",
      "metadata": {
        "colab_type": "code",
        "id": "cW5WBJyZOsuA",
        "colab": {
          "base_uri": "https://localhost:8080/",
          "height": 202
        },
        "outputId": "bd14a6e4-d010-491d-d02b-4c5027e8142f"
      },
      "source": [
        "## No of NaN entries\n",
        "print(\"No. of NaN entries:\\n\" + 19*\"=\"); housing.isnull().sum()"
      ],
      "execution_count": null,
      "outputs": [
        {
          "output_type": "stream",
          "text": [
            "No. of NaN entries:\n",
            "===================\n"
          ],
          "name": "stdout"
        },
        {
          "output_type": "execute_result",
          "data": {
            "text/plain": [
              "MedInc        0\n",
              "HouseAge      0\n",
              "AveRooms      0\n",
              "AveBedrms     0\n",
              "Population    0\n",
              "AveOccup      0\n",
              "Latitude      0\n",
              "Longitude     0\n",
              "dtype: int64"
            ]
          },
          "metadata": {
            "tags": []
          },
          "execution_count": 4
        }
      ]
    },
    {
      "cell_type": "code",
      "metadata": {
        "colab_type": "code",
        "id": "pHvhADyIEWaM",
        "colab": {
          "base_uri": "https://localhost:8080/",
          "height": 716
        },
        "outputId": "d71730f7-2e09-456b-d2d0-0f36d0ae641f"
      },
      "source": [
        "## Plot histograms of features\n",
        "Xstrain_df.hist(bins=50, figsize=(15, 12))\n",
        "fig = plt.gcf()\n",
        "plt.show()"
      ],
      "execution_count": null,
      "outputs": [
        {
          "output_type": "display_data",
          "data": {
            "image/png": "[encoded data removed]",
            "text/plain": [
              "<Figure size 1080x864 with 9 Axes>"
            ]
          },
          "metadata": {
            "tags": [],
            "needs_background": "light"
          }
        }
      ]
    },
    {
      "cell_type": "markdown",
      "metadata": {
        "colab_type": "text",
        "id": "CZb1OfzQvVah"
      },
      "source": [
        "> As we can see, the `Y` vectors are not in `$` and the data set doesn't have any missing value. The spikes at the end of the range for `HouseAge` and `MdeInc` show that they are capped and the values indicate data was pre-scaled.  Needless to say, the variablity is very different across the features.  \n",
        "For now we don't add any new feature to our data set and try to reduce the prediction error by tuning the parameters as much as possible."
      ]
    },
    {
      "cell_type": "markdown",
      "metadata": {
        "colab_type": "text",
        "id": "gVQb4EISVm_8"
      },
      "source": [
        "-----\n",
        "### 1.1.2 Regression Models"
      ]
    },
    {
      "cell_type": "markdown",
      "metadata": {
        "colab_type": "text",
        "id": "DG65Or8NyF9Z"
      },
      "source": [
        "> We run all the aforementioned regressors plus `RandomForestRegressor` using two or more of the methods for modifying the features and store the errors and useful parameters to compare the regressors in the end."
      ]
    },
    {
      "cell_type": "code",
      "metadata": {
        "colab_type": "code",
        "id": "2EeamdMKVmvF",
        "colab": {}
      },
      "source": [
        "## Best regressors' MSE and MAE\n",
        "best_regressors = []\n",
        "best_regressors_cr = {}"
      ],
      "execution_count": null,
      "outputs": []
    },
    {
      "cell_type": "code",
      "metadata": {
        "colab_type": "code",
        "id": "SYObEoOVmu0t",
        "colab": {}
      },
      "source": [
        "## Helper functions\n",
        "def get_best_parameters(grid_search_fit):\n",
        "  parameters = grid_search_fit.best_params_  \n",
        "  for key in parameters: \n",
        "    print(\"{} = {}\".format(key, parameters[key]))\n",
        "\n",
        "def get_regressor_name(regressor):\n",
        "  try:\n",
        "    regressor_name = str(type(regressor.named_steps.reg)).split(\".\")[-1][:-2]\n",
        "    if regressor_name in [\"Ridge\", \"Lasso\", \"LassoLars\"]:\n",
        "      regressor_name = \"\".join([regressor_name, \"Regressor\"])\n",
        "    return regressor_name\n",
        "\n",
        "  except AttributeError:\n",
        "    if str(type(regressor)).split(\".\")[-1][:-2] == \"RandomizedSearchCV\":\n",
        "      regressor_name = \"RandomForestRegressor\"\n",
        "      return regressor_name\n",
        "\n",
        "warnings.simplefilter('ignore')"
      ],
      "execution_count": null,
      "outputs": []
    },
    {
      "cell_type": "markdown",
      "metadata": {
        "colab_type": "text",
        "id": "_XfxHAo82gNB"
      },
      "source": [
        "-----\n",
        "#### 1.1.2.1 Linear Regression"
      ]
    },
    {
      "cell_type": "markdown",
      "metadata": {
        "colab_type": "text",
        "id": "PfEJdb9S4Ljy"
      },
      "source": [
        "> We run `LinearRegression`, having added the `PolynomialFeatures` and `SelectKBest` (including all features = 8) methods to the pipeline for feature selection."
      ]
    },
    {
      "cell_type": "code",
      "metadata": {
        "colab_type": "code",
        "id": "ulEPIREaaRUC",
        "colab": {
          "base_uri": "https://localhost:8080/",
          "height": 588
        },
        "outputId": "6c1d52a4-ed21-47a4-ef52-02e41bb890f3"
      },
      "source": [
        "## Linear Regression\n",
        "lin_reg_start_time = time.perf_counter()\n",
        "lin_reg = Pipeline([(\"poly\", PolynomialFeatures()),\n",
        "                    (\"scaler\", StandardScaler()),\n",
        "                    (\"sk\", SelectKBest(score_func=f_regression)),\n",
        "                    (\"reg\", LinearRegression())])\n",
        "lin_reg_param_grid = {\"poly__degree\": [2, 3],\n",
        "                      \"sk__k\": [2, 4, 6, 8]}\n",
        "lin_reg_grid_search = GridSearchCV(lin_reg, lin_reg_param_grid, cv=5,\n",
        "                                     scoring='neg_mean_squared_error', return_train_score=True)\n",
        "lin_reg_grid_search_fit = lin_reg_grid_search.fit(Xstrain, Ystrain)\n",
        "lin_reg_grid_search_fit_best = lin_reg_grid_search_fit.best_estimator_\n",
        "best_regressors.append(lin_reg_grid_search_fit_best)\n",
        "\n",
        "# Predict\n",
        "lin_reg_grid_search_pred = lin_reg_grid_search_fit_best.predict(Xstest)\n",
        "lin_reg_grid_search_pred_mse = mean_squared_error(Ystest, lin_reg_grid_search_pred)\n",
        "lin_reg_grid_search_pred_rmse = np.sqrt(lin_reg_grid_search_pred_mse)\n",
        "lin_reg_grid_search_pred_mae = mean_absolute_error(Ystest, lin_reg_grid_search_pred)\n",
        "lin_reg_grid_search_pred_r2 = r2_score(Ystest, lin_reg_grid_search_pred)\n",
        "lin_reg_compute_time = time.perf_counter() - lin_reg_start_time\n",
        "\n",
        "# Save the errors for final regression model comparisons\n",
        "best_regressors_cr[\"Linear\"] = [lin_reg_grid_search_pred_rmse,\n",
        "                                lin_reg_grid_search_pred_mse,\n",
        "                                lin_reg_grid_search_pred_mae,\n",
        "                                lin_reg_grid_search_pred_r2,\n",
        "                                lin_reg_grid_search_fit.best_params_[\"poly__degree\"],\n",
        "                                lin_reg_grid_search_fit.best_params_[\"sk__k\"],\n",
        "                                \"-\", \"-\", lin_reg_compute_time]\n",
        "\n",
        "# Report results\n",
        "print(\"Best Parameters:\\n\"+ 16*\"=\"); get_best_parameters(lin_reg_grid_search_fit)\n",
        "print(24*\"=\" + \"\\nComputation time = %1.3f\\n\" %lin_reg_compute_time + 31*\"=\")\n",
        "print(\"Linear Regression RMSE = %.4f\" %lin_reg_grid_search_pred_rmse)\n",
        "print(\"Linear Regression MSE  = %.4f\" %lin_reg_grid_search_pred_mse)\n",
        "print(\"Linear Regression MAE  = %.4f\" %lin_reg_grid_search_pred_mae); print(31*\"=\")\n",
        "print(\"mean train CV score = \\n{}\".format(lin_reg_grid_search.cv_results_[\"mean_train_score\"]))\n",
        "print(\"\\nmean test CV score  = \\n{}\".format(lin_reg_grid_search.cv_results_[\"mean_test_score\"]))\n",
        "print(72*\"=\" + \"\\nBest Estimator:\\n\"); lin_reg_grid_search_fit_best"
      ],
      "execution_count": null,
      "outputs": [
        {
          "output_type": "stream",
          "text": [
            "Best Parameters:\n",
            "================\n",
            "poly__degree = 2\n",
            "sk__k = 6\n",
            "========================\n",
            "Computation time = 5.535\n",
            "===============================\n",
            "Linear Regression RMSE = 0.7120\n",
            "Linear Regression MSE  = 0.5070\n",
            "Linear Regression MAE  = 0.5243\n",
            "===============================\n",
            "mean train CV score = \n",
            "[-0.70512106 -0.54774165 -0.53022399 -0.52400737 -0.7051312  -0.55563969\n",
            " -0.54753229 -0.53657062]\n",
            "\n",
            "mean test CV score  = \n",
            "[-0.70546132 -0.54824854 -0.53190686 -0.53318228 -0.70547002 -0.55614551\n",
            " -0.54826078 -0.53752899]\n",
            "========================================================================\n",
            "Best Estimator:\n",
            "\n"
          ],
          "name": "stdout"
        },
        {
          "output_type": "execute_result",
          "data": {
            "text/plain": [
              "Pipeline(memory=None,\n",
              "         steps=[('poly',\n",
              "                 PolynomialFeatures(degree=2, include_bias=True,\n",
              "                                    interaction_only=False, order='C')),\n",
              "                ('scaler',\n",
              "                 StandardScaler(copy=True, with_mean=True, with_std=True)),\n",
              "                ('sk',\n",
              "                 SelectKBest(k=6,\n",
              "                             score_func=<function f_regression at 0x000001A19CEA5B88>)),\n",
              "                ('reg',\n",
              "                 LinearRegression(copy_X=True, fit_intercept=True, n_jobs=None,\n",
              "                                  normalize=False))],\n",
              "         verbose=False)"
            ]
          },
          "metadata": {
            "tags": []
          },
          "execution_count": 8
        }
      ]
    },
    {
      "cell_type": "markdown",
      "metadata": {
        "colab_type": "text",
        "id": "vQC2B4bh7bFZ"
      },
      "source": [
        "> The mean CV scores for the `train` and `test` sets are very close and shows that we are not overfitting."
      ]
    },
    {
      "cell_type": "markdown",
      "metadata": {
        "colab_type": "text",
        "id": "_BzT78-d4J1_"
      },
      "source": [
        "-----\n",
        "#### 1.1.2.2 Ridge Regression"
      ]
    },
    {
      "cell_type": "markdown",
      "metadata": {
        "colab_type": "text",
        "id": "c2pPgdgo6Q7m"
      },
      "source": [
        "> We run `Ridge` regression, having added the `PolynomialFeatures` and `SelectKBest` methods to the pipeline for feature selection  ||`GridSearchCV`||."
      ]
    },
    {
      "cell_type": "code",
      "metadata": {
        "colab_type": "code",
        "id": "iioRVk26caas",
        "colab": {
          "base_uri": "https://localhost:8080/",
          "height": 924
        },
        "outputId": "6398775e-8d51-479f-ef43-63c31dfcfaae"
      },
      "source": [
        "## Ridge Regression\n",
        "ridge_reg_start_time = time.perf_counter()\n",
        "ridge_reg = Pipeline([(\"poly\", PolynomialFeatures()),\n",
        "                      (\"scaler\", StandardScaler()),\n",
        "                      (\"sk\", SelectKBest(score_func=f_regression)),\n",
        "                      (\"reg\", Ridge())])\n",
        "ridge_reg_param_grid = {\"reg__alpha\": [100.0, 10.0, 1.0, 0.1, 0.01, 0.001, 0.0001, 0],\n",
        "                        \"poly__degree\": [2, 3],\n",
        "                        \"sk__k\": [2, 4, 6, 8]}\n",
        "ridge_reg_grid_search = GridSearchCV(ridge_reg, ridge_reg_param_grid, cv=5,\n",
        "                                     scoring='neg_mean_squared_error', return_train_score=True)\n",
        "ridge_reg_grid_search_fit = ridge_reg_grid_search.fit(Xstrain, Ystrain)\n",
        "ridge_reg_grid_search_fit_best = ridge_reg_grid_search_fit.best_estimator_\n",
        "best_regressors.append(ridge_reg_grid_search_fit_best)\n",
        "\n",
        "# Predict\n",
        "ridge_reg_grid_search_pred = ridge_reg_grid_search_fit_best.predict(Xstest)\n",
        "ridge_reg_grid_search_pred_mse = mean_squared_error(Ystest, ridge_reg_grid_search_pred)\n",
        "ridge_reg_grid_search_pred_rmse = np.sqrt(ridge_reg_grid_search_pred_mse)\n",
        "ridge_reg_grid_search_pred_mae = mean_absolute_error(Ystest, ridge_reg_grid_search_pred)\n",
        "ridge_reg_grid_search_pred_r2 = r2_score(Ystest, ridge_reg_grid_search_pred)\n",
        "ridge_reg_compute_time = time.perf_counter() - ridge_reg_start_time\n",
        "\n",
        "# Save the errors for final regression model comparisons\n",
        "best_regressors_cr[\"Ridge\"] = [ridge_reg_grid_search_pred_rmse,\n",
        "                               ridge_reg_grid_search_pred_mse, \n",
        "                               ridge_reg_grid_search_pred_mae,\n",
        "                               ridge_reg_grid_search_pred_r2,\n",
        "                               ridge_reg_grid_search_fit.best_params_[\"poly__degree\"],\n",
        "                               ridge_reg_grid_search_fit.best_params_[\"sk__k\"],\n",
        "                               ridge_reg_grid_search_fit.best_params_[\"reg__alpha\"],\n",
        "                               \"-\", ridge_reg_compute_time]\n",
        "\n",
        "# Report results\n",
        "print(\"Best Parameters:\\n\"+ 16*\"=\"); get_best_parameters(ridge_reg_grid_search_fit)\n",
        "print(25*\"=\" + \"\\nComputation time = %1.3f\\n\" %ridge_reg_compute_time + 30*\"=\")\n",
        "print(\"Ridge Regression RMSE = %.4f\" %ridge_reg_grid_search_pred_rmse)\n",
        "print(\"Ridge Regression MSE  = %.4f\" %ridge_reg_grid_search_pred_mse)\n",
        "print(\"Ridge Regression MAE  = %.4f\" %ridge_reg_grid_search_pred_mae); print(30*\"=\")\n",
        "print(\"mean train CV score = \\n{}\".format(ridge_reg_grid_search.cv_results_[\"mean_train_score\"]))\n",
        "print(\"\\nmean test CV score  = \\n{}\".format(ridge_reg_grid_search.cv_results_[\"mean_test_score\"]))\n",
        "print(72*\"=\" + \"\\nBest Estimator:\\n\"); ridge_reg_grid_search_fit_best"
      ],
      "execution_count": null,
      "outputs": [
        {
          "output_type": "stream",
          "text": [
            "Best Parameters:\n",
            "================\n",
            "poly__degree = 2\n",
            "reg__alpha = 0.01\n",
            "sk__k = 6\n",
            "=========================\n",
            "Computation time = 42.863\n",
            "==============================\n",
            "Ridge Regression RMSE = 0.7120\n",
            "Ridge Regression MSE  = 0.5070\n",
            "Ridge Regression MAE  = 0.5244\n",
            "==============================\n",
            "mean train CV score = \n",
            "[-0.70625741 -0.69083193 -0.64282988 -0.62695136 -0.70547997 -0.66117671\n",
            " -0.62130046 -0.60768436 -0.70513356 -0.57732236 -0.5572987  -0.5493382\n",
            " -0.70512121 -0.54859443 -0.53110533 -0.52484676 -0.70512106 -0.54775151\n",
            " -0.53023441 -0.52401734 -0.70512106 -0.54774175 -0.53022409 -0.52400748\n",
            " -0.70512106 -0.54774165 -0.53022399 -0.52400738 -0.70512106 -0.54774165\n",
            " -0.53022399 -0.52400737 -0.70518343 -0.68662461 -0.67914627 -0.67072254\n",
            " -0.70514499 -0.61739686 -0.61002815 -0.60060142 -0.70513168 -0.56033362\n",
            " -0.56048993 -0.55151003 -0.70513121 -0.55675129 -0.55653789 -0.54585198\n",
            " -0.70513121 -0.55664303 -0.55396636 -0.54355997 -0.7051312  -0.55624911\n",
            " -0.55045387 -0.54023213 -0.7051312  -0.55569905 -0.54882989 -0.53831754\n",
            " -0.7051312  -0.55563969 -0.54753229 -0.53657062]\n",
            "\n",
            "mean test CV score  = \n",
            "[-0.70647984 -0.69108283 -0.64358068 -0.63211313 -0.70575438 -0.66144174\n",
            " -0.62200791 -0.61396018 -0.70546152 -0.57768494 -0.55816422 -0.55679593\n",
            " -0.70546013 -0.54906779 -0.53257825 -0.53367168 -0.70546119 -0.54825455\n",
            " -0.53189296 -0.53315319 -0.70546131 -0.54824825 -0.53190449 -0.53317843\n",
            " -0.70546132 -0.5482485  -0.53190661 -0.53318188 -0.70546132 -0.54824854\n",
            " -0.53190686 -0.53318228 -0.70541707 -0.6868701  -0.67939763 -0.67098411\n",
            " -0.70542546 -0.6177301  -0.61037203 -0.60096167 -0.70545964 -0.56078941\n",
            " -0.56095973 -0.55206362 -0.70546884 -0.55726062 -0.55706597 -0.54650334\n",
            " -0.7054699  -0.55715931 -0.55452822 -0.54426486 -0.70547001 -0.55676308\n",
            " -0.5510348  -0.54096717 -0.70547002 -0.55620689 -0.54944547 -0.53910211\n",
            " -0.70547002 -0.55614551 -0.54826078 -0.53752899]\n",
            "========================================================================\n",
            "Best Estimator:\n",
            "\n"
          ],
          "name": "stdout"
        },
        {
          "output_type": "execute_result",
          "data": {
            "text/plain": [
              "Pipeline(memory=None,\n",
              "         steps=[('poly',\n",
              "                 PolynomialFeatures(degree=2, include_bias=True,\n",
              "                                    interaction_only=False, order='C')),\n",
              "                ('scaler',\n",
              "                 StandardScaler(copy=True, with_mean=True, with_std=True)),\n",
              "                ('sk',\n",
              "                 SelectKBest(k=6,\n",
              "                             score_func=<function f_regression at 0x000001A19CEA5B88>)),\n",
              "                ('reg',\n",
              "                 Ridge(alpha=0.01, copy_X=True, fit_intercept=True,\n",
              "                       max_iter=None, normalize=False, random_state=None,\n",
              "                       solver='auto', tol=0.001))],\n",
              "         verbose=False)"
            ]
          },
          "metadata": {
            "tags": []
          },
          "execution_count": 9
        }
      ]
    },
    {
      "cell_type": "markdown",
      "metadata": {
        "colab_type": "text",
        "id": "xO_loiFp70Ue"
      },
      "source": [
        "> The mean CV scores for the `train` and `test` sets are very close and shows that we are not overfitting."
      ]
    },
    {
      "cell_type": "markdown",
      "metadata": {
        "colab_type": "text",
        "id": "_dPPi09b8EgF"
      },
      "source": [
        "-----\n",
        "#### 1.1.2.3 LASSO"
      ]
    },
    {
      "cell_type": "markdown",
      "metadata": {
        "colab_type": "text",
        "id": "8LR6BA248LEK"
      },
      "source": [
        "> `Lasso` with `PolynomialFeatures` and `SelectKBest` methods for feature selection ||`GridSearchCV`||."
      ]
    },
    {
      "cell_type": "code",
      "metadata": {
        "colab_type": "code",
        "id": "qFhxRzTvccfy",
        "colab": {
          "base_uri": "https://localhost:8080/",
          "height": 941
        },
        "outputId": "48551b26-01c3-45f2-ccf5-d9d414164b23"
      },
      "source": [
        "## LASSO\n",
        "lasso_reg_start_time = time.perf_counter()\n",
        "lasso_reg = Pipeline([(\"poly\", PolynomialFeatures()),\n",
        "                      (\"scaler\", StandardScaler()),\n",
        "                      (\"sk\", SelectKBest(score_func=f_regression)),\n",
        "                      (\"reg\", Lasso())])\n",
        "lasso_reg_param_grid = {\"reg__alpha\": [100, 10, 1, 0.1, 0.01, 0.001, 0.0001, 0],\n",
        "                        \"poly__degree\": [2, 3],\n",
        "                        \"sk__k\": [2, 4, 6, 8]}\n",
        "lasso_reg_grid_search = GridSearchCV(lasso_reg, lasso_reg_param_grid, cv=5,\n",
        "                                     scoring='neg_mean_squared_error', return_train_score=True)\n",
        "lasso_reg_grid_search_fit = lasso_reg_grid_search.fit(Xstrain, Ystrain)\n",
        "lasso_reg_grid_search_fit_best = lasso_reg_grid_search_fit.best_estimator_\n",
        "best_regressors.append(lasso_reg_grid_search_fit_best)\n",
        "\n",
        "# Predict\n",
        "lasso_reg_grid_search_pred = lasso_reg_grid_search_fit_best.predict(Xstest)\n",
        "lasso_reg_grid_search_pred_mse = mean_squared_error(Ystest, lasso_reg_grid_search_pred)\n",
        "lasso_reg_grid_search_pred_rmse = np.sqrt(lasso_reg_grid_search_pred_mse)\n",
        "lasso_reg_grid_search_pred_mae = mean_absolute_error(Ystest, lasso_reg_grid_search_pred)\n",
        "lasso_reg_grid_search_pred_r2 = r2_score(Ystest, lasso_reg_grid_search_pred)\n",
        "lasso_reg_compute_time = time.perf_counter() - lasso_reg_start_time\n",
        "\n",
        "# Save the errors for final regression model comparisons\n",
        "best_regressors_cr[\"LASSO\"] = [lasso_reg_grid_search_pred_rmse,\n",
        "                               lasso_reg_grid_search_pred_mse,\n",
        "                               lasso_reg_grid_search_pred_mae,\n",
        "                               lasso_reg_grid_search_pred_r2,\n",
        "                               lasso_reg_grid_search_fit.best_params_[\"poly__degree\"],\n",
        "                               lasso_reg_grid_search_fit.best_params_[\"sk__k\"],\n",
        "                               lasso_reg_grid_search_fit.best_params_[\"reg__alpha\"],\n",
        "                               \"-\", lasso_reg_compute_time]\n",
        "# Report results\n",
        "print(\"Best Parameters:\\n\"+ 16*\"=\"); get_best_parameters(lasso_reg_grid_search_fit)\n",
        "print(25*\"=\" + \"\\nComputation_time = %1.3f\\n\" %lasso_reg_compute_time + 30*\"=\")\n",
        "print(\"LASSO Regression RMSE = %.4f\" %lasso_reg_grid_search_pred_rmse)\n",
        "print(\"LASSO Regression MSE  = %.4f\" %lasso_reg_grid_search_pred_mse)\n",
        "print(\"LASSO Regression MAE  = %.4f\" %lasso_reg_grid_search_pred_mae); print(30*\"=\")\n",
        "print(\"mean train CV score = \\n{}\".format(lasso_reg_grid_search.cv_results_[\"mean_train_score\"]))\n",
        "print(\"\\nmean test CV score  = \\n{}\".format(lasso_reg_grid_search.cv_results_[\"mean_test_score\"]))\n",
        "print(72*\"=\" + \"\\nBest Estimator:\\n\"); lasso_reg_grid_search_fit_best"
      ],
      "execution_count": null,
      "outputs": [
        {
          "output_type": "stream",
          "text": [
            "Best Parameters:\n",
            "================\n",
            "poly__degree = 3\n",
            "reg__alpha = 0\n",
            "sk__k = 8\n",
            "=========================\n",
            "Computation_time = 49.855\n",
            "==============================\n",
            "LASSO Regression RMSE = 0.7504\n",
            "LASSO Regression MSE  = 0.5631\n",
            "LASSO Regression MAE  = 0.5562\n",
            "==============================\n",
            "mean train CV score = \n",
            "[-1.33677595 -1.33677595 -1.33677595 -1.33677595 -1.33677595 -1.33677595\n",
            " -1.33677595 -1.33677595 -1.33677595 -1.33677595 -1.33677595 -1.33677595\n",
            " -0.71559919 -0.71559919 -0.67732931 -0.67732931 -0.70569919 -0.70172957\n",
            " -0.6542816  -0.63917402 -0.70560019 -0.66068543 -0.62238092 -0.60963539\n",
            " -0.70533686 -0.6479926  -0.61238348 -0.60017853 -0.70527653 -0.64660485\n",
            " -0.61126925 -0.59912793 -1.33677595 -1.33677595 -1.33677595 -1.33677595\n",
            " -1.33677595 -1.33677595 -1.33677595 -1.33677595 -1.33677595 -1.33677595\n",
            " -1.33677595 -1.33677595 -0.71513966 -0.71513364 -0.71513364 -0.71513364\n",
            " -0.70525592 -0.70524048 -0.68502    -0.67769733 -0.70515904 -0.62554282\n",
            " -0.61041193 -0.6014325  -0.70515826 -0.61661615 -0.59974694 -0.5897869\n",
            " -0.70515828 -0.61566259 -0.59864089 -0.5884456 ]\n",
            "\n",
            "mean test CV score  = \n",
            "[-1.33679333 -1.33679333 -1.33679333 -1.33679333 -1.33679333 -1.33679333\n",
            " -1.33679333 -1.33679333 -1.33679333 -1.33679333 -1.33679333 -1.33679333\n",
            " -0.71576367 -0.71576367 -0.67782871 -0.67782871 -0.70591271 -0.70210825\n",
            " -0.65533269 -0.64294219 -0.7058193  -0.66097557 -0.6231095  -0.61559574\n",
            " -0.70563825 -0.64828925 -0.61311223 -0.60684477 -0.70558704 -0.64690214\n",
            " -0.61199823 -0.605876   -1.33679333 -1.33679333 -1.33679333 -1.33679333\n",
            " -1.33679333 -1.33679333 -1.33679333 -1.33679333 -1.33679333 -1.33679333\n",
            " -1.33679333 -1.33679333 -0.71539251 -0.71538066 -0.71538066 -0.71538066\n",
            " -0.70556123 -0.7055375  -0.68525519 -0.6780503  -0.70547029 -0.62589907\n",
            " -0.61078631 -0.6018136  -0.70547012 -0.61697382 -0.60012452 -0.59015581\n",
            " -0.7054702  -0.61602043 -0.59901887 -0.58881338]\n",
            "========================================================================\n",
            "Best Estimator:\n",
            "\n"
          ],
          "name": "stdout"
        },
        {
          "output_type": "execute_result",
          "data": {
            "text/plain": [
              "Pipeline(memory=None,\n",
              "         steps=[('poly',\n",
              "                 PolynomialFeatures(degree=3, include_bias=True,\n",
              "                                    interaction_only=False, order='C')),\n",
              "                ('scaler',\n",
              "                 StandardScaler(copy=True, with_mean=True, with_std=True)),\n",
              "                ('sk',\n",
              "                 SelectKBest(k=8,\n",
              "                             score_func=<function f_regression at 0x000001A19CEA5B88>)),\n",
              "                ('reg',\n",
              "                 Lasso(alpha=0, copy_X=True, fit_intercept=True, max_iter=1000,\n",
              "                       normalize=False, positive=False, precompute=False,\n",
              "                       random_state=None, selection='cyclic', tol=0.0001,\n",
              "                       warm_start=False))],\n",
              "         verbose=False)"
            ]
          },
          "metadata": {
            "tags": []
          },
          "execution_count": 10
        }
      ]
    },
    {
      "cell_type": "markdown",
      "metadata": {
        "colab_type": "text",
        "id": "rUPcFLPX9suz"
      },
      "source": [
        "> The mean CV scores for the `train` and `test` sets are very close and shows that we are not overfitting."
      ]
    },
    {
      "cell_type": "markdown",
      "metadata": {
        "colab_type": "text",
        "id": "aaIVtJmS9uw8"
      },
      "source": [
        "-----\n",
        "#### 1.1.2.4 LARS"
      ]
    },
    {
      "cell_type": "markdown",
      "metadata": {
        "colab_type": "text",
        "id": "YxHdeQO-91DA"
      },
      "source": [
        "> `LassoLars` with `PolynomialFeatures` and `SelectKBest` methods for feature selection ||`GridSearchCV`||."
      ]
    },
    {
      "cell_type": "code",
      "metadata": {
        "colab_type": "code",
        "id": "0pEjl3aOceST",
        "colab": {
          "base_uri": "https://localhost:8080/",
          "height": 941
        },
        "outputId": "9de1e098-91cd-493d-fe60-0174d8c32999"
      },
      "source": [
        "## LARS\n",
        "lassoLars_reg_start_time = time.perf_counter()\n",
        "lassoLars_reg = Pipeline([(\"poly\", PolynomialFeatures()),\n",
        "                          (\"scaler\", StandardScaler()),\n",
        "                          (\"sk\", SelectKBest(score_func=f_regression)),\n",
        "                          (\"reg\", LassoLars())])\n",
        "lassoLars_reg_param_grid = {\"reg__alpha\": [100, 10, 1, 0.1, 0.01, 0.001, 0.0001, 0],\n",
        "                            \"poly__degree\": [2, 3],\n",
        "                            \"sk__k\": [2, 4, 6, 8]}\n",
        "lassoLars_reg_grid_search = GridSearchCV(lassoLars_reg, lassoLars_reg_param_grid, cv=5,\n",
        "                                         scoring='neg_mean_squared_error', return_train_score=True)\n",
        "lassoLars_reg_grid_search_fit = lassoLars_reg_grid_search.fit(Xstrain, Ystrain)\n",
        "lassoLars_reg_grid_search_fit_best = lassoLars_reg_grid_search_fit.best_estimator_\n",
        "best_regressors.append(lassoLars_reg_grid_search_fit_best)\n",
        "\n",
        "# Predict\n",
        "lassoLars_reg_grid_search_pred = lassoLars_reg_grid_search_fit_best.predict(Xstest)\n",
        "lassoLars_reg_grid_search_pred_mse = mean_squared_error(Ystest, lassoLars_reg_grid_search_pred)\n",
        "lassoLars_reg_grid_search_pred_rmse = np.sqrt(lassoLars_reg_grid_search_pred_mse)\n",
        "lassoLars_reg_grid_search_pred_mae = mean_absolute_error(Ystest, lassoLars_reg_grid_search_pred)\n",
        "LassoLars_reg_grid_search_pred_r2 = r2_score(Ystest, lassoLars_reg_grid_search_pred)\n",
        "lassoLars_reg_compute_time = time.perf_counter() - lassoLars_reg_start_time\n",
        "\n",
        "# Save the errors for final regression model comparisons\n",
        "best_regressors_cr[\"LARS\"] = [lassoLars_reg_grid_search_pred_rmse,\n",
        "                              lassoLars_reg_grid_search_pred_mse,\n",
        "                              lassoLars_reg_grid_search_pred_mae,\n",
        "                              LassoLars_reg_grid_search_pred_r2,\n",
        "                              lassoLars_reg_grid_search_fit.best_params_[\"poly__degree\"],\n",
        "                              lassoLars_reg_grid_search_fit.best_params_[\"sk__k\"],\n",
        "                              lassoLars_reg_grid_search_fit.best_params_[\"reg__alpha\"],\n",
        "                              \"-\", lassoLars_reg_compute_time]\n",
        "\n",
        "# Report results\n",
        "print(\"Best Parameters:\\n\"+ 16*\"=\"); get_best_parameters(lassoLars_reg_grid_search_fit)\n",
        "print(25*\"=\" + \"\\nComputation_time = %1.3f\\n\" %lassoLars_reg_compute_time + 34*\"=\")\n",
        "print(\"LassoLars Regression RMSE = %.4f\" %lassoLars_reg_grid_search_pred_rmse)\n",
        "print(\"LassoLars Regression MSE  = %.4f\" %lassoLars_reg_grid_search_pred_mse)\n",
        "print(\"LassoLars Regression MAE  = %.4f\" %lassoLars_reg_grid_search_pred_mae); print(34*\"=\")\n",
        "print(\"mean train CV score = \\n{}\".format(lassoLars_reg_grid_search.cv_results_[\"mean_train_score\"]))\n",
        "print(\"\\nmean test CV score  = \\n{}\".format(lassoLars_reg_grid_search.cv_results_[\"mean_test_score\"]))\n",
        "print(72*\"=\" + \"\\nBest Estimator:\\n\"); lassoLars_reg_grid_search_fit_best"
      ],
      "execution_count": null,
      "outputs": [
        {
          "output_type": "stream",
          "text": [
            "Best Parameters:\n",
            "================\n",
            "poly__degree = 2\n",
            "reg__alpha = 0\n",
            "sk__k = 6\n",
            "=========================\n",
            "Computation_time = 43.753\n",
            "==================================\n",
            "LassoLars Regression RMSE = 0.7120\n",
            "LassoLars Regression MSE  = 0.5070\n",
            "LassoLars Regression MAE  = 0.5243\n",
            "==================================\n",
            "mean train CV score = \n",
            "[-1.33677595 -1.33677595 -1.33677595 -1.33677595 -1.33677595 -1.33677595\n",
            " -1.33677595 -1.33677595 -1.33677595 -1.33677595 -1.33677595 -1.33677595\n",
            " -1.33677595 -1.33677595 -1.33677595 -1.33677595 -1.33677595 -1.33677595\n",
            " -1.33677595 -1.33677595 -0.71880879 -0.71880879 -0.68118236 -0.68118236\n",
            " -0.70573128 -0.70277275 -0.65553083 -0.64150135 -0.70512106 -0.54774165\n",
            " -0.53022399 -0.52400737 -1.33677595 -1.33677595 -1.33677595 -1.33677595\n",
            " -1.33677595 -1.33677595 -1.33677595 -1.33677595 -1.33677595 -1.33677595\n",
            " -1.33677595 -1.33677595 -1.33677595 -1.33677595 -1.33677595 -1.33677595\n",
            " -1.33677595 -1.33677595 -1.33677595 -1.33677595 -0.71834551 -0.71834551\n",
            " -0.71834551 -0.71834551 -0.70526335 -0.70526335 -0.68862566 -0.68321131\n",
            " -0.7051312  -0.55675217 -0.55341439 -0.54313252]\n",
            "\n",
            "mean test CV score  = \n",
            "[-1.33679333 -1.33679333 -1.33679333 -1.33679333 -1.33679333 -1.33679333\n",
            " -1.33679333 -1.33679333 -1.33679333 -1.33679333 -1.33679333 -1.33679333\n",
            " -1.33679333 -1.33679333 -1.33679333 -1.33679333 -1.33679333 -1.33679333\n",
            " -1.33679333 -1.33679333 -0.71896635 -0.71896635 -0.68166656 -0.68166656\n",
            " -0.70594389 -0.70318534 -0.65655407 -0.64481234 -0.70546132 -0.54824854\n",
            " -0.53190686 -0.53318228 -1.33679333 -1.33679333 -1.33679333 -1.33679333\n",
            " -1.33679333 -1.33679333 -1.33679333 -1.33679333 -1.33679333 -1.33679333\n",
            " -1.33679333 -1.33679333 -1.33679333 -1.33679333 -1.33679333 -1.33679333\n",
            " -1.33679333 -1.33679333 -1.33679333 -1.33679333 -0.71861717 -0.71861717\n",
            " -0.71861717 -0.71861717 -0.70559452 -0.70559452 -0.68886166 -0.68360858\n",
            " -0.70547002 -0.55727018 -0.55398871 -0.54385996]\n",
            "========================================================================\n",
            "Best Estimator:\n",
            "\n"
          ],
          "name": "stdout"
        },
        {
          "output_type": "execute_result",
          "data": {
            "text/plain": [
              "Pipeline(memory=None,\n",
              "         steps=[('poly',\n",
              "                 PolynomialFeatures(degree=2, include_bias=True,\n",
              "                                    interaction_only=False, order='C')),\n",
              "                ('scaler',\n",
              "                 StandardScaler(copy=True, with_mean=True, with_std=True)),\n",
              "                ('sk',\n",
              "                 SelectKBest(k=6,\n",
              "                             score_func=<function f_regression at 0x000001A19CEA5B88>)),\n",
              "                ('reg',\n",
              "                 LassoLars(alpha=0, copy_X=True, eps=2.220446049250313e-16,\n",
              "                           fit_intercept=True, fit_path=True, max_iter=500,\n",
              "                           normalize=True, positive=False, precompute='auto',\n",
              "                           verbose=False))],\n",
              "         verbose=False)"
            ]
          },
          "metadata": {
            "tags": []
          },
          "execution_count": 11
        }
      ]
    },
    {
      "cell_type": "markdown",
      "metadata": {
        "colab_type": "text",
        "id": "uIzqXw---xqa"
      },
      "source": [
        "> The mean CV scores for the `train` and `test` sets are very close and shows that we are not overfitting."
      ]
    },
    {
      "cell_type": "markdown",
      "metadata": {
        "colab_type": "text",
        "id": "mp6rkHqt-n1D"
      },
      "source": [
        "-----\n",
        "#### 1.1.2.5 Elastic Net"
      ]
    },
    {
      "cell_type": "markdown",
      "metadata": {
        "colab_type": "text",
        "id": "f2v-JhvW-6-s"
      },
      "source": [
        "> `ElasticNet` with `PolynomialFeatures` and `SelectKBest` methods for feature selection ||`GridSearchCV`||."
      ]
    },
    {
      "cell_type": "code",
      "metadata": {
        "colab_type": "code",
        "id": "DiVtTajGcfve",
        "colab": {
          "base_uri": "https://localhost:8080/",
          "height": 1000
        },
        "outputId": "95708e48-c5d5-4e55-a57c-fc0ae2a9614b"
      },
      "source": [
        "## Elastic Net and scores\n",
        "ElNet_reg_start_time = time.perf_counter()\n",
        "ElNet_reg = Pipeline([(\"poly\", PolynomialFeatures()),\n",
        "                      (\"scaler\", StandardScaler()),\n",
        "                      (\"sk\", SelectKBest(score_func=f_regression)),\n",
        "                      (\"reg\", ElasticNet())])\n",
        "ElNet_reg_param_grid = {\"reg__alpha\": [100, 10, 1, 0.1, 0.01, 0.001, 0.0001, 0],\n",
        "                        \"reg__l1_ratio\": [0.9, 0.6, 0.3, 0.2, 0.1, 0.01],\n",
        "                        \"poly__degree\": [2, 3],\n",
        "                        \"sk__k\": [2, 4, 6, 8]}\n",
        "ElNet_reg_grid_search = GridSearchCV(ElNet_reg, ElNet_reg_param_grid, cv=5,\n",
        "                           scoring='neg_mean_squared_error', return_train_score=True)\n",
        "ElNet_reg_grid_search_fit = ElNet_reg_grid_search.fit(Xstrain, Ystrain)\n",
        "ElNet_reg_grid_search_fit_best = ElNet_reg_grid_search_fit.best_estimator_\n",
        "best_regressors.append(ElNet_reg_grid_search_fit_best)\n",
        "\n",
        "# Predict\n",
        "ElNet_reg_grid_search_pred = ElNet_reg_grid_search_fit_best.predict(Xstest)\n",
        "ElNet_reg_grid_search_pred_mse = mean_squared_error(Ystest, ElNet_reg_grid_search_pred)\n",
        "ElNet_reg_grid_search_pred_rmse = np.sqrt(ElNet_reg_grid_search_pred_mse)\n",
        "ElNet_reg_grid_search_pred_mae = mean_absolute_error(Ystest, ElNet_reg_grid_search_pred)\n",
        "ElNet_reg_grid_search_pred_r2 = r2_score(Ystest, ElNet_reg_grid_search_pred)\n",
        "ElNet_reg_compute_time = time.perf_counter() - ElNet_reg_start_time\n",
        "\n",
        "# Save the errors for final regression model comparisons\n",
        "best_regressors_cr[\"Elastic Net\"] = [ElNet_reg_grid_search_pred_rmse,\n",
        "                                     ElNet_reg_grid_search_pred_mse,\n",
        "                                     ElNet_reg_grid_search_pred_mae,\n",
        "                                     ElNet_reg_grid_search_pred_r2,\n",
        "                                     ElNet_reg_grid_search_fit.best_params_[\"poly__degree\"],\n",
        "                                     ElNet_reg_grid_search_fit.best_params_[\"sk__k\"],\n",
        "                                     ElNet_reg_grid_search_fit.best_params_[\"reg__alpha\"],\n",
        "                                     ElNet_reg_grid_search_fit.best_params_[\"reg__l1_ratio\"],\n",
        "                                     ElNet_reg_compute_time]\n",
        "\n",
        "# Report results\n",
        "print(\"Best Parameters:\\n\"+ 16*\"=\"); get_best_parameters(ElNet_reg_grid_search_fit)\n",
        "print(25*\"=\" + \"\\nComputation_time = %1.2f\\n\" %ElNet_reg_compute_time + 36*\"=\")\n",
        "print(\"Elastic Net Regression RMSE = %.4f\" %ElNet_reg_grid_search_pred_rmse)\n",
        "print(\"Elastic Net Regression MSE  = %.4f\" %ElNet_reg_grid_search_pred_mse)\n",
        "print(\"Elastic Net Regression MAE  = %.4f\" %ElNet_reg_grid_search_pred_mae); print(36*\"=\")\n",
        "print(\"mean train CV score = \\n{}\".format(ElNet_reg_grid_search.cv_results_[\"mean_train_score\"]))\n",
        "print(\"\\nmean test CV score  = \\n{}\".format(ElNet_reg_grid_search.cv_results_[\"mean_test_score\"]))\n",
        "print(73*\"=\" + \"\\nBest Estimator:\\n\"); ElNet_reg_grid_search_fit_best"
      ],
      "execution_count": null,
      "outputs": [
        {
          "output_type": "stream",
          "text": [
            "Best Parameters:\n",
            "================\n",
            "poly__degree = 3\n",
            "reg__alpha = 0\n",
            "reg__l1_ratio = 0.9\n",
            "sk__k = 8\n",
            "=========================\n",
            "Computation_time = 298.97\n",
            "====================================\n",
            "Elastic Net Regression RMSE = 0.7504\n",
            "Elastic Net Regression MSE  = 0.5631\n",
            "Elastic Net Regression MAE  = 0.5562\n",
            "====================================\n",
            "mean train CV score = \n",
            "[-1.33677595 -1.33677595 -1.33677595 -1.33677595 -1.33677595 -1.33677595\n",
            " -1.33677595 -1.33677595 -1.33677595 -1.33677595 -1.33677595 -1.33677595\n",
            " -1.33677595 -1.33677595 -1.33677595 -1.33677595 -1.33677595 -1.33677595\n",
            " -1.33677595 -1.33677595 -1.33677595 -1.33677595 -1.33677595 -1.33677595\n",
            " -1.33677595 -1.33677595 -1.33677595 -1.33677595 -1.33677595 -1.33677595\n",
            " -1.33677595 -1.33677595 -1.33677595 -1.33677595 -1.33677595 -1.33677595\n",
            " -1.33677595 -1.33677595 -1.33677595 -1.33677595 -1.33677595 -1.33677595\n",
            " -1.33677595 -1.33677595 -1.16524647 -1.07341542 -1.01917109 -1.00192018\n",
            " -1.33677595 -1.33677595 -1.33677595 -1.33677595 -1.10641518 -1.10108502\n",
            " -1.10108502 -1.10108502 -0.88975585 -0.86377934 -0.83545447 -0.83520918\n",
            " -0.84318817 -0.81346822 -0.77812337 -0.77690628 -0.8059555  -0.77581648\n",
            " -0.736604   -0.73436562 -0.77916135 -0.7516041  -0.71177096 -0.7080551\n",
            " -0.71504393 -0.71504393 -0.6758167  -0.6758167  -0.71195825 -0.71254965\n",
            " -0.67152979 -0.67142924 -0.7095608  -0.71211342 -0.67004228 -0.66826998\n",
            " -0.70892348 -0.7118815  -0.66966054 -0.66758205 -0.70836396 -0.71167982\n",
            " -0.66905726 -0.6618816  -0.7079256  -0.71163398 -0.66445976 -0.65499529\n",
            " -0.70573522 -0.70144458 -0.65369905 -0.63823147 -0.70616387 -0.70069602\n",
            " -0.65234735 -0.63594966 -0.70627345 -0.69639522 -0.64823551 -0.6325679\n",
            " -0.706292   -0.69508484 -0.64686597 -0.63107986 -0.70630635 -0.69397343\n",
            " -0.64570962 -0.62983789 -0.70631678 -0.6931721  -0.64487264 -0.62892815\n",
            " -0.70560015 -0.66196162 -0.6230443  -0.61008449 -0.70560003 -0.66517974\n",
            " -0.6247428  -0.61126441 -0.70559992 -0.66766177 -0.6260916  -0.61223349\n",
            " -0.70560388 -0.66836061 -0.62648251 -0.61251993 -0.70561137 -0.66900522\n",
            " -0.62685248 -0.61279267 -0.70562393 -0.66954445 -0.62717197 -0.61302907\n",
            " -0.70533415 -0.64820946 -0.61251975 -0.60028774 -0.70532643 -0.64884965\n",
            " -0.61292123 -0.60061018 -0.70531928 -0.64947405 -0.61331328 -0.60092592\n",
            " -0.70531702 -0.64967874 -0.6134419  -0.60102952 -0.70531481 -0.64988182\n",
            " -0.61356948 -0.60113244 -0.70531286 -0.65006309 -0.61368343 -0.6012244\n",
            " -0.70527653 -0.64660485 -0.61126925 -0.59912793 -0.70527653 -0.64660485\n",
            " -0.61126925 -0.59912793 -0.70527653 -0.64660485 -0.61126925 -0.59912793\n",
            " -0.70527653 -0.64660485 -0.61126925 -0.59912793 -0.70527653 -0.64660485\n",
            " -0.61126925 -0.59912793 -0.70527653 -0.64660485 -0.61126925 -0.59912793\n",
            " -1.33677595 -1.33677595 -1.33677595 -1.33677595 -1.33677595 -1.33677595\n",
            " -1.33677595 -1.33677595 -1.33677595 -1.33677595 -1.33677595 -1.33677595\n",
            " -1.33677595 -1.33677595 -1.33677595 -1.33677595 -1.33677595 -1.33677595\n",
            " -1.33677595 -1.33677595 -1.33677595 -1.33677595 -1.33677595 -1.33677595\n",
            " -1.33677595 -1.33677595 -1.33677595 -1.33677595 -1.33677595 -1.33677595\n",
            " -1.33677595 -1.33677595 -1.33677595 -1.33677595 -1.33677595 -1.33677595\n",
            " -1.33677595 -1.33677595 -1.33677595 -1.33677595 -1.33677595 -1.33677595\n",
            " -1.33677595 -1.33677595 -1.16487323 -1.06228547 -1.00043731 -0.96318732\n",
            " -1.33677595 -1.33677595 -1.33677595 -1.33677595 -1.10530377 -1.09242037\n",
            " -1.091814   -1.091814   -0.88865142 -0.85042637 -0.84335632 -0.84257273\n",
            " -0.84207473 -0.80027897 -0.79279282 -0.79168558 -0.80482922 -0.76265061\n",
            " -0.75651829 -0.75637878 -0.77802091 -0.73835657 -0.73514273 -0.73711369\n",
            " -0.71392037 -0.71395159 -0.71395159 -0.71395159 -0.71071752 -0.71040229\n",
            " -0.71040229 -0.71040229 -0.70830218 -0.70868752 -0.70916529 -0.70916515\n",
            " -0.7076618  -0.70858564 -0.70933086 -0.70933084 -0.70709974 -0.70850704\n",
            " -0.70949851 -0.70949779 -0.70665949 -0.70847941 -0.70749329 -0.70611779\n",
            " -0.70524132 -0.70524804 -0.68452221 -0.67710193 -0.7052274  -0.70094894\n",
            " -0.68520716 -0.67747661 -0.70520798 -0.69412514 -0.68451721 -0.6763848\n",
            " -0.70520229 -0.69277253 -0.68434885 -0.67638573 -0.70519716 -0.69166803\n",
            " -0.68379397 -0.67583657 -0.70519307 -0.69080817 -0.68307073 -0.67501359\n",
            " -0.70515627 -0.62576073 -0.61230702 -0.60346646 -0.70515265 -0.62727182\n",
            " -0.61740427 -0.60876478 -0.70515249 -0.62973307 -0.62175078 -0.61345898\n",
            " -0.70515281 -0.63069811 -0.6230607  -0.61487832 -0.70515323 -0.63171446\n",
            " -0.62431005 -0.61622352 -0.70515368 -0.63266401 -0.62538714 -0.61737182\n",
            " -0.70515794 -0.6165955  -0.59990703 -0.58996613 -0.70515705 -0.61654888\n",
            " -0.60038623 -0.59050303 -0.70515627 -0.61652449 -0.60086382 -0.59103851\n",
            " -0.70515603 -0.61652116 -0.60102258 -0.59121665 -0.7051558  -0.61652018\n",
            " -0.60118115 -0.59139461 -0.7051556  -0.6165213  -0.60132369 -0.59155459\n",
            " -0.70515828 -0.61566259 -0.59864089 -0.5884456  -0.70515828 -0.61566259\n",
            " -0.59864089 -0.5884456  -0.70515828 -0.61566259 -0.59864089 -0.5884456\n",
            " -0.70515828 -0.61566259 -0.59864089 -0.5884456  -0.70515828 -0.61566259\n",
            " -0.59864089 -0.5884456  -0.70515828 -0.61566259 -0.59864089 -0.5884456 ]\n",
            "\n",
            "mean test CV score  = \n",
            "[-1.33679333 -1.33679333 -1.33679333 -1.33679333 -1.33679333 -1.33679333\n",
            " -1.33679333 -1.33679333 -1.33679333 -1.33679333 -1.33679333 -1.33679333\n",
            " -1.33679333 -1.33679333 -1.33679333 -1.33679333 -1.33679333 -1.33679333\n",
            " -1.33679333 -1.33679333 -1.33679333 -1.33679333 -1.33679333 -1.33679333\n",
            " -1.33679333 -1.33679333 -1.33679333 -1.33679333 -1.33679333 -1.33679333\n",
            " -1.33679333 -1.33679333 -1.33679333 -1.33679333 -1.33679333 -1.33679333\n",
            " -1.33679333 -1.33679333 -1.33679333 -1.33679333 -1.33679333 -1.33679333\n",
            " -1.33679333 -1.33679333 -1.16525937 -1.07339849 -1.01921271 -1.00220182\n",
            " -1.33679333 -1.33679333 -1.33679333 -1.33679333 -1.10652208 -1.10119901\n",
            " -1.10119901 -1.10119901 -0.88982052 -0.86383463 -0.8356343  -0.83546921\n",
            " -0.84325406 -0.81356238 -0.77846907 -0.77777866 -0.80602783 -0.77596448\n",
            " -0.73704963 -0.73578113 -0.77924308 -0.75181175 -0.71231634 -0.70986233\n",
            " -0.71521497 -0.71521497 -0.67632503 -0.67632503 -0.71213232 -0.71273067\n",
            " -0.6720423  -0.67228141 -0.70974326 -0.71230522 -0.67057863 -0.66976235\n",
            " -0.70910896 -0.71207724 -0.67020213 -0.6692162  -0.70855254 -0.71187958\n",
            " -0.66971494 -0.66379545 -0.708117   -0.71191898 -0.66529204 -0.6573882\n",
            " -0.70596714 -0.70186018 -0.65466722 -0.64210169 -0.70639149 -0.70103242\n",
            " -0.65320547 -0.64009879 -0.70649493 -0.69668921 -0.64905184 -0.63707924\n",
            " -0.70651253 -0.69536456 -0.647661   -0.63570804 -0.7065262  -0.6942406\n",
            " -0.64648611 -0.63458916 -0.70653619 -0.69342895 -0.64563399 -0.63379405\n",
            " -0.70581927 -0.66224708 -0.62377068 -0.61606407 -0.70581919 -0.66545341\n",
            " -0.62546372 -0.61731018 -0.70581912 -0.66792659 -0.6268084  -0.61835551\n",
            " -0.70583057 -0.66862299 -0.6271982  -0.61866905 -0.70585831 -0.66926535\n",
            " -0.62756714 -0.61896956 -0.70588643 -0.66980272 -0.62788581 -0.61923146\n",
            " -0.70563572 -0.64850542 -0.61324801 -0.60695286 -0.70562851 -0.64914361\n",
            " -0.61364809 -0.60727223 -0.70562192 -0.64976609 -0.61403879 -0.60758542\n",
            " -0.70561986 -0.64997015 -0.61416697 -0.60768828 -0.70561785 -0.6501726\n",
            " -0.61429413 -0.60779051 -0.7056161  -0.65035333 -0.6144077  -0.6078819\n",
            " -0.70558704 -0.64690214 -0.61199823 -0.605876   -0.70558704 -0.64690214\n",
            " -0.61199823 -0.605876   -0.70558704 -0.64690214 -0.61199823 -0.605876\n",
            " -0.70558704 -0.64690214 -0.61199823 -0.605876   -0.70558704 -0.64690214\n",
            " -0.61199823 -0.605876   -0.70558704 -0.64690214 -0.61199823 -0.605876\n",
            " -1.33679333 -1.33679333 -1.33679333 -1.33679333 -1.33679333 -1.33679333\n",
            " -1.33679333 -1.33679333 -1.33679333 -1.33679333 -1.33679333 -1.33679333\n",
            " -1.33679333 -1.33679333 -1.33679333 -1.33679333 -1.33679333 -1.33679333\n",
            " -1.33679333 -1.33679333 -1.33679333 -1.33679333 -1.33679333 -1.33679333\n",
            " -1.33679333 -1.33679333 -1.33679333 -1.33679333 -1.33679333 -1.33679333\n",
            " -1.33679333 -1.33679333 -1.33679333 -1.33679333 -1.33679333 -1.33679333\n",
            " -1.33679333 -1.33679333 -1.33679333 -1.33679333 -1.33679333 -1.33679333\n",
            " -1.33679333 -1.33679333 -1.16488505 -1.06230184 -1.00046129 -0.96318969\n",
            " -1.33679333 -1.33679333 -1.33679333 -1.33679333 -1.10540782 -1.09253556\n",
            " -1.09193254 -1.09193254 -0.88871586 -0.85050623 -0.84344519 -0.84263559\n",
            " -0.84214149 -0.8003682  -0.79289493 -0.7918084  -0.80490358 -0.76275766\n",
            " -0.75664436 -0.75658296 -0.77810576 -0.73848602 -0.73529871 -0.73740799\n",
            " -0.7140995  -0.7141454  -0.7141454  -0.7141454  -0.71090083 -0.71058932\n",
            " -0.71058932 -0.71058932 -0.70849464 -0.7088867  -0.70936971 -0.70936956\n",
            " -0.70785751 -0.70878899 -0.70953966 -0.70953965 -0.70729879 -0.70871474\n",
            " -0.70971196 -0.70971123 -0.70686158 -0.70869115 -0.70771342 -0.70647021\n",
            " -0.7055066  -0.70553069 -0.6847559  -0.67743918 -0.70546528 -0.70122146\n",
            " -0.68544824 -0.67778675 -0.70544049 -0.69437591 -0.6847513  -0.6766743\n",
            " -0.70543401 -0.69301907 -0.68458677 -0.67666541 -0.70542833 -0.69191104\n",
            " -0.68404186 -0.67611152 -0.70542389 -0.6910485  -0.68331679 -0.67527615\n",
            " -0.7054613  -0.62611358 -0.61267612 -0.60384122 -0.70544271 -0.62761364\n",
            " -0.61775817 -0.60910934 -0.7054317  -0.63006348 -0.62209138 -0.61379679\n",
            " -0.70542907 -0.63102479 -0.62339728 -0.61521371 -0.70542682 -0.63203748\n",
            " -0.62464278 -0.61655652 -0.70542508 -0.6329838  -0.62571655 -0.61770277\n",
            " -0.70546914 -0.61695288 -0.60028405 -0.59033452 -0.70546633 -0.61690534\n",
            " -0.60076155 -0.59086989 -0.70546369 -0.61688001 -0.60123748 -0.59140384\n",
            " -0.70546285 -0.61687635 -0.6013957  -0.59158147 -0.70546202 -0.61687505\n",
            " -0.60155371 -0.59175893 -0.70546129 -0.61687587 -0.60169576 -0.59191846\n",
            " -0.7054702  -0.61602043 -0.59901887 -0.58881338 -0.7054702  -0.61602043\n",
            " -0.59901887 -0.58881338 -0.7054702  -0.61602043 -0.59901887 -0.58881338\n",
            " -0.7054702  -0.61602043 -0.59901887 -0.58881338 -0.7054702  -0.61602043\n",
            " -0.59901887 -0.58881338 -0.7054702  -0.61602043 -0.59901887 -0.58881338]\n",
            "=========================================================================\n",
            "Best Estimator:\n",
            "\n"
          ],
          "name": "stdout"
        },
        {
          "output_type": "execute_result",
          "data": {
            "text/plain": [
              "Pipeline(memory=None,\n",
              "         steps=[('poly',\n",
              "                 PolynomialFeatures(degree=3, include_bias=True,\n",
              "                                    interaction_only=False, order='C')),\n",
              "                ('scaler',\n",
              "                 StandardScaler(copy=True, with_mean=True, with_std=True)),\n",
              "                ('sk',\n",
              "                 SelectKBest(k=8,\n",
              "                             score_func=<function f_regression at 0x000001A19CEA5B88>)),\n",
              "                ('reg',\n",
              "                 ElasticNet(alpha=0, copy_X=True, fit_intercept=True,\n",
              "                            l1_ratio=0.9, max_iter=1000, normalize=False,\n",
              "                            positive=False, precompute=False, random_state=None,\n",
              "                            selection='cyclic', tol=0.0001,\n",
              "                            warm_start=False))],\n",
              "         verbose=False)"
            ]
          },
          "metadata": {
            "tags": []
          },
          "execution_count": 12
        }
      ]
    },
    {
      "cell_type": "markdown",
      "metadata": {
        "colab_type": "text",
        "id": "tY7A0oJ__fGr"
      },
      "source": [
        "> The mean CV scores for the `train` and `test` sets are very close and shows that we are not overfitting."
      ]
    },
    {
      "cell_type": "markdown",
      "metadata": {
        "colab_type": "text",
        "id": "AOxs3AJV_hvS"
      },
      "source": [
        "-----\n",
        "#### 1.1.2.6 Decision Tree"
      ]
    },
    {
      "cell_type": "markdown",
      "metadata": {
        "colab_type": "text",
        "id": "vimrNPP3_pJc"
      },
      "source": [
        "> `DecisionTreeRegressor` with `PolynomialFeatures` and `SelectKBest` methods for feature selection ||`GridSearchCV`||."
      ]
    },
    {
      "cell_type": "code",
      "metadata": {
        "colab_type": "code",
        "id": "VQIjzvB5cg1_",
        "colab": {
          "base_uri": "https://localhost:8080/",
          "height": 958
        },
        "outputId": "33f4c3ea-2a14-45a0-a86b-52448600034a"
      },
      "source": [
        "## Decision Tree\n",
        "tree_reg_start_time = time.perf_counter()\n",
        "tree_reg = Pipeline([(\"poly\", PolynomialFeatures()),\n",
        "                     (\"sk\", SelectKBest(score_func=f_regression)),\n",
        "                     (\"reg\", DecisionTreeRegressor())])\n",
        "tree_reg_param_grid = {\"reg__max_depth\": np.arange(3, 10),\n",
        "                       \"poly__degree\": [2, 3],\n",
        "                       \"sk__k\": [2, 4, 6, 8]}\n",
        "tree_reg_grid_search = GridSearchCV(tree_reg, tree_reg_param_grid, cv=5,\n",
        "                           scoring='neg_mean_squared_error', return_train_score=True)\n",
        "tree_reg_grid_search_fit = tree_reg_grid_search.fit(Xstrain, Ystrain)\n",
        "tree_reg_grid_search_fit_best = tree_reg_grid_search_fit.best_estimator_\n",
        "best_regressors.append(tree_reg_grid_search_fit_best)\n",
        "\n",
        "# Predict\n",
        "tree_reg_grid_search_pred = tree_reg_grid_search_fit_best.predict(Xstest)\n",
        "tree_reg_grid_search_pred_mse = mean_squared_error(Ystest, tree_reg_grid_search_pred)\n",
        "tree_reg_grid_search_pred_rmse = np.sqrt(tree_reg_grid_search_pred_mse)\n",
        "tree_reg_grid_search_pred_mae = mean_absolute_error(Ystest, tree_reg_grid_search_pred)\n",
        "tree_reg_grid_search_pred_r2 = r2_score(Ystest, tree_reg_grid_search_pred)\n",
        "tree_reg_compute_time = time.perf_counter() - tree_reg_start_time\n",
        "\n",
        "# Save the errors for final regression model comparisons\n",
        "best_regressors_cr[\"Decision Tree\"] = [tree_reg_grid_search_pred_rmse,\n",
        "                                       tree_reg_grid_search_pred_mse,\n",
        "                                       tree_reg_grid_search_pred_mae,\n",
        "                                       tree_reg_grid_search_pred_r2,\n",
        "                                       tree_reg_grid_search_fit.best_params_[\"poly__degree\"],\n",
        "                                       tree_reg_grid_search_fit.best_params_[\"sk__k\"],\n",
        "                                       \"-\", \"-\", tree_reg_compute_time]\n",
        "\n",
        "# Report results\n",
        "print(\"Best Parameters:\\n\"+ 16*\"=\"); get_best_parameters(tree_reg_grid_search_fit)\n",
        "print(25*\"=\" + \"\\nComputation_time = %1.3f\\n\" %tree_reg_compute_time + 38*\"=\")\n",
        "print(\"Decision Tree Regression RMSE = %.4f\" %tree_reg_grid_search_pred_rmse)\n",
        "print(\"Decision Tree Regression MSE  = %.4f\" %tree_reg_grid_search_pred_mse)\n",
        "print(\"Decision Tree Regression MAE  = %.4f\" %tree_reg_grid_search_pred_mae); print(38*\"=\")\n",
        "print(\"mean train CV score = \\n{}\".format(tree_reg_grid_search.cv_results_[\"mean_train_score\"]))\n",
        "print(\"\\nmean test CV score  = \\n{}\".format(tree_reg_grid_search.cv_results_[\"mean_test_score\"]))\n",
        "print(72*\"=\" + \"\\nDetails:\\n\"); tree_reg_grid_search_fit_best"
      ],
      "execution_count": null,
      "outputs": [
        {
          "output_type": "stream",
          "text": [
            "Best Parameters:\n",
            "================\n",
            "poly__degree = 2\n",
            "reg__max_depth = 7\n",
            "sk__k = 8\n",
            "=========================\n",
            "Computation_time = 35.343\n",
            "======================================\n",
            "Decision Tree Regression RMSE = 0.7486\n",
            "Decision Tree Regression MSE  = 0.5603\n",
            "Decision Tree Regression MAE  = 0.5388\n",
            "======================================\n",
            "mean train CV score = \n",
            "[-0.68939232 -0.68939232 -0.65936444 -0.65565006 -0.67757963 -0.67709465\n",
            " -0.61714709 -0.61222599 -0.66918545 -0.65943767 -0.58645804 -0.57651271\n",
            " -0.6597493  -0.64209005 -0.54803378 -0.53099296 -0.6454054  -0.62068347\n",
            " -0.51352149 -0.48993164 -0.62969853 -0.59324582 -0.47544517 -0.44862666\n",
            " -0.60969291 -0.56054002 -0.43563289 -0.40335379 -0.68934411 -0.68876238\n",
            " -0.68876238 -0.68881531 -0.67698607 -0.67531368 -0.67254537 -0.67291354\n",
            " -0.66937135 -0.65463363 -0.65057239 -0.65049034 -0.65945583 -0.63184775\n",
            " -0.62667948 -0.62749577 -0.64541582 -0.60001752 -0.60182234 -0.60144047\n",
            " -0.62782425 -0.56263473 -0.56692824 -0.5649062  -0.60614927 -0.51934738\n",
            " -0.52943078 -0.52663546]\n",
            "\n",
            "mean test CV score  = \n",
            "[-0.69994112 -0.69994112 -0.67400574 -0.6693341  -0.69004472 -0.69009999\n",
            " -0.6384505  -0.63548948 -0.69273568 -0.68494552 -0.62121242 -0.61070756\n",
            " -0.69746713 -0.68394637 -0.60188195 -0.58882853 -0.7043263  -0.68160234\n",
            " -0.60097909 -0.58681565 -0.71737508 -0.68613046 -0.60916293 -0.58891791\n",
            " -0.72882473 -0.68836374 -0.63345615 -0.61505791 -0.69888625 -0.70031704\n",
            " -0.70031704 -0.70000442 -0.68674808 -0.69042569 -0.69084378 -0.68976111\n",
            " -0.69062522 -0.681189   -0.6747254  -0.67608975 -0.69640315 -0.67222788\n",
            " -0.6680922  -0.67036296 -0.70669774 -0.66481487 -0.66853295 -0.66875037\n",
            " -0.72766113 -0.66053024 -0.66956106 -0.66480102 -0.7400197  -0.65625093\n",
            " -0.66810908 -0.66837688]\n",
            "========================================================================\n",
            "Details:\n",
            "\n"
          ],
          "name": "stdout"
        },
        {
          "output_type": "execute_result",
          "data": {
            "text/plain": [
              "Pipeline(memory=None,\n",
              "         steps=[('poly',\n",
              "                 PolynomialFeatures(degree=2, include_bias=True,\n",
              "                                    interaction_only=False, order='C')),\n",
              "                ('sk',\n",
              "                 SelectKBest(k=8,\n",
              "                             score_func=<function f_regression at 0x000001A19CEA5B88>)),\n",
              "                ('reg',\n",
              "                 DecisionTreeRegressor(ccp_alpha=0.0, criterion='mse',\n",
              "                                       max_depth=7, max_features=None,\n",
              "                                       max_leaf_nodes=None,\n",
              "                                       min_impurity_decrease=0.0,\n",
              "                                       min_impurity_split=None,\n",
              "                                       min_samples_leaf=1, min_samples_split=2,\n",
              "                                       min_weight_fraction_leaf=0.0,\n",
              "                                       presort='deprecated', random_state=None,\n",
              "                                       splitter='best'))],\n",
              "         verbose=False)"
            ]
          },
          "metadata": {
            "tags": []
          },
          "execution_count": 13
        }
      ]
    },
    {
      "cell_type": "markdown",
      "metadata": {
        "colab_type": "text",
        "id": "QzjVeJUSBORT"
      },
      "source": [
        "> The difference between the mean CV scores for the `train` and `test` sets is more than previous regressors but still it is small."
      ]
    },
    {
      "cell_type": "markdown",
      "metadata": {
        "colab_type": "text",
        "id": "NpUw_WbCBOIR"
      },
      "source": [
        "-----\n",
        "#### 1.1.2.7 Random Forests"
      ]
    },
    {
      "cell_type": "markdown",
      "metadata": {
        "colab_type": "text",
        "id": "TtKQD_2mBnAS"
      },
      "source": [
        "> We run `RandomForestRegressor` regression, having added the `PolynomialFeatures` and `SelectKBest` methods to the pipeline for feature selection but this time we use `RandomizedSearchCV` to tune the parameters."
      ]
    },
    {
      "cell_type": "code",
      "metadata": {
        "colab_type": "code",
        "id": "JpH8sprcjhhT",
        "colab": {
          "base_uri": "https://localhost:8080/",
          "height": 487
        },
        "outputId": "fc0dc5b7-a3b2-4aaf-fe0d-503c279b85d5"
      },
      "source": [
        "## Random Forests Tree I (RandomizedSearchCV)\n",
        "forest_reg_start_time = time.perf_counter()\n",
        "forest_reg = RandomForestRegressor()\n",
        "forest_reg_param_distrib = {\"n_estimators\": randint(low=5, high=100),\n",
        "                            \"max_features\": randint(low=2, high=8)}\n",
        "forest_reg_rand_search = RandomizedSearchCV(forest_reg, forest_reg_param_distrib, cv=5, n_iter=10,\n",
        "                                            scoring='neg_mean_squared_error', return_train_score=True)\n",
        "forest_reg_rand_search_fit = forest_reg_rand_search.fit(Xstrain, Ystrain)\n",
        "forest_reg_rand_search_fit_best = forest_reg_rand_search_fit.best_estimator_\n",
        "best_regressors.append(forest_reg_rand_search_fit_best)\n",
        "\n",
        "# Predict\n",
        "forest_reg_rand_search_pred = forest_reg_rand_search_fit_best.predict(Xstest)\n",
        "forest_reg_rand_search_pred_mse = mean_squared_error(Ystest, forest_reg_rand_search_pred)\n",
        "forest_reg_rand_search_pred_rmse = np.sqrt(forest_reg_rand_search_pred_mse)\n",
        "forest_reg_rand_search_pred_mae = mean_absolute_error(Ystest, forest_reg_rand_search_pred)\n",
        "forest_reg_rand_search_pred_r2 = r2_score(Ystest, forest_reg_rand_search_pred)\n",
        "forest_reg_compute_time = time.perf_counter() - forest_reg_start_time\n",
        "\n",
        "# Save the errors for final regression model comparisons\n",
        "best_regressors_cr[\"Random Forest\"] = [forest_reg_rand_search_pred_rmse,\n",
        "                                       forest_reg_rand_search_pred_mse,\n",
        "                                       forest_reg_rand_search_pred_mae,\n",
        "                                       forest_reg_rand_search_pred_r2,\n",
        "                                       \"-\", \"-\", \"-\", \"-\", forest_reg_compute_time]\n",
        "\n",
        "# Report results\n",
        "print(\"Best Parameters:\\n\"+ 16*\"=\"); get_best_parameters(forest_reg_rand_search_fit)\n",
        "print(25*\"=\" + \"\\nComputation_time = %1.2f\\n\" %forest_reg_compute_time + 38*\"=\")\n",
        "print(\"Random Forest Regression RMSE = %.4f\" %forest_reg_rand_search_pred_rmse)\n",
        "print(\"Random Forest Regression MSE  = %.4f\" %forest_reg_rand_search_pred_mse)\n",
        "print(\"Random Forest Regression MAE  = %.4f\" %forest_reg_rand_search_pred_mae); print(38*\"=\")\n",
        "print(\"mean train CV score = \\n{}\".format(forest_reg_rand_search.cv_results_[\"mean_train_score\"]))\n",
        "print(\"\\nmean test CV score  = \\n{}\".format(forest_reg_rand_search.cv_results_[\"mean_test_score\"]))\n",
        "print(72*\"=\" + \"\\nDetails:\\n\"); forest_reg_rand_search_fit_best"
      ],
      "execution_count": null,
      "outputs": [
        {
          "output_type": "stream",
          "text": [
            "Best Parameters:\n",
            "================\n",
            "max_features = 3\n",
            "n_estimators = 59\n",
            "=========================\n",
            "Computation_time = 164.66\n",
            "======================================\n",
            "Random Forest Regression RMSE = 0.4803\n",
            "Random Forest Regression MSE  = 0.2307\n",
            "Random Forest Regression MAE  = 0.3212\n",
            "======================================\n",
            "mean train CV score = \n",
            "[-0.0360674  -0.03678531 -0.03585972 -0.04077506 -0.0386582  -0.03714244\n",
            " -0.06038708 -0.0405081  -0.0373122  -0.03610858]\n",
            "\n",
            "mean test CV score  = \n",
            "[-0.24704466 -0.25464819 -0.25200492 -0.25814358 -0.25361185 -0.25234119\n",
            " -0.2980926  -0.26552585 -0.26120998 -0.25032598]\n",
            "========================================================================\n",
            "Details:\n",
            "\n"
          ],
          "name": "stdout"
        },
        {
          "output_type": "execute_result",
          "data": {
            "text/plain": [
              "RandomForestRegressor(bootstrap=True, ccp_alpha=0.0, criterion='mse',\n",
              "                      max_depth=None, max_features=3, max_leaf_nodes=None,\n",
              "                      max_samples=None, min_impurity_decrease=0.0,\n",
              "                      min_impurity_split=None, min_samples_leaf=1,\n",
              "                      min_samples_split=2, min_weight_fraction_leaf=0.0,\n",
              "                      n_estimators=59, n_jobs=None, oob_score=False,\n",
              "                      random_state=None, verbose=0, warm_start=False)"
            ]
          },
          "metadata": {
            "tags": []
          },
          "execution_count": 14
        }
      ]
    },
    {
      "cell_type": "markdown",
      "metadata": {
        "colab_type": "text",
        "id": "GsOAFvuEEnRB"
      },
      "source": [
        "> We have the widest gap between the mean CV scores for the `train` and `test` sets compared to the previous regressors. However, the `test` CV scores are smaller compared to the previous models but chances are we are not overfitting. Let's try `RandomForestRegressor` using `GridSearchCV` to what we get."
      ]
    },
    {
      "cell_type": "code",
      "metadata": {
        "colab_type": "code",
        "id": "lf732SKKHqQl",
        "colab": {
          "base_uri": "https://localhost:8080/",
          "height": 521
        },
        "outputId": "e3e7afd9-dd84-4a60-b49e-0b49b655a4a0"
      },
      "source": [
        "## Random Forest II (GridSearchCV)\n",
        "forest_reg_II_start_time = time.perf_counter()\n",
        "forest_reg_II = RandomForestRegressor()\n",
        "forest_reg_param_grid = {\"n_estimators\": [5, 50, 80, 100],\n",
        "                         \"max_features\": [2, 4, 6, 8]}\n",
        "forest_reg_grid_search = GridSearchCV(forest_reg_II, forest_reg_param_grid, cv=5,\n",
        "                           scoring='neg_mean_squared_error', return_train_score=True)\n",
        "forest_reg_grid_search_fit = forest_reg_grid_search.fit(Xstrain, Ystrain)\n",
        "forest_reg_grid_search_fit_best = forest_reg_grid_search_fit.best_estimator_\n",
        "best_regressors.append(forest_reg_grid_search_fit_best)\n",
        "\n",
        "# Predict\n",
        "forest_reg_grid_search_pred = forest_reg_grid_search_fit_best.predict(Xstest)\n",
        "forest_reg_grid_search_pred_mse = mean_squared_error(Ystest, forest_reg_grid_search_pred)\n",
        "forest_reg_grid_search_pred_rmse = np.sqrt(forest_reg_grid_search_pred_mse)\n",
        "forest_reg_grid_search_pred_mae = mean_absolute_error(Ystest, forest_reg_grid_search_pred)\n",
        "forest_reg_grid_search_pred_r2 = r2_score(Ystest, forest_reg_grid_search_pred)\n",
        "forest_reg_II_compute_time = time.perf_counter() - forest_reg_II_start_time\n",
        "\n",
        "# Save the errors for final regression model comparisons\n",
        "best_regressors_cr[\"Random Forest II\"] = [forest_reg_grid_search_pred_rmse,\n",
        "                                          forest_reg_grid_search_pred_mse,\n",
        "                                          forest_reg_grid_search_pred_mae,\n",
        "                                          forest_reg_grid_search_pred_r2,\n",
        "                                          \"-\", \"-\",\"-\", \"-\", forest_reg_II_compute_time]\n",
        "\n",
        "# Report errors and scores\n",
        "print(\"Best Parameters:\\n\"+ 16*\"=\"); get_best_parameters(forest_reg_grid_search_fit)\n",
        "print(25*\"=\" + \"\\nComputation_time = %1.2f\\n\" %forest_reg_II_compute_time + 41*\"=\")\n",
        "print(\"Random Forest II Regression RMSE = %.4f\" %forest_reg_grid_search_pred_rmse)\n",
        "print(\"Random Forest II Regression MSE  = %.4f\" %forest_reg_grid_search_pred_mse)\n",
        "print(\"Random Forest II Regression MAE  = %.4f\" %forest_reg_grid_search_pred_mae); print(41*\"=\")\n",
        "print(\"mean train CV score = \\n{}\".format(forest_reg_grid_search.cv_results_[\"mean_train_score\"]))\n",
        "print(\"\\nmean test CV score  = \\n{}\".format(forest_reg_grid_search.cv_results_[\"mean_test_score\"]))\n",
        "print(72*\"=\" + \"\\nDetails:\\n\"); forest_reg_grid_search_fit_best"
      ],
      "execution_count": null,
      "outputs": [
        {
          "output_type": "stream",
          "text": [
            "Best Parameters:\n",
            "================\n",
            "max_features = 2\n",
            "n_estimators = 100\n",
            "=========================\n",
            "Computation_time = 300.48\n",
            "=========================================\n",
            "Random Forest II Regression RMSE = 0.4868\n",
            "Random Forest II Regression MSE  = 0.2370\n",
            "Random Forest II Regression MAE  = 0.3301\n",
            "=========================================\n",
            "mean train CV score = \n",
            "[-0.07286395 -0.03758424 -0.03610891 -0.0353696  -0.07004139 -0.03724119\n",
            " -0.0358779  -0.03571492 -0.07222097 -0.03854001 -0.0371497  -0.03662915\n",
            " -0.07197942 -0.03939137 -0.03757846 -0.03712628]\n",
            "\n",
            "mean test CV score  = \n",
            "[-0.32239179 -0.25364076 -0.25131963 -0.24864769 -0.3190279  -0.25303393\n",
            " -0.25105702 -0.25013142 -0.32130209 -0.2637834  -0.25884954 -0.25809588\n",
            " -0.32637641 -0.26729843 -0.26342059 -0.26115364]\n",
            "========================================================================\n",
            "Details:\n",
            "\n"
          ],
          "name": "stdout"
        },
        {
          "output_type": "execute_result",
          "data": {
            "text/plain": [
              "RandomForestRegressor(bootstrap=True, ccp_alpha=0.0, criterion='mse',\n",
              "                      max_depth=None, max_features=2, max_leaf_nodes=None,\n",
              "                      max_samples=None, min_impurity_decrease=0.0,\n",
              "                      min_impurity_split=None, min_samples_leaf=1,\n",
              "                      min_samples_split=2, min_weight_fraction_leaf=0.0,\n",
              "                      n_estimators=100, n_jobs=None, oob_score=False,\n",
              "                      random_state=None, verbose=0, warm_start=False)"
            ]
          },
          "metadata": {
            "tags": []
          },
          "execution_count": 15
        }
      ]
    },
    {
      "cell_type": "markdown",
      "metadata": {
        "colab_type": "text",
        "id": "fS0hGK4EN65a"
      },
      "source": [
        "> The difference between the mean CV scores for the `train` and `test` sets is more `RandomizedSearchCV` version but MSE and MAE are greater. "
      ]
    },
    {
      "cell_type": "markdown",
      "metadata": {
        "colab_type": "text",
        "id": "OIORqx4kEall"
      },
      "source": [
        "-----\n",
        "### 1.1.3 Comparing Models"
      ]
    },
    {
      "cell_type": "code",
      "metadata": {
        "colab_type": "code",
        "id": "7ISnF-PxPgCR",
        "colab": {
          "base_uri": "https://localhost:8080/",
          "height": 235
        },
        "outputId": "549d2170-d56d-4417-e814-7db9544fcfaa"
      },
      "source": [
        "## Compare the predictions with Ystest\n",
        "print(\"Predictions (same order as before):\\n\")\n",
        "for regr in best_regressors:\n",
        "  print(regr.predict(Xstest).round(3))\n",
        "print(\"\\nYstest:\\n\" + str(Ystest.round(3)))"
      ],
      "execution_count": null,
      "outputs": [
        {
          "output_type": "stream",
          "text": [
            "Predictions (same order as before):\n",
            "\n",
            "[2.342 1.596 0.852 ... 2.558 3.342 4.59 ]\n",
            "[2.34  1.596 0.857 ... 2.556 3.343 4.587]\n",
            "[2.288 1.532 1.223 ... 2.258 3.835 4.18 ]\n",
            "[2.342 1.596 0.852 ... 2.558 3.342 4.59 ]\n",
            "[2.288 1.532 1.223 ... 2.258 3.835 4.18 ]\n",
            "[1.962 1.934 1.261 ... 1.962 3.835 4.672]\n",
            "[1.897 1.731 0.771 ... 2.283 3.456 4.706]\n",
            "[1.731 1.732 0.85  ... 2.383 3.517 4.57 ]\n",
            "\n",
            "Ystest:\n",
            "[2.938 1.75  0.574 ... 2.359 3.505 5.   ]\n"
          ],
          "name": "stdout"
        }
      ]
    },
    {
      "cell_type": "code",
      "metadata": {
        "colab_type": "code",
        "id": "DCkj15fU1rKa",
        "colab": {
          "base_uri": "https://localhost:8080/",
          "height": 284
        },
        "outputId": "974faf1e-05e3-4765-df19-5522361ac496"
      },
      "source": [
        "## Compare regressors\n",
        "best_regressors_cr_df = pd.DataFrame.from_dict(best_regressors_cr, orient='index',\n",
        "                                               columns=[\"RMSE\", \"MSE\", \"MAE\", \"R2\", \"Poly-Deg\",\n",
        "                                                        \"K-Best\", \"alpha\", \"L1-Ratio\",\"Comp-Time\"])\n",
        "best_regressors_cr_df"
      ],
      "execution_count": null,
      "outputs": [
        {
          "output_type": "execute_result",
          "data": {
            "text/html": [
              "<div>\n",
              "<style scoped>\n",
              "    .dataframe tbody tr th:only-of-type {\n",
              "        vertical-align: middle;\n",
              "    }\n",
              "\n",
              "    .dataframe tbody tr th {\n",
              "        vertical-align: top;\n",
              "    }\n",
              "\n",
              "    .dataframe thead th {\n",
              "        text-align: right;\n",
              "    }\n",
              "</style>\n",
              "<table border=\"1\" class=\"dataframe\">\n",
              "  <thead>\n",
              "    <tr style=\"text-align: right;\">\n",
              "      <th></th>\n",
              "      <th>RMSE</th>\n",
              "      <th>MSE</th>\n",
              "      <th>MAE</th>\n",
              "      <th>R2</th>\n",
              "      <th>Poly-Deg</th>\n",
              "      <th>K-Best</th>\n",
              "      <th>alpha</th>\n",
              "      <th>L1-Ratio</th>\n",
              "      <th>Comp-Time</th>\n",
              "    </tr>\n",
              "  </thead>\n",
              "  <tbody>\n",
              "    <tr>\n",
              "      <th>Linear</th>\n",
              "      <td>0.712040</td>\n",
              "      <td>0.507001</td>\n",
              "      <td>0.524339</td>\n",
              "      <td>0.613162</td>\n",
              "      <td>2</td>\n",
              "      <td>6</td>\n",
              "      <td>-</td>\n",
              "      <td>-</td>\n",
              "      <td>5.534568</td>\n",
              "    </tr>\n",
              "    <tr>\n",
              "      <th>Ridge</th>\n",
              "      <td>0.712024</td>\n",
              "      <td>0.506978</td>\n",
              "      <td>0.524374</td>\n",
              "      <td>0.613179</td>\n",
              "      <td>2</td>\n",
              "      <td>6</td>\n",
              "      <td>0.01</td>\n",
              "      <td>-</td>\n",
              "      <td>42.863136</td>\n",
              "    </tr>\n",
              "    <tr>\n",
              "      <th>LASSO</th>\n",
              "      <td>0.750433</td>\n",
              "      <td>0.563149</td>\n",
              "      <td>0.556163</td>\n",
              "      <td>0.570321</td>\n",
              "      <td>3</td>\n",
              "      <td>8</td>\n",
              "      <td>0</td>\n",
              "      <td>-</td>\n",
              "      <td>49.855419</td>\n",
              "    </tr>\n",
              "    <tr>\n",
              "      <th>LARS</th>\n",
              "      <td>0.712040</td>\n",
              "      <td>0.507001</td>\n",
              "      <td>0.524339</td>\n",
              "      <td>0.613162</td>\n",
              "      <td>2</td>\n",
              "      <td>6</td>\n",
              "      <td>0</td>\n",
              "      <td>-</td>\n",
              "      <td>43.752914</td>\n",
              "    </tr>\n",
              "    <tr>\n",
              "      <th>Elastic Net</th>\n",
              "      <td>0.750433</td>\n",
              "      <td>0.563149</td>\n",
              "      <td>0.556163</td>\n",
              "      <td>0.570321</td>\n",
              "      <td>3</td>\n",
              "      <td>8</td>\n",
              "      <td>0</td>\n",
              "      <td>0.9</td>\n",
              "      <td>298.972989</td>\n",
              "    </tr>\n",
              "    <tr>\n",
              "      <th>Decision Tree</th>\n",
              "      <td>0.748553</td>\n",
              "      <td>0.560332</td>\n",
              "      <td>0.538830</td>\n",
              "      <td>0.572471</td>\n",
              "      <td>2</td>\n",
              "      <td>8</td>\n",
              "      <td>-</td>\n",
              "      <td>-</td>\n",
              "      <td>35.342943</td>\n",
              "    </tr>\n",
              "    <tr>\n",
              "      <th>Random Forest</th>\n",
              "      <td>0.480346</td>\n",
              "      <td>0.230732</td>\n",
              "      <td>0.321237</td>\n",
              "      <td>0.823953</td>\n",
              "      <td>-</td>\n",
              "      <td>-</td>\n",
              "      <td>-</td>\n",
              "      <td>-</td>\n",
              "      <td>164.659506</td>\n",
              "    </tr>\n",
              "    <tr>\n",
              "      <th>Random Forest II</th>\n",
              "      <td>0.486789</td>\n",
              "      <td>0.236963</td>\n",
              "      <td>0.330119</td>\n",
              "      <td>0.819199</td>\n",
              "      <td>-</td>\n",
              "      <td>-</td>\n",
              "      <td>-</td>\n",
              "      <td>-</td>\n",
              "      <td>300.483322</td>\n",
              "    </tr>\n",
              "  </tbody>\n",
              "</table>\n",
              "</div>"
            ],
            "text/plain": [
              "                      RMSE       MSE       MAE        R2 Poly-Deg K-Best  \\\n",
              "Linear            0.712040  0.507001  0.524339  0.613162        2      6   \n",
              "Ridge             0.712024  0.506978  0.524374  0.613179        2      6   \n",
              "LASSO             0.750433  0.563149  0.556163  0.570321        3      8   \n",
              "LARS              0.712040  0.507001  0.524339  0.613162        2      6   \n",
              "Elastic Net       0.750433  0.563149  0.556163  0.570321        3      8   \n",
              "Decision Tree     0.748553  0.560332  0.538830  0.572471        2      8   \n",
              "Random Forest     0.480346  0.230732  0.321237  0.823953        -      -   \n",
              "Random Forest II  0.486789  0.236963  0.330119  0.819199        -      -   \n",
              "\n",
              "                 alpha L1-Ratio   Comp-Time  \n",
              "Linear               -        -    5.534568  \n",
              "Ridge             0.01        -   42.863136  \n",
              "LASSO                0        -   49.855419  \n",
              "LARS                 0        -   43.752914  \n",
              "Elastic Net          0      0.9  298.972989  \n",
              "Decision Tree        -        -   35.342943  \n",
              "Random Forest        -        -  164.659506  \n",
              "Random Forest II     -        -  300.483322  "
            ]
          },
          "metadata": {
            "tags": []
          },
          "execution_count": 17
        }
      ]
    },
    {
      "cell_type": "markdown",
      "metadata": {
        "colab_type": "text",
        "id": "sm6bpA2vu394"
      },
      "source": [
        "> As we can see, `RandomForestRegressor` gives the lowest RMSE and the highest `R_Squared`.\n"
      ]
    }
  ]
}